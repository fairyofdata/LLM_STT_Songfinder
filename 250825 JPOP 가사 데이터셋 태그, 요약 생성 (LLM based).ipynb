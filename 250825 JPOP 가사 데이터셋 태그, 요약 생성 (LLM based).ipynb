{
 "cells": [
  {
   "cell_type": "code",
   "execution_count": null,
   "metadata": {
    "colab": {
     "base_uri": "https://localhost:8080/",
     "height": 850
    },
    "executionInfo": {
     "elapsed": 12040,
     "status": "ok",
     "timestamp": 1756120426343,
     "user": {
      "displayName": "ペク チホン 白知憲 백지헌 ソウル",
      "userId": "01676323946267625609"
     },
     "user_tz": -540
    },
    "id": "AmRVm8lW8pch",
    "outputId": "e5f6464e-ae9c-4262-8930-8518927f5ca6"
   },
   "outputs": [
    {
     "name": "stdout",
     "output_type": "stream",
     "text": [
      "Requirement already satisfied: openai in /usr/local/lib/python3.12/dist-packages (1.100.0)\n",
      "Requirement already satisfied: anyio<5,>=3.5.0 in /usr/local/lib/python3.12/dist-packages (from openai) (4.10.0)\n",
      "Requirement already satisfied: distro<2,>=1.7.0 in /usr/local/lib/python3.12/dist-packages (from openai) (1.9.0)\n",
      "Requirement already satisfied: httpx<1,>=0.23.0 in /usr/local/lib/python3.12/dist-packages (from openai) (0.28.1)\n",
      "Requirement already satisfied: jiter<1,>=0.4.0 in /usr/local/lib/python3.12/dist-packages (from openai) (0.10.0)\n",
      "Requirement already satisfied: pydantic<3,>=1.9.0 in /usr/local/lib/python3.12/dist-packages (from openai) (2.11.7)\n",
      "Requirement already satisfied: sniffio in /usr/local/lib/python3.12/dist-packages (from openai) (1.3.1)\n",
      "Requirement already satisfied: tqdm>4 in /usr/local/lib/python3.12/dist-packages (from openai) (4.67.1)\n",
      "Requirement already satisfied: typing-extensions<5,>=4.11 in /usr/local/lib/python3.12/dist-packages (from openai) (4.14.1)\n",
      "Requirement already satisfied: idna>=2.8 in /usr/local/lib/python3.12/dist-packages (from anyio<5,>=3.5.0->openai) (3.10)\n",
      "Requirement already satisfied: certifi in /usr/local/lib/python3.12/dist-packages (from httpx<1,>=0.23.0->openai) (2025.8.3)\n",
      "Requirement already satisfied: httpcore==1.* in /usr/local/lib/python3.12/dist-packages (from httpx<1,>=0.23.0->openai) (1.0.9)\n",
      "Requirement already satisfied: h11>=0.16 in /usr/local/lib/python3.12/dist-packages (from httpcore==1.*->httpx<1,>=0.23.0->openai) (0.16.0)\n",
      "Requirement already satisfied: annotated-types>=0.6.0 in /usr/local/lib/python3.12/dist-packages (from pydantic<3,>=1.9.0->openai) (0.7.0)\n",
      "Requirement already satisfied: pydantic-core==2.33.2 in /usr/local/lib/python3.12/dist-packages (from pydantic<3,>=1.9.0->openai) (2.33.2)\n",
      "Requirement already satisfied: typing-inspection>=0.4.0 in /usr/local/lib/python3.12/dist-packages (from pydantic<3,>=1.9.0->openai) (0.4.1)\n",
      "--- 테스트 모드: 랜덤 5곡에 대해서만 작업을 수행합니다. ---\n"
     ]
    },
    {
     "name": "stderr",
     "output_type": "stream",
     "text": [
      "특징 추출 중:  20%|██        | 1/5 [00:01<00:04,  1.09s/it]"
     ]
    },
    {
     "name": "stdout",
     "output_type": "stream",
     "text": [
      "\n",
      "[결과] 嵐 (ARASHI) - Love so sweet\n",
      "  - 태그: ['사랑', '이별', '추억']\n",
      "  - 요약: 서로를 사랑하게 되어 빛나는 순간부터 이별의 아픔과 함께 떠나는 추억을 담은 노래\n",
      "-------------------------\n"
     ]
    },
    {
     "name": "stderr",
     "output_type": "stream",
     "text": [
      "\r특징 추출 중:  40%|████      | 2/5 [00:01<00:02,  1.06it/s]"
     ]
    },
    {
     "name": "stdout",
     "output_type": "stream",
     "text": [
      "\n",
      "[결과] Hemenway(헤멘웨이) - 優しい言葉 (Yasashii Kotobai / 상냥한 말)\n",
      "  - 태그: ['이별', '회상', '그리움']\n",
      "  - 요약: 지나간 이별과 회상에 젖어있는 노래. 그리움과 회한을 담은 가사 속에서 향수를 느낄 수 있음\n",
      "-------------------------\n"
     ]
    },
    {
     "name": "stderr",
     "output_type": "stream",
     "text": [
      "\r특징 추출 중:  60%|██████    | 3/5 [00:03<00:02,  1.09s/it]"
     ]
    },
    {
     "name": "stdout",
     "output_type": "stream",
     "text": [
      "\n",
      "[결과] SPYAIR(스파이에어/スパイエアー) - Orange\n",
      "  - 태그: ['이별', '회상', '추억']\n",
      "  - 요약: 이별을 앞둔 두 사람의 마지막 순간을 회상하며 서로에 대한 추억을 재조명하는 노래\n",
      "-------------------------\n"
     ]
    },
    {
     "name": "stderr",
     "output_type": "stream",
     "text": [
      "\r특징 추출 중:  80%|████████  | 4/5 [00:04<00:01,  1.09s/it]"
     ]
    },
    {
     "name": "stdout",
     "output_type": "stream",
     "text": [
      "\n",
      "[결과] ZUTOMAYO - MIRROR TUNE\n",
      "  - 태그: ['도전', '자기계발', '긍정']\n",
      "  - 요약: 도전과 성장을 향한 긍정적인 마음가짐을 담은 노래. 자기계발과 자신을 믿는 용기를 주제로 함\n",
      "-------------------------\n"
     ]
    },
    {
     "name": "stderr",
     "output_type": "stream",
     "text": [
      "특징 추출 중: 100%|██████████| 5/5 [00:05<00:00,  1.02s/it]"
     ]
    },
    {
     "name": "stdout",
     "output_type": "stream",
     "text": [
      "\n",
      "[결과] Lisa Ono(리사 오노/小野リサ) - Dans Mon Ile\n",
      "  - 태그: ['낭만', '낙원', '해변']\n",
      "  - 요약: 해변가의 낙원 같은 섬에서 아무것도 하지 않고 햇빛을 쬐며 휴식을 취하는 모습을 담은 로맨틱한 노래\n",
      "-------------------------\n",
      "\n",
      "--- 모든 테스트 작업 완료 ---\n",
      "\n",
      "결과가 'jpop_dataset_with_features.json' 파일로 저장되었습니다.\n"
     ]
    },
    {
     "name": "stderr",
     "output_type": "stream",
     "text": [
      "\n"
     ]
    },
    {
     "data": {
      "application/vnd.google.colaboratory.intrinsic+json": {
       "type": "string"
      },
      "text/plain": [
       "''"
      ]
     },
     "execution_count": 3,
     "metadata": {},
     "output_type": "execute_result"
    }
   ],
   "source": [
    "!pip install openai # Colab에서 openai 라이브러리를 설치합니다.\n",
    "\n",
    "import pandas as pd\n",
    "import json\n",
    "import time\n",
    "import random\n",
    "from tqdm import tqdm\n",
    "import os\n",
    "from openai import OpenAI # openai 라이브러리 import\n",
    "\n",
    "# 1. 데이터셋 로드\n",
    "file_path = 'canonical_jpop_dataset.csv'\n",
    "try:\n",
    "    df = pd.read_csv(file_path)\n",
    "except FileNotFoundError:\n",
    "    print(f\"'{file_path}' 파일을 찾을 수 없습니다. Colab에 파일을 업로드했는지 확인해주세요.\")\n",
    "    data = {'artist': ['Artist A', 'Artist B'],\n",
    "            'title': ['Title 1', 'Title 2'],\n",
    "            'lyrics': ['사랑과 희망에 대한 노래입니다. 밝고 긍정적인 분위기.', '이별의 슬픔을 노래합니다. 어둡고 애절한 감성.']}\n",
    "    df = pd.DataFrame(data)\n",
    "    print(\"예시 데이터프레임으로 작업을 계속합니다.\")\n",
    "\n",
    "# --- 최종 실행 시 이 부분을 주석 처리하거나 df를 그대로 사용하세요 ---\n",
    "test_df = df.sample(5)\n",
    "print(f\"--- 테스트 모드: 랜덤 5곡에 대해서만 작업을 수행합니다. ---\")\n",
    "# -----------------------------------------\n",
    "\n",
    "# 2. OpenAI API 클라이언트 설정\n",
    "try:\n",
    "    from google.colab import userdata\n",
    "    api_key = userdata.get('OPENAI_API_KEY')\n",
    "    client = OpenAI(api_key=api_key)\n",
    "except (ImportError, KeyError):\n",
    "    print(\"Colab 비밀을 찾을 수 없습니다. API 키를 직접 입력해주세요.\")\n",
    "    api_key = \"YOUR_API_KEY\"\n",
    "    if api_key == \"YOUR_API_KEY\":\n",
    "        print(\"경고: 유효한 OpenAI API 키를 입력해야 합니다.\")\n",
    "        client = None\n",
    "    else:\n",
    "        client = OpenAI(api_key=api_key)\n",
    "\n",
    "def post_process_summary(summary: str) -> str:\n",
    "    \"\"\"\n",
    "    LLM이 생성한 요약문 중 특정 단어로 끝나는 경우에만 '~노래'로 교정하는 가벼운 후처리 함수.\n",
    "    \"\"\"\n",
    "    summary = summary.strip().rstrip('.')\n",
    "    endings_to_replace = [\"가사\", \"이야기\", \"내용\"]\n",
    "    for ending in endings_to_replace:\n",
    "        if summary.endswith(ending):\n",
    "            return summary[:-len(ending)].strip() + \" 노래\"\n",
    "    return summary\n",
    "\n",
    "def get_features_from_openai(lyrics):\n",
    "    \"\"\"\n",
    "    가사를 입력받아 OpenAI API를 통해 특징(태그, 요약)을 JSON 형태로 받아오는 함수.\n",
    "    Few-shot 프롬프트를 사용하여 안정성을 높였습니다.\n",
    "    \"\"\"\n",
    "    if not client:\n",
    "        time.sleep(0.5)\n",
    "        return {\"tags\": random.sample([\"사랑\", \"희망\", \"청춘\"], 3), \"summary\": \"API 클라이언트가 설정되지 않아 생성된 임시 요약입니다.\"}\n",
    "\n",
    "    # Few-shot 프롬프트: 좋은 예시 2개를 제공하여 모델의 결과물을 유도\n",
    "    system_prompt = \"\"\"\n",
    "    너는 J-POP 가사를 분석하여 JSON 형식으로 결과를 반환하는 AI야.\n",
    "    주어진 가사의 핵심 내용을 요약하고, 분위기에 맞는 태그 3개를 추출해야 해.\n",
    "    아래 예시와 완벽하게 동일한 형식으로 응답해야 한다.\n",
    "    \"\"\"\n",
    "\n",
    "    user_prompt = f\"\"\"\n",
    "    [가사]:\n",
    "    \"夢ならばどれほどよかったでしょう\n",
    "    未だにあなたのことを夢にみる...\"\n",
    "    (꿈이라면 얼마나 좋았을까 아직도 당신을 꿈에서 봐...)\n",
    "\n",
    "    [결과]:\n",
    "    {{\n",
    "      \"tags\": [\"이별\", \"슬픔\", \"상실감\"],\n",
    "      \"summary\": \"이별한 상대를 잊지 못하고 꿈속에서까지 그리워하는 깊은 슬픔을 담은 노래\"\n",
    "    }}\n",
    "\n",
    "    [가사]:\n",
    "    \"間違って傷つけて　変わってくことが怖かった\n",
    "    でもいつだって僕ら　始まってる...\"\n",
    "    (실수하고 상처 입고 변해가는 것이 두려웠어 하지만 언제나 우리는 시작되고 있어...)\n",
    "\n",
    "    [결과]:\n",
    "    {{\n",
    "      \"tags\": [\"시작\", \"용기\", \"성장\"],\n",
    "      \"summary\": \"실수를 두려워하지 않고 새로운 시작을 향해 나아가려는 용기와 성장에 대한 노래\"\n",
    "    }}\n",
    "\n",
    "    [가사]:\n",
    "    \"{lyrics}\"\n",
    "\n",
    "    [결과]:\n",
    "    \"\"\"\n",
    "\n",
    "    max_retries = 3\n",
    "    for attempt in range(max_retries):\n",
    "        try:\n",
    "            response = client.chat.completions.create(\n",
    "                model=\"gpt-3.5-turbo-0125\",\n",
    "                messages=[\n",
    "                    {\"role\": \"system\", \"content\": system_prompt},\n",
    "                    {\"role\": \"user\", \"content\": user_prompt}\n",
    "                ],\n",
    "                response_format={\"type\": \"json_object\"},\n",
    "                temperature=0.5,\n",
    "            )\n",
    "\n",
    "            content = response.choices[0].message.content\n",
    "            result = json.loads(content)\n",
    "\n",
    "            if \"tags\" in result and \"summary\" in result:\n",
    "                return result\n",
    "            else:\n",
    "                print(f\"오류: 응답 JSON에 필수 키가 없습니다. 응답: {result}\")\n",
    "                return {\"tags\": [\"파싱오류\"], \"summary\": \"필수 키 누락\"}\n",
    "\n",
    "        except Exception as e:\n",
    "            print(f\"API 요청 오류: {e}. {attempt + 1}/{max_retries} 번째 재시도 중...\")\n",
    "            time.sleep(2 ** attempt)\n",
    "\n",
    "    return {\"tags\": [\"API호출실패\"], \"summary\": \"API 호출 실패\"}\n",
    "\n",
    "\n",
    "# 3. 데이터셋에 특징(피처) 추가 작업 및 실시간 결과 출력\n",
    "new_data = []\n",
    "# --- 전체 실행 시 'test_df'를 'df'로 변경하세요 ---\n",
    "for index, row in tqdm(test_df.iterrows(), total=test_df.shape[0], desc=\"특징 추출 중\"):\n",
    "    lyrics = row['lyrics']\n",
    "\n",
    "    features = {}\n",
    "    if not isinstance(lyrics, str) or len(lyrics.strip()) == 0:\n",
    "        features = {\"tags\": [\"가사없음\"], \"summary\": \"가사 없음\"}\n",
    "    else:\n",
    "        # 1차 요청 (Few-shot으로 정확도 향상)\n",
    "        features = get_features_from_openai(lyrics)\n",
    "\n",
    "        # 가벼운 후처리로 문장 끝만 다듬기\n",
    "        features['summary'] = post_process_summary(features.get('summary', ''))\n",
    "\n",
    "    new_row = row.to_dict()\n",
    "    new_row['tags'] = features.get('tags', [])\n",
    "    new_row['summary'] = features.get('summary', 'N-A')\n",
    "    if 'sentiment' in new_row:\n",
    "        del new_row['sentiment']\n",
    "\n",
    "    new_data.append(new_row)\n",
    "\n",
    "    print(f\"\\n[결과] {row.get('artist', 'N/A')} - {row.get('title', 'N/A')}\")\n",
    "    print(f\"  - 태그: {new_row['tags']}\")\n",
    "    print(f\"  - 요약: {new_row['summary']}\")\n",
    "    print(\"-\" * 25)\n",
    "\n",
    "\n",
    "# 4. 결과 샘플링 검토는 생략\n",
    "print(\"\\n--- 모든 테스트 작업 완료 ---\")\n",
    "\n",
    "\n",
    "# 5. 최종 데이터셋을 JSON 파일로 저장\n",
    "output_filename = 'jpop_dataset_with_features.json'\n",
    "with open(output_filename, 'w', encoding='utf-8') as f:\n",
    "    json.dump(new_data, f, ensure_ascii=False, indent=4)\n",
    "\n",
    "print(f\"\\n결과가 '{output_filename}' 파일로 저장되었습니다.\")\n",
    "\"\""
   ]
  },
  {
   "cell_type": "markdown",
   "metadata": {
    "id": "jHIvqUhv8zak"
   },
   "source": [
    "### 전체 데이터셋에 대해 수행"
   ]
  },
  {
   "cell_type": "code",
   "execution_count": null,
   "metadata": {
    "colab": {
     "base_uri": "https://localhost:8080/"
    },
    "executionInfo": {
     "elapsed": 542384,
     "status": "ok",
     "timestamp": 1756121648810,
     "user": {
      "displayName": "ペク チホン 白知憲 백지헌 ソウル",
      "userId": "01676323946267625609"
     },
     "user_tz": -540
    },
    "id": "WZ7eAdFjDxzp",
    "outputId": "9e052f13-7cbb-48fc-a92c-5b366b30ce5e"
   },
   "outputs": [
    {
     "name": "stdout",
     "output_type": "stream",
     "text": [
      "Requirement already satisfied: openai in /usr/local/lib/python3.12/dist-packages (1.100.0)\n",
      "Requirement already satisfied: anyio<5,>=3.5.0 in /usr/local/lib/python3.12/dist-packages (from openai) (4.10.0)\n",
      "Requirement already satisfied: distro<2,>=1.7.0 in /usr/local/lib/python3.12/dist-packages (from openai) (1.9.0)\n",
      "Requirement already satisfied: httpx<1,>=0.23.0 in /usr/local/lib/python3.12/dist-packages (from openai) (0.28.1)\n",
      "Requirement already satisfied: jiter<1,>=0.4.0 in /usr/local/lib/python3.12/dist-packages (from openai) (0.10.0)\n",
      "Requirement already satisfied: pydantic<3,>=1.9.0 in /usr/local/lib/python3.12/dist-packages (from openai) (2.11.7)\n",
      "Requirement already satisfied: sniffio in /usr/local/lib/python3.12/dist-packages (from openai) (1.3.1)\n",
      "Requirement already satisfied: tqdm>4 in /usr/local/lib/python3.12/dist-packages (from openai) (4.67.1)\n",
      "Requirement already satisfied: typing-extensions<5,>=4.11 in /usr/local/lib/python3.12/dist-packages (from openai) (4.14.1)\n",
      "Requirement already satisfied: idna>=2.8 in /usr/local/lib/python3.12/dist-packages (from anyio<5,>=3.5.0->openai) (3.10)\n",
      "Requirement already satisfied: certifi in /usr/local/lib/python3.12/dist-packages (from httpx<1,>=0.23.0->openai) (2025.8.3)\n",
      "Requirement already satisfied: httpcore==1.* in /usr/local/lib/python3.12/dist-packages (from httpx<1,>=0.23.0->openai) (1.0.9)\n",
      "Requirement already satisfied: h11>=0.16 in /usr/local/lib/python3.12/dist-packages (from httpcore==1.*->httpx<1,>=0.23.0->openai) (0.16.0)\n",
      "Requirement already satisfied: annotated-types>=0.6.0 in /usr/local/lib/python3.12/dist-packages (from pydantic<3,>=1.9.0->openai) (0.7.0)\n",
      "Requirement already satisfied: pydantic-core==2.33.2 in /usr/local/lib/python3.12/dist-packages (from pydantic<3,>=1.9.0->openai) (2.33.2)\n",
      "Requirement already satisfied: typing-inspection>=0.4.0 in /usr/local/lib/python3.12/dist-packages (from pydantic<3,>=1.9.0->openai) (0.4.1)\n",
      "새로운 작업을 시작합니다. 원본 파일: 'canonical_jpop_dataset.csv'\n",
      "--- 전체 데이터셋(460곡)에 대한 작업을 시작합니다. ---\n"
     ]
    },
    {
     "name": "stderr",
     "output_type": "stream",
     "text": [
      "특징 추출 중:   0%|          | 1/460 [00:00<06:51,  1.12it/s]"
     ]
    },
    {
     "name": "stdout",
     "output_type": "stream",
     "text": [
      "\n",
      "[결과] Kenshi Yonezu(켄시 요네즈/米津 玄師) - Lemon\n",
      "  - 생성된 태그: ['이별', '회상', '그리움']\n",
      "  - 생성된 요약: 과거의 사랑과 이별에 대한 회상과 그리움을 담은 노래\n",
      "-------------------------\n"
     ]
    },
    {
     "name": "stderr",
     "output_type": "stream",
     "text": [
      "\r특징 추출 중:   0%|          | 2/460 [00:01<06:53,  1.11it/s]"
     ]
    },
    {
     "name": "stdout",
     "output_type": "stream",
     "text": [
      "\n",
      "[결과] NiziU (니쥬) - Make you happy\n",
      "  - 생성된 태그: ['사랑', '행복', '감사']\n",
      "  - 생성된 요약: 상대방을 행복하게 하고 싶어하는 사랑과 감사의 마음을 담은 노래\n",
      "-------------------------\n"
     ]
    },
    {
     "name": "stderr",
     "output_type": "stream",
     "text": [
      "\r특징 추출 중:   1%|          | 3/460 [00:02<06:54,  1.10it/s]"
     ]
    },
    {
     "name": "stdout",
     "output_type": "stream",
     "text": [
      "\n",
      "[결과] Lisa Ono(리사 오노/小野リサ) - I Wish You Love\n",
      "  - 생성된 태그: ['이별', '사랑', '소망']\n",
      "  - 생성된 요약: 이별을 받아들이고 상대방에게 사랑과 행복을 소망하는 노래\n",
      "-------------------------\n"
     ]
    },
    {
     "name": "stderr",
     "output_type": "stream",
     "text": [
      "\r특징 추출 중:   1%|          | 4/460 [00:04<09:54,  1.30s/it]"
     ]
    },
    {
     "name": "stdout",
     "output_type": "stream",
     "text": [
      "\n",
      "[결과] RADWIMPS(래드윔프스) - なんでもないや (movie ver.) / Nandemonaiya (movie ver.)\n",
      "  - 생성된 태그: ['사랑', '추억', '이별']\n",
      "  - 생성된 요약: 사랑했던 상대를 잊지 못하고 그리움에 젖어 있는 이별과 추억을 노래한 곡\n",
      "-------------------------\n"
     ]
    },
    {
     "name": "stderr",
     "output_type": "stream",
     "text": [
      "\r특징 추출 중:   1%|          | 5/460 [00:05<09:32,  1.26s/it]"
     ]
    },
    {
     "name": "stdout",
     "output_type": "stream",
     "text": [
      "\n",
      "[결과] RADWIMPS(래드윔프스) - 前前前世 (movie ver.) / Zenzenzense (movie ver.)\n",
      "  - 생성된 태그: ['사랑', '추억', '우주']\n",
      "  - 생성된 요약: 영원한 사랑과 추억을 주제로 한 노래. 과거부터 시작된 사랑의 이야기를 우주적인 관점에서 표현함\n",
      "-------------------------\n"
     ]
    },
    {
     "name": "stderr",
     "output_type": "stream",
     "text": [
      "\r특징 추출 중:   1%|▏         | 6/460 [00:07<10:19,  1.36s/it]"
     ]
    },
    {
     "name": "stdout",
     "output_type": "stream",
     "text": [
      "\n",
      "[결과] aimyon - Kimi Wa Rock Wo Kikanai\n",
      "  - 생성된 태그: ['사랑', '추억', '청춘']\n",
      "  - 생성된 요약: 청춘의 사랑과 추억을 담은 노래. 상대방에게 가까이 다가가고 싶지만 서툴게 행동하는 모습을 통해 청춘의 설렘과 아픔을 표현함\n",
      "-------------------------\n"
     ]
    },
    {
     "name": "stderr",
     "output_type": "stream",
     "text": [
      "\r특징 추출 중:   2%|▏         | 7/460 [00:08<10:03,  1.33s/it]"
     ]
    },
    {
     "name": "stdout",
     "output_type": "stream",
     "text": [
      "\n",
      "[결과] OFFICIAL HIGE DANDISM - Pretender\n",
      "  - 생성된 태그: ['이별', '사랑', '감정']\n",
      "  - 생성된 요약: 서로의 운명이 아님을 깨닫고 이별을 받아들이는 과정에서의 복잡한 감정을 솔직하게 표현한 노래\n",
      "-------------------------\n"
     ]
    },
    {
     "name": "stderr",
     "output_type": "stream",
     "text": [
      "\r특징 추출 중:   2%|▏         | 8/460 [00:09<09:40,  1.28s/it]"
     ]
    },
    {
     "name": "stdout",
     "output_type": "stream",
     "text": [
      "\n",
      "[결과] RADWIMPS(래드윔프스) - 夢灯籠 / Dream lantern\n",
      "  - 생성된 태그: ['사랑', '추억', '희망']\n",
      "  - 생성된 요약: 서로를 지켜가며 힘을 실어주는 사랑의 메시지를 담은 노래. 함께한 추억을 회상하며 희망을 품고 미래를 바라보는 따뜻한 노래\n",
      "-------------------------\n"
     ]
    },
    {
     "name": "stderr",
     "output_type": "stream",
     "text": [
      "\r특징 추출 중:   2%|▏         | 9/460 [00:10<09:14,  1.23s/it]"
     ]
    },
    {
     "name": "stdout",
     "output_type": "stream",
     "text": [
      "\n",
      "[결과] Gen Hoshino(호시노 겐/星野 源) - 恋 / Koi\n",
      "  - 생성된 태그: ['사랑', '이별', '추억']\n",
      "  - 생성된 요약: 사랑했던 상대에 대한 추억과 이별의 아픔을 담은 노래. 서로에 대한 사랑과 추억을 떠올리며 곁을 떠나는 아픔을 표현\n",
      "-------------------------\n"
     ]
    },
    {
     "name": "stderr",
     "output_type": "stream",
     "text": [
      "\r특징 추출 중:   2%|▏         | 10/460 [00:12<09:21,  1.25s/it]"
     ]
    },
    {
     "name": "stdout",
     "output_type": "stream",
     "text": [
      "\n",
      "[결과] aimyon - Marigold\n",
      "  - 생성된 태그: ['사랑', '이별', '추억']\n",
      "  - 생성된 요약: 서로를 사랑하며 행복한 순간을 함께한 뒤 이별을 앞두고 서로를 떠올리며 감정을 표현한 노래\n",
      "-------------------------\n"
     ]
    },
    {
     "name": "stderr",
     "output_type": "stream",
     "text": [
      "\r특징 추출 중:   2%|▏         | 11/460 [00:13<08:43,  1.17s/it]"
     ]
    },
    {
     "name": "stdout",
     "output_type": "stream",
     "text": [
      "\n",
      "[결과] RADWIMPS(래드윔프스) - 愛にできることはまだあるかい / Is There Still Anything That Love Can Do? (Movie Edit)\n",
      "  - 생성된 태그: ['인생', '도전', '사랑']\n",
      "  - 생성된 요약: 인생의 고난과 도전에도 사랑과 용기를 잃지 않고 서로를 지키며 나아가는 강인한 결의를 담은 노래\n",
      "-------------------------\n"
     ]
    },
    {
     "name": "stderr",
     "output_type": "stream",
     "text": [
      "\r특징 추출 중:   3%|▎         | 12/460 [00:14<08:53,  1.19s/it]"
     ]
    },
    {
     "name": "stdout",
     "output_type": "stream",
     "text": [
      "\n",
      "[결과] RADWIMPS(래드윔프스) - グランドエスケープ feat.三浦透子 / Grand Escape Feat. Toko Miura (Movie Edit)\n",
      "  - 생성된 태그: ['꿈', '사랑', '모험']\n",
      "  - 생성된 요약: 꿈을 향한 열망과 사랑, 모험을 담은 가사. 하늘을 나는 날개와 꿈을 이루기 위한 모험을 다룬 노래\n",
      "-------------------------\n"
     ]
    },
    {
     "name": "stderr",
     "output_type": "stream",
     "text": [
      "\r특징 추출 중:   3%|▎         | 13/460 [00:16<09:42,  1.30s/it]"
     ]
    },
    {
     "name": "stdout",
     "output_type": "stream",
     "text": [
      "\n",
      "[결과] OFFICIAL HIGE DANDISM - I LOVE...\n",
      "  - 생성된 태그: ['사랑', '이별', '성장']\n",
      "  - 생성된 요약: 사랑과 이별, 성장에 대한 복잡한 감정을 담은 노래. 상대를 잊지 못하면서도 새로운 시작을 향해 나아가는 과정을 그리며, 서로를 받아들이고 인정하는 과정을 통해 성장하는 노래\n",
      "-------------------------\n"
     ]
    },
    {
     "name": "stderr",
     "output_type": "stream",
     "text": [
      "\r특징 추출 중:   3%|▎         | 14/460 [00:16<08:58,  1.21s/it]"
     ]
    },
    {
     "name": "stdout",
     "output_type": "stream",
     "text": [
      "\n",
      "[결과] aimyon - Ai Wo Tsutaetaidatoka\n",
      "  - 생성된 태그: ['사랑', '고민', '절망']\n",
      "  - 생성된 요약: 고민과 절망 속에서 사랑하는 상대에게 이야기하고 싶지만 속으로만 묵묵히 사랑을 즐기는 고독한 노래\n",
      "-------------------------\n"
     ]
    },
    {
     "name": "stderr",
     "output_type": "stream",
     "text": [
      "\r특징 추출 중:   3%|▎         | 15/460 [00:17<07:55,  1.07s/it]"
     ]
    },
    {
     "name": "stdout",
     "output_type": "stream",
     "text": [
      "\n",
      "[결과] Kenshi Yonezu(켄시 요네즈/米津 玄師) - Uchiagehanabi\n",
      "  - 생성된 태그: ['회상', '사랑', '추억']\n",
      "  - 생성된 요약: 과거의 사랑과 추억을 회상하며 끝나지 않을 것 같은 여름밤을 그리는 노래\n",
      "-------------------------\n"
     ]
    },
    {
     "name": "stderr",
     "output_type": "stream",
     "text": [
      "\r특징 추출 중:   3%|▎         | 16/460 [00:18<08:04,  1.09s/it]"
     ]
    },
    {
     "name": "stdout",
     "output_type": "stream",
     "text": [
      "\n",
      "[결과] RADWIMPS(래드윔프스) - スパークル (movie ver.) / Sparkle (movie ver.)\n",
      "  - 생성된 태그: ['사랑', '이별', '추억']\n",
      "  - 생성된 요약: 서로를 사랑하며 이별을 맞이하고, 그리움과 추억으로 가득한 노래\n",
      "-------------------------\n"
     ]
    },
    {
     "name": "stderr",
     "output_type": "stream",
     "text": [
      "\r특징 추출 중:   4%|▎         | 17/460 [00:20<08:20,  1.13s/it]"
     ]
    },
    {
     "name": "stdout",
     "output_type": "stream",
     "text": [
      "\n",
      "[결과] SEKAI NO OWARI(세카이노 오와리) - RAIN\n",
      "  - 생성된 태그: ['희망', '우정', '성장']\n",
      "  - 생성된 요약: 우리는 언젠가 모든 것이 해결될 것을 믿고, 서로를 돕아가며 성장하고 있는 이야기를 담은 노래\n",
      "-------------------------\n"
     ]
    },
    {
     "name": "stderr",
     "output_type": "stream",
     "text": [
      "\r특징 추출 중:   4%|▍         | 18/460 [00:21<08:08,  1.11s/it]"
     ]
    },
    {
     "name": "stdout",
     "output_type": "stream",
     "text": [
      "\n",
      "[결과] X-Japan(엑스 재팬) - Endless Rain\n",
      "  - 생성된 태그: ['이별', '슬픔', '그리움']\n",
      "  - 생성된 요약: 상처받은 마음을 잊지 못하고 그리움에 사로잡혀 우울함 속에서 방황하는 이별과 슬픔을 담은 노래\n",
      "-------------------------\n"
     ]
    },
    {
     "name": "stderr",
     "output_type": "stream",
     "text": [
      "\r특징 추출 중:   4%|▍         | 19/460 [00:21<07:13,  1.02it/s]"
     ]
    },
    {
     "name": "stdout",
     "output_type": "stream",
     "text": [
      "\n",
      "[결과] RADWIMPS(래드윔프스) - 大丈夫 / We'll Be Alright (Movie Edit)\n",
      "  - 생성된 태그: ['사랑', '지지', '우정']\n",
      "  - 생성된 요약: 상대방을 지켜주고 싶어하는 사랑과 우정에 대한 노래\n",
      "-------------------------\n"
     ]
    },
    {
     "name": "stderr",
     "output_type": "stream",
     "text": [
      "\r특징 추출 중:   4%|▍         | 20/460 [00:22<07:21,  1.00s/it]"
     ]
    },
    {
     "name": "stdout",
     "output_type": "stream",
     "text": [
      "\n",
      "[결과] NiziU (니쥬) - 虹の向こうへ (Beyond the Rainbow)\n",
      "  - 생성된 태그: ['긍정', '자유', '파라다이스']\n",
      "  - 생성된 요약: 자유롭고 긍정적인 마음가짐으로 새로운 가능성을 찾아 나아가는 과정을 담은 노래\n",
      "-------------------------\n"
     ]
    },
    {
     "name": "stderr",
     "output_type": "stream",
     "text": [
      "\r특징 추출 중:   5%|▍         | 21/460 [00:24<08:06,  1.11s/it]"
     ]
    },
    {
     "name": "stdout",
     "output_type": "stream",
     "text": [
      "\n",
      "[결과] NiziU (니쥬) - Baby I’m a star\n",
      "  - 생성된 태그: ['꿈', '자신감', '도전']\n",
      "  - 생성된 요약: 자신을 믿고 꿈을 향해 도전하는 강한 의지와 자신감을 담은 노래\n",
      "-------------------------\n"
     ]
    },
    {
     "name": "stderr",
     "output_type": "stream",
     "text": [
      "\r특징 추출 중:   5%|▍         | 22/460 [00:25<07:27,  1.02s/it]"
     ]
    },
    {
     "name": "stdout",
     "output_type": "stream",
     "text": [
      "\n",
      "[결과] Oku Hanako(오쿠 하나코/奧華子) - 變わらないもの (변하지 않는 것)\n",
      "  - 생성된 태그: ['사랑', '그리움', '회상']\n",
      "  - 생성된 요약: 헤어진 사랑하는 이를 그리워하며 회상하는 노래. 상처와 그리움 속에서도 변하지 않는 사랑의 감정을 표현\n",
      "-------------------------\n"
     ]
    },
    {
     "name": "stderr",
     "output_type": "stream",
     "text": [
      "\r특징 추출 중:   5%|▌         | 23/460 [00:26<08:35,  1.18s/it]"
     ]
    },
    {
     "name": "stdout",
     "output_type": "stream",
     "text": [
      "\n",
      "[결과] Otsuka Ai(오오츠카 아이/大塚 愛) - さくらんぼ (사쿠란보 - 체리)\n",
      "  - 생성된 태그: ['사랑', '행복', '추억']\n",
      "  - 생성된 요약: 서로를 사랑하며 함께한 소중한 순간들과 행복한 기억을 담은 노래\n",
      "-------------------------\n"
     ]
    },
    {
     "name": "stderr",
     "output_type": "stream",
     "text": [
      "\r특징 추출 중:   5%|▌         | 24/460 [00:27<08:14,  1.13s/it]"
     ]
    },
    {
     "name": "stdout",
     "output_type": "stream",
     "text": [
      "\n",
      "[결과] aimyon - Her Blue Sky\n",
      "  - 생성된 태그: ['이별', '추억', '그리움']\n",
      "  - 생성된 요약: 과거에 싫어했던 것들과 이별한 상대에 대한 그리움과 추억을 통해 자신의 내면을 탐구하는 노래\n",
      "-------------------------\n"
     ]
    },
    {
     "name": "stderr",
     "output_type": "stream",
     "text": [
      "\r특징 추출 중:   5%|▌         | 25/460 [00:28<08:00,  1.11s/it]"
     ]
    },
    {
     "name": "stdout",
     "output_type": "stream",
     "text": [
      "\n",
      "[결과] SEKAI NO OWARI(세카이노 오와리) - RPG\n",
      "  - 생성된 태그: ['희망', '우정', '도전']\n",
      "  - 생성된 요약: 자신을 믿고 새로운 도전에 나서며 우정과 희망으로 가득한 노래\n",
      "-------------------------\n"
     ]
    },
    {
     "name": "stderr",
     "output_type": "stream",
     "text": [
      "\r특징 추출 중:   6%|▌         | 26/460 [00:29<08:03,  1.11s/it]"
     ]
    },
    {
     "name": "stdout",
     "output_type": "stream",
     "text": [
      "\n",
      "[결과] Kenshi Yonezu(켄시 요네즈/米津 玄師) - Flamingo\n",
      "  - 생성된 태그: ['외로움', '절망', '비현실적']\n",
      "  - 생성된 요약: 외로움과 절망에 빠져 비현실적이고 무력한 상황을 표현한 노래\n",
      "-------------------------\n"
     ]
    },
    {
     "name": "stderr",
     "output_type": "stream",
     "text": [
      "\r특징 추출 중:   6%|▌         | 27/460 [00:30<07:33,  1.05s/it]"
     ]
    },
    {
     "name": "stdout",
     "output_type": "stream",
     "text": [
      "\n",
      "[결과] aimyon - Naked Heart\n",
      "  - 생성된 태그: ['사랑', '추억', '성장']\n",
      "  - 생성된 요약: 사랑하는 이의 상실과 추억을 안고 성장해나가는 과정을 담은 노래\n",
      "-------------------------\n"
     ]
    },
    {
     "name": "stderr",
     "output_type": "stream",
     "text": [
      "\r특징 추출 중:   6%|▌         | 28/460 [00:31<07:22,  1.02s/it]"
     ]
    },
    {
     "name": "stdout",
     "output_type": "stream",
     "text": [
      "\n",
      "[결과] Kenshi Yonezu(켄시 요네즈/米津 玄師) - Spirits of the Sea\n",
      "  - 생성된 태그: ['회상', '그리움', '사랑']\n",
      "  - 생성된 요약: 과거의 추억과 사랑하는 이에 대한 그리움을 담은 노래\n",
      "-------------------------\n"
     ]
    },
    {
     "name": "stderr",
     "output_type": "stream",
     "text": [
      "\r특징 추출 중:   6%|▋         | 29/460 [00:32<07:56,  1.11s/it]"
     ]
    },
    {
     "name": "stdout",
     "output_type": "stream",
     "text": [
      "\n",
      "[결과] 嵐 (ARASHI) - Happiness\n",
      "  - 생성된 태그: ['희망', '긍정', '도전']\n",
      "  - 생성된 요약: 고난과 역경을 이기고 희망찬 미래를 향해 달려가는 도전과 긍정을 담은 노래\n",
      "-------------------------\n"
     ]
    },
    {
     "name": "stderr",
     "output_type": "stream",
     "text": [
      "\r특징 추출 중:   7%|▋         | 30/460 [00:34<07:53,  1.10s/it]"
     ]
    },
    {
     "name": "stdout",
     "output_type": "stream",
     "text": [
      "\n",
      "[결과] DISH// - Neko\n",
      "  - 생성된 태그: ['이별', '그리움', '후회']\n",
      "  - 생성된 요약: 이별한 사랑을 후회하며 그리움에 젖어들고 있는 내면의 갈등을 표현한 노래\n",
      "-------------------------\n"
     ]
    },
    {
     "name": "stderr",
     "output_type": "stream",
     "text": [
      "\r특징 추출 중:   7%|▋         | 31/460 [00:35<07:32,  1.05s/it]"
     ]
    },
    {
     "name": "stdout",
     "output_type": "stream",
     "text": [
      "\n",
      "[결과] Yorushika - Thoughtcrime\n",
      "  - 생성된 태그: ['고독', '절망', '창작']\n",
      "  - 생성된 요약: 타인에게 이해받지 못하는 고독과 절망 속에서 창작하는 과정을 그린 노래\n",
      "-------------------------\n"
     ]
    },
    {
     "name": "stderr",
     "output_type": "stream",
     "text": [
      "\r특징 추출 중:   7%|▋         | 32/460 [00:35<07:12,  1.01s/it]"
     ]
    },
    {
     "name": "stdout",
     "output_type": "stream",
     "text": [
      "\n",
      "[결과] Kenshi Yonezu(켄시 요네즈/米津 玄師) - Haiirotoao ( + Masaki Suda )\n",
      "  - 생성된 태그: ['회상', '그리움', '추억']\n",
      "  - 생성된 요약: 과거의 추억을 회상하며 그리움에 젖어있는 노래. 시간이 흘러도 변하지 않는 무언가를 바라며, 회상과 그리움을 담은 노래\n",
      "-------------------------\n"
     ]
    },
    {
     "name": "stderr",
     "output_type": "stream",
     "text": [
      "\r특징 추출 중:   7%|▋         | 33/460 [00:37<07:56,  1.12s/it]"
     ]
    },
    {
     "name": "stdout",
     "output_type": "stream",
     "text": [
      "\n",
      "[결과] RADWIMPS(래드윔프스) - 祝祭 feat.三浦透子 / Celebration Feat. Toko Miura (Movie Edit)\n",
      "  - 생성된 태그: ['사랑', '의미', '생각']\n",
      "  - 생성된 요약: 상처를 받고 있는 주인공이 누군가를 만나 희망을 찾게 되는 과정을 담은 노래. 상대방에게서 빛을 받아 새로운 삶을 시작하고 사랑을 깨닫는 노래\n",
      "-------------------------\n"
     ]
    },
    {
     "name": "stderr",
     "output_type": "stream",
     "text": [
      "\r특징 추출 중:   7%|▋         | 34/460 [00:38<08:13,  1.16s/it]"
     ]
    },
    {
     "name": "stdout",
     "output_type": "stream",
     "text": [
      "\n",
      "[결과] Kenshi Yonezu(켄시 요네즈/米津 玄師) - Uma to Shika\n",
      "  - 생성된 태그: ['상실감', '고난', '사랑']\n",
      "  - 생성된 요약: 상처와 아픔으로 가득 찬 봄, 아직도 사랑이 무엇인지 모르겠지만 상처와 아픔을 이겨내며 서로를 지키려는 노래\n",
      "-------------------------\n"
     ]
    },
    {
     "name": "stderr",
     "output_type": "stream",
     "text": [
      "\r특징 추출 중:   8%|▊         | 35/460 [00:39<08:08,  1.15s/it]"
     ]
    },
    {
     "name": "stdout",
     "output_type": "stream",
     "text": [
      "\n",
      "[결과] NiziU (니쥬) - Boom Boom Boom\n",
      "  - 생성된 태그: ['파티', '신나는', '긍정적']\n",
      "  - 생성된 요약: 파티 분위기를 만들어주는 신나는 비트와 긍정적인 에너지를 전하는 노래\n",
      "-------------------------\n"
     ]
    },
    {
     "name": "stderr",
     "output_type": "stream",
     "text": [
      "\r특징 추출 중:   8%|▊         | 36/460 [00:41<08:38,  1.22s/it]"
     ]
    },
    {
     "name": "stdout",
     "output_type": "stream",
     "text": [
      "\n",
      "[결과] SPYAIR(스파이에어/スパイエアー) - サムライハ―ト (Samurai Heart) (Some Like It Hot!!) (애니메이션 '은혼' 엔딩 테마곡)\n",
      "  - 생성된 태그: ['고독', '자기성찰', '사명감']\n",
      "  - 생성된 요약: 고독과 자기성찰 속에서 자신을 발견하고, 사명감을 느끼며 삶을 살아가는 과정을 담은 노래\n",
      "-------------------------\n"
     ]
    },
    {
     "name": "stderr",
     "output_type": "stream",
     "text": [
      "\r특징 추출 중:   8%|▊         | 37/460 [00:42<09:05,  1.29s/it]"
     ]
    },
    {
     "name": "stdout",
     "output_type": "stream",
     "text": [
      "\n",
      "[결과] aimyon - Harunohi\n",
      "  - 생성된 태그: ['사랑', '희망', '추억']\n",
      "  - 생성된 요약: 역에서의 이별을 테마로 한 사랑과 희망에 가득한 노래. 서로의 강점과 약점을 나누며 어떤 미래가 기다리고 있는지 상상하게 하는 노래\n",
      "-------------------------\n"
     ]
    },
    {
     "name": "stderr",
     "output_type": "stream",
     "text": [
      "\r특징 추출 중:   8%|▊         | 38/460 [00:43<08:15,  1.17s/it]"
     ]
    },
    {
     "name": "stdout",
     "output_type": "stream",
     "text": [
      "\n",
      "[결과] 嵐 (ARASHI) - Love so sweet\n",
      "  - 생성된 태그: ['사랑', '이별', '추억']\n",
      "  - 생성된 요약: 서로를 사랑하며 이별을 맞이하는 아름다운 추억과 사랑에 대한 노래\n",
      "-------------------------\n"
     ]
    },
    {
     "name": "stderr",
     "output_type": "stream",
     "text": [
      "\r특징 추출 중:   8%|▊         | 39/460 [00:44<07:53,  1.12s/it]"
     ]
    },
    {
     "name": "stdout",
     "output_type": "stream",
     "text": [
      "\n",
      "[결과] Coco d'Or(코코도르/ココド-ル) - Just The Two Of Us\n",
      "  - 생성된 태그: ['사랑', '행복', '낙천적']\n",
      "  - 생성된 요약: 사랑하는 이와 함께하는 행복한 시간을 꿈꾸며 낙천적인 마음가짐으로 미래를 바라보는 노래\n",
      "-------------------------\n"
     ]
    },
    {
     "name": "stderr",
     "output_type": "stream",
     "text": [
      "\r특징 추출 중:   9%|▊         | 40/460 [00:45<07:50,  1.12s/it]"
     ]
    },
    {
     "name": "stdout",
     "output_type": "stream",
     "text": [
      "\n",
      "[결과] Kenshi Yonezu(켄시 요네즈/米津 玄師) - Peace Sign\n",
      "  - 생성된 태그: ['희망', '도전', '성장']\n",
      "  - 생성된 요약: 고난과 역경을 이겨내며 힘들었던 과거를 되돌아보고, 힘든 상황에서도 희망을 잃지 않고 미래를 향해 도전하는 내용을 담은 노래\n",
      "-------------------------\n"
     ]
    },
    {
     "name": "stderr",
     "output_type": "stream",
     "text": [
      "\r특징 추출 중:   9%|▉         | 41/460 [00:46<07:07,  1.02s/it]"
     ]
    },
    {
     "name": "stdout",
     "output_type": "stream",
     "text": [
      "\n",
      "[결과] aimyon - Let the Night\n",
      "  - 생성된 태그: ['사랑', '추억', '갈망']\n",
      "  - 생성된 요약: 사랑하는 상대를 잊지 못하고 갈망하는 마음을 담은 노래\n",
      "-------------------------\n"
     ]
    },
    {
     "name": "stderr",
     "output_type": "stream",
     "text": [
      "\r특징 추출 중:   9%|▉         | 42/460 [00:47<07:17,  1.05s/it]"
     ]
    },
    {
     "name": "stdout",
     "output_type": "stream",
     "text": [
      "\n",
      "[결과] Kenshi Yonezu(켄시 요네즈/米津 玄師) - Shunrai\n",
      "  - 생성된 태그: ['사랑', '이별', '추억']\n",
      "  - 생성된 요약: 서로에게 남은 상처와 사랑의 추억을 재회를 향한 그리움과 함께 노래한 곡\n",
      "-------------------------\n"
     ]
    },
    {
     "name": "stderr",
     "output_type": "stream",
     "text": [
      "\r특징 추출 중:   9%|▉         | 43/460 [00:49<08:46,  1.26s/it]"
     ]
    },
    {
     "name": "stdout",
     "output_type": "stream",
     "text": [
      "\n",
      "[결과] Gen Hoshino(호시노 겐/星野 源) - 折り合い / Halfway\n",
      "  - 생성된 태그: ['사랑', '가족', '소통']\n",
      "  - 생성된 요약: 서로를 사랑하고 이해하려는 노력과 가족과 같이 지내며 소중한 사람과의 관계를 유지하려는 의지를 담은 노래\n",
      "-------------------------\n"
     ]
    },
    {
     "name": "stderr",
     "output_type": "stream",
     "text": [
      "\r특징 추출 중:  10%|▉         | 44/460 [00:50<08:38,  1.25s/it]"
     ]
    },
    {
     "name": "stdout",
     "output_type": "stream",
     "text": [
      "\n",
      "[결과] Yorushika - Ghost In A Flower\n",
      "  - 생성된 태그: ['추억', '이별', '여름']\n",
      "  - 생성된 요약: 여름의 추억과 이별을 향한 그리움을 담은 노래. 시간이 흘러도 잊히지 않는 여름의 향기와 추억이 떠오르는 노래\n",
      "-------------------------\n"
     ]
    },
    {
     "name": "stderr",
     "output_type": "stream",
     "text": [
      "\r특징 추출 중:  10%|▉         | 45/460 [00:51<08:50,  1.28s/it]"
     ]
    },
    {
     "name": "stdout",
     "output_type": "stream",
     "text": [
      "\n",
      "[결과] amazarashi(아마자라시/アマザラシ) - 僕が死のうと思ったのは / Bokuga Shinouto Omottanoha (내가 죽으려고 생각한 것은)\n",
      "  - 생성된 태그: ['사랑', '추억', '감사']\n",
      "  - 생성된 요약: 당신을 만나기 전에는 죽음을 생각했지만, 당신과의 만남으로 세상을 조금씩 사랑하게 되었고, 당신과의 추억에 감사함을 느끼는 노래\n",
      "-------------------------\n"
     ]
    },
    {
     "name": "stderr",
     "output_type": "stream",
     "text": [
      "\r특징 추출 중:  10%|█         | 46/460 [00:52<08:32,  1.24s/it]"
     ]
    },
    {
     "name": "stdout",
     "output_type": "stream",
     "text": [
      "\n",
      "[결과] OFFICIAL HIGE DANDISM - 宿命 (Syukumei / 숙명)\n",
      "  - 생성된 태그: ['희망', '도전', '인내']\n",
      "  - 생성된 요약: 힘든 상황에서도 희망을 잃지 않고 도전하며 숙명에 맞서 싸우는 인내와 인내력에 대한 노래\n",
      "-------------------------\n"
     ]
    },
    {
     "name": "stderr",
     "output_type": "stream",
     "text": [
      "\r특징 추출 중:  10%|█         | 47/460 [00:53<08:04,  1.17s/it]"
     ]
    },
    {
     "name": "stdout",
     "output_type": "stream",
     "text": [
      "\n",
      "[결과] Kenshi Yonezu(켄시 요네즈/米津 玄師) - Paprika\n",
      "  - 생성된 태그: ['사랑', '추억', '회상']\n",
      "  - 생성된 요약: 소중한 사람과 함께한 추억을 회상하며, 사랑과 기쁨을 담은 노래\n",
      "-------------------------\n"
     ]
    },
    {
     "name": "stderr",
     "output_type": "stream",
     "text": [
      "\r특징 추출 중:  10%|█         | 48/460 [00:55<08:26,  1.23s/it]"
     ]
    },
    {
     "name": "stdout",
     "output_type": "stream",
     "text": [
      "\n",
      "[결과] OFFICIAL HIGE DANDISM - Yesterday\n",
      "  - 생성된 태그: ['사랑', '도전', '희망']\n",
      "  - 생성된 요약: 사랑하는 이를 지켜내기 위한 강인한 의지와 희망으로 가득한 노래\n",
      "-------------------------\n"
     ]
    },
    {
     "name": "stderr",
     "output_type": "stream",
     "text": [
      "\r특징 추출 중:  11%|█         | 49/460 [00:56<08:20,  1.22s/it]"
     ]
    },
    {
     "name": "stdout",
     "output_type": "stream",
     "text": [
      "\n",
      "[결과] 嵐 (ARASHI) - One Love\n",
      "  - 생성된 태그: ['사랑', '감사', '약속']\n",
      "  - 생성된 요약: 서로를 지켜주고 응원하는 사랑에 감사하며, 밝은 미래를 약속하는 노래\n",
      "-------------------------\n"
     ]
    },
    {
     "name": "stderr",
     "output_type": "stream",
     "text": [
      "특징 추출 중:  11%|█         | 50/460 [00:57<07:51,  1.15s/it]"
     ]
    },
    {
     "name": "stdout",
     "output_type": "stream",
     "text": [
      "\n",
      "[결과] Ellegarden(엘르가든/エルレガ-デン) - Marry Me\n",
      "  - 생성된 태그: ['사랑', '추억', '꿈']\n",
      "  - 생성된 요약: 사랑하는 사람을 잊지 못하고 그녀와의 결혼식을 꿈꾸는 이의 마음을 담은 노래\n",
      "-------------------------\n",
      "\n",
      "[진행 상황 저장됨: 50/460 완료]\n"
     ]
    },
    {
     "name": "stderr",
     "output_type": "stream",
     "text": [
      "\r특징 추출 중:  11%|█         | 51/460 [00:58<08:10,  1.20s/it]"
     ]
    },
    {
     "name": "stdout",
     "output_type": "stream",
     "text": [
      "\n",
      "[결과] SEKAI NO OWARI(세카이노 오와리) - Shuhasu\n",
      "  - 생성된 태그: ['그리움', '이별', '추억']\n",
      "  - 생성된 요약: 그리움과 이별을 담은 노래. 상대방과의 잊을 수 없는 추억과 함께하는 그리움이 노래 속에 담겨 있음\n",
      "-------------------------\n"
     ]
    },
    {
     "name": "stderr",
     "output_type": "stream",
     "text": [
      "\r특징 추출 중:  11%|█▏        | 52/460 [00:59<08:03,  1.18s/it]"
     ]
    },
    {
     "name": "stdout",
     "output_type": "stream",
     "text": [
      "\n",
      "[결과] aimyon - Ikiteitandayona\n",
      "  - 생성된 태그: ['자살', '슬픔', '사회문제']\n",
      "  - 생성된 요약: 자살한 사람에 대한 안타까운 이야기와 사회적 문제를 소재로 한 노래. 삶의 소중함과 희망을 다시 발견하고자 하는 메시지를 담고 있음\n",
      "-------------------------\n"
     ]
    },
    {
     "name": "stderr",
     "output_type": "stream",
     "text": [
      "\r특징 추출 중:  12%|█▏        | 53/460 [01:01<08:33,  1.26s/it]"
     ]
    },
    {
     "name": "stdout",
     "output_type": "stream",
     "text": [
      "\n",
      "[결과] Gen Hoshino(호시노 겐/星野 源) - アイデア / Idea\n",
      "  - 생성된 태그: ['희망', '우정', '음악']\n",
      "  - 생성된 요약: 일상의 어려움과 상실에도 불구하고 희망을 가져가며 삶을 이어가는 용기를 노래한 음악. 음악을 통해 모두가 함께하는 우정과 소통의 소중함을 강조함\n",
      "-------------------------\n"
     ]
    },
    {
     "name": "stderr",
     "output_type": "stream",
     "text": [
      "\r특징 추출 중:  12%|█▏        | 54/460 [01:02<08:26,  1.25s/it]"
     ]
    },
    {
     "name": "stdout",
     "output_type": "stream",
     "text": [
      "\n",
      "[결과] Mrs. GREEN APPLE - Inferno\n",
      "  - 생성된 태그: ['생명', '우정', '인연']\n",
      "  - 생성된 요약: 인연과 우정을 소중히 여기며, 삶의 의미와 소중함을 깨닫고 함께 걸어가는 과정을 담은 노래\n",
      "-------------------------\n"
     ]
    },
    {
     "name": "stderr",
     "output_type": "stream",
     "text": [
      "\r특징 추출 중:  12%|█▏        | 55/460 [01:03<08:09,  1.21s/it]"
     ]
    },
    {
     "name": "stdout",
     "output_type": "stream",
     "text": [
      "\n",
      "[결과] SEKAI NO OWARI(세카이노 오와리) - Yokohama Blues\n",
      "  - 생성된 태그: ['회상', '이별', '추억']\n",
      "  - 생성된 요약: 이별과 회상을 주제로 한 가사로, 과거의 추억과 아픔을 떠올리며 회상하는 노래\n",
      "-------------------------\n"
     ]
    },
    {
     "name": "stderr",
     "output_type": "stream",
     "text": [
      "\r특징 추출 중:  12%|█▏        | 56/460 [01:05<08:36,  1.28s/it]"
     ]
    },
    {
     "name": "stdout",
     "output_type": "stream",
     "text": [
      "\n",
      "[결과] Omoinotake(오모이노타케) - モラトリアム (모라토리엄, Moratorium)\n",
      "  - 생성된 태그: ['외로움', '사랑', '추억']\n",
      "  - 생성된 요약: 외로움과 사랑, 그리움을 담은 노래. 과거의 추억과 함께 영원히 갇혀있는 이별의 아픔을 노래하고 있음\n",
      "-------------------------\n"
     ]
    },
    {
     "name": "stderr",
     "output_type": "stream",
     "text": [
      "\r특징 추출 중:  12%|█▏        | 57/460 [01:06<07:50,  1.17s/it]"
     ]
    },
    {
     "name": "stdout",
     "output_type": "stream",
     "text": [
      "\n",
      "[결과] GENERATIONS from EXILE TRIBE - Brand New Story\n",
      "  - 생성된 태그: ['희망', '성장', '우정']\n",
      "  - 생성된 요약: 고난과 시련을 극복하고 앞으로 나아가는 힘을 실은 노래. 우정과 희망, 그리고 성장에 대한 이야기를 담고 있음\n",
      "-------------------------\n"
     ]
    },
    {
     "name": "stderr",
     "output_type": "stream",
     "text": [
      "\r특징 추출 중:  13%|█▎        | 58/460 [01:07<07:34,  1.13s/it]"
     ]
    },
    {
     "name": "stdout",
     "output_type": "stream",
     "text": [
      "\n",
      "[결과] OFFICIAL HIGE DANDISM - Laughter\n",
      "  - 생성된 태그: ['도전', '자기성찰', '포기하지않음']\n",
      "  - 생성된 요약: 자기 자신에 대한 도전과 성장, 포기하지 않고 계속 나아가는 결의를 담은 노래\n",
      "-------------------------\n"
     ]
    },
    {
     "name": "stderr",
     "output_type": "stream",
     "text": [
      "\r특징 추출 중:  13%|█▎        | 59/460 [01:08<07:07,  1.07s/it]"
     ]
    },
    {
     "name": "stdout",
     "output_type": "stream",
     "text": [
      "\n",
      "[결과] 嵐 (ARASHI) - A・RA・SHI\n",
      "  - 생성된 태그: ['긍정', '자신감', '도전']\n",
      "  - 생성된 요약: 긍정적인 마음가짐으로 도전하고 자신감을 키우며 꿈을 향해 나아가는 곡\n",
      "-------------------------\n"
     ]
    },
    {
     "name": "stderr",
     "output_type": "stream",
     "text": [
      "\r특징 추출 중:  13%|█▎        | 60/460 [01:09<07:34,  1.14s/it]"
     ]
    },
    {
     "name": "stdout",
     "output_type": "stream",
     "text": [
      "\n",
      "[결과] GReeeeN(그린) - Kiseki\n",
      "  - 생성된 태그: ['사랑', '추억', '희망']\n",
      "  - 생성된 요약: 서로를 사랑하며 행복한 순간들을 함께 만들어가며 희망을 품고 미래를 함께 향해가는 이야기를 담은 노래\n",
      "-------------------------\n"
     ]
    },
    {
     "name": "stderr",
     "output_type": "stream",
     "text": [
      "\r특징 추출 중:  13%|█▎        | 61/460 [01:10<07:55,  1.19s/it]"
     ]
    },
    {
     "name": "stdout",
     "output_type": "stream",
     "text": [
      "\n",
      "[결과] Noon(눈/ヌ-ン) - Moon River\n",
      "  - 생성된 태그: ['몽환적', '모험', '우정']\n",
      "  - 생성된 요약: 넓은 강을 건너는 모험을 꿈꾸는 둘의 우정과 모험을 담은 몽환적인 노래\n",
      "-------------------------\n"
     ]
    },
    {
     "name": "stderr",
     "output_type": "stream",
     "text": [
      "\r특징 추출 중:  13%|█▎        | 62/460 [01:11<07:36,  1.15s/it]"
     ]
    },
    {
     "name": "stdout",
     "output_type": "stream",
     "text": [
      "\n",
      "[결과] Mrs. GREEN APPLE - Ao To Natsu\n",
      "  - 생성된 태그: ['여름', '사랑', '추억']\n",
      "  - 생성된 요약: 여름의 시원한 바람과 함께 시작된 사랑의 이야기를 담은 추억에 젖은 노래\n",
      "-------------------------\n"
     ]
    },
    {
     "name": "stderr",
     "output_type": "stream",
     "text": [
      "\r특징 추출 중:  14%|█▎        | 63/460 [01:12<07:16,  1.10s/it]"
     ]
    },
    {
     "name": "stdout",
     "output_type": "stream",
     "text": [
      "\n",
      "[결과] eill - 踊らせないで (춤추게 하지마, Odorasenaide)\n",
      "  - 생성된 태그: ['자유로움', '긍정적', '파티']\n",
      "  - 생성된 요약: 자신을 향한 불안과 자유로움을 노래하며, 긍정적인 에너지를 전하는 파티 분위기의 J-POP 곡\n",
      "-------------------------\n"
     ]
    },
    {
     "name": "stderr",
     "output_type": "stream",
     "text": [
      "\r특징 추출 중:  14%|█▍        | 64/460 [01:14<07:59,  1.21s/it]"
     ]
    },
    {
     "name": "stdout",
     "output_type": "stream",
     "text": [
      "\n",
      "[결과] YOASOBI - 夜に駆ける (밤을 달리다, Into The Night / Yoru ni Kakeru)\n",
      "  - 생성된 태그: ['이별', '사랑', '추억']\n",
      "  - 생성된 요약: 이별과 사랑, 그리움에 대한 노래. 상실감과 추억이 얽힌 감성적인 내용을 담고 있음\n",
      "-------------------------\n"
     ]
    },
    {
     "name": "stderr",
     "output_type": "stream",
     "text": [
      "\r특징 추출 중:  14%|█▍        | 65/460 [01:15<08:15,  1.25s/it]"
     ]
    },
    {
     "name": "stdout",
     "output_type": "stream",
     "text": [
      "\n",
      "[결과] YOASOBI - たぶん\n",
      "  - 생성된 태그: ['이별', '외로움', '회상']\n",
      "  - 생성된 요약: 이별과 외로움을 견디며 회상하는 노래. 상처와 아픔을 감추지 못한 채로 혼자서 추억을 되새기는 이의 마음을 그리는 노래\n",
      "-------------------------\n"
     ]
    },
    {
     "name": "stderr",
     "output_type": "stream",
     "text": [
      "\r특징 추출 중:  14%|█▍        | 66/460 [01:17<09:03,  1.38s/it]"
     ]
    },
    {
     "name": "stdout",
     "output_type": "stream",
     "text": [
      "\n",
      "[결과] Bump Of Chicken(범프 오브 치킨) - Acacia\n",
      "  - 생성된 태그: ['사랑', '추억', '감사']\n",
      "  - 생성된 요약: 서로를 발견하고 함께한 시간을 소중히 여기며, 서로에게 전하고 싶은 마음을 담은 사랑과 추억에 관한 노래\n",
      "-------------------------\n"
     ]
    },
    {
     "name": "stderr",
     "output_type": "stream",
     "text": [
      "\r특징 추출 중:  15%|█▍        | 67/460 [01:18<08:35,  1.31s/it]"
     ]
    },
    {
     "name": "stdout",
     "output_type": "stream",
     "text": [
      "\n",
      "[결과] 嵐 (ARASHI) - Whenever You Call\n",
      "  - 생성된 태그: ['사랑', '헌신', '지지']\n",
      "  - 생성된 요약: 상대를 지지하고 사랑하는 마음을 담은 노래. 서로 멀리 떨어져 있어도 변함없는 사랑을 약속하며 헌신하는 노래\n",
      "-------------------------\n"
     ]
    },
    {
     "name": "stderr",
     "output_type": "stream",
     "text": [
      "\r특징 추출 중:  15%|█▍        | 68/460 [01:19<07:41,  1.18s/it]"
     ]
    },
    {
     "name": "stdout",
     "output_type": "stream",
     "text": [
      "\n",
      "[결과] YOASOBI - ハルジオン\n",
      "  - 생성된 태그: ['회상', '그리움', '잊지 못함']\n",
      "  - 생성된 요약: 과거를 회상하며 그리움을 느끼고, 잊지 못하는 마음을 담은 노래\n",
      "-------------------------\n"
     ]
    },
    {
     "name": "stderr",
     "output_type": "stream",
     "text": [
      "\r특징 추출 중:  15%|█▌        | 69/460 [01:20<08:15,  1.27s/it]"
     ]
    },
    {
     "name": "stdout",
     "output_type": "stream",
     "text": [
      "\n",
      "[결과] SPYAIR(스파이에어/スパイエアー) - One Day\n",
      "  - 생성된 태그: ['희망', '도전', '성장']\n",
      "  - 생성된 요약: 고난과 역경을 극복하며 힘든 상황에서도 희망을 잃지 않고 도전하고 성장해나가는 과정을 담은 노래\n",
      "-------------------------\n"
     ]
    },
    {
     "name": "stderr",
     "output_type": "stream",
     "text": [
      "\r특징 추출 중:  15%|█▌        | 70/460 [01:21<07:36,  1.17s/it]"
     ]
    },
    {
     "name": "stdout",
     "output_type": "stream",
     "text": [
      "\n",
      "[결과] Yorushika - Eat The Wind\n",
      "  - 생성된 태그: ['사랑', '추억', '봄']\n",
      "  - 생성된 요약: 사랑하는 이를 그리워하는 추억과 사랑에 관한 노래. 봄의 아름다움을 담은 노래\n",
      "-------------------------\n"
     ]
    },
    {
     "name": "stderr",
     "output_type": "stream",
     "text": [
      "\r특징 추출 중:  15%|█▌        | 71/460 [01:22<07:27,  1.15s/it]"
     ]
    },
    {
     "name": "stdout",
     "output_type": "stream",
     "text": [
      "\n",
      "[결과] YOASOBI - あの夢をなぞって (그 꿈을 덧그리며, Ano Yumewo Nazotte)\n",
      "  - 생성된 태그: ['사랑', '회상', '희망']\n",
      "  - 생성된 요약: 사랑하는 이와 함께하는 특별한 순간을 회상하며 향한 희망과 사랑을 담은 노래\n",
      "-------------------------\n"
     ]
    },
    {
     "name": "stderr",
     "output_type": "stream",
     "text": [
      "\r특징 추출 중:  16%|█▌        | 72/460 [01:23<06:54,  1.07s/it]"
     ]
    },
    {
     "name": "stdout",
     "output_type": "stream",
     "text": [
      "\n",
      "[결과] Ohara Sakurako(From MUSH&Co.)(오하라 사쿠라코/大原櫻子) - #やっぱもっと / #Yappamotto\n",
      "  - 생성된 태그: ['사랑', '회한', '추억']\n",
      "  - 생성된 요약: 20대 초반의 사랑을 회한하며 추억 속에서의 사랑을 재고하는 노래\n",
      "-------------------------\n"
     ]
    },
    {
     "name": "stderr",
     "output_type": "stream",
     "text": [
      "\r특징 추출 중:  16%|█▌        | 73/460 [01:24<07:11,  1.12s/it]"
     ]
    },
    {
     "name": "stdout",
     "output_type": "stream",
     "text": [
      "\n",
      "[결과] 瑛人 - 香水／Kousui\n",
      "  - 생성된 태그: ['회상', '이별', '추억']\n",
      "  - 생성된 요약: 옛날의 사랑하는 이와의 추억을 회상하며 이별과 상실을 노래한 노래\n",
      "-------------------------\n"
     ]
    },
    {
     "name": "stderr",
     "output_type": "stream",
     "text": [
      "\r특징 추출 중:  16%|█▌        | 74/460 [01:26<08:24,  1.31s/it]"
     ]
    },
    {
     "name": "stdout",
     "output_type": "stream",
     "text": [
      "\n",
      "[결과] ONE OK ROCK - 完全感覺 Dreamer (Kanzen Kankaku Dreamer)\n",
      "  - 생성된 태그: ['도전', '자신감', '희망']\n",
      "  - 생성된 요약: 자신의 판단과 꿈을 향한 도전으로 가득한 노래. 어려움에 부딪혀도 자신감을 잃지 않고 희망을 품고 앞으로 나아가는 모습을 담은 곡\n",
      "-------------------------\n"
     ]
    },
    {
     "name": "stderr",
     "output_type": "stream",
     "text": [
      "\r특징 추출 중:  16%|█▋        | 75/460 [01:27<08:06,  1.26s/it]"
     ]
    },
    {
     "name": "stdout",
     "output_type": "stream",
     "text": [
      "\n",
      "[결과] Aimer(에메/エメ) - SPARK-AGAIN\n",
      "  - 생성된 태그: ['도전', '인내', '긍정']\n",
      "  - 생성된 요약: 고난과 역경을 극복하며 다시 빛을 발하는 강인한 의지와 긍정적 에너지를 담은 노래\n",
      "-------------------------\n"
     ]
    },
    {
     "name": "stderr",
     "output_type": "stream",
     "text": [
      "\r특징 추출 중:  17%|█▋        | 76/460 [01:28<07:54,  1.24s/it]"
     ]
    },
    {
     "name": "stdout",
     "output_type": "stream",
     "text": [
      "\n",
      "[결과] Kenshi Yonezu(켄시 요네즈/米津 玄師) - Eine Kleine\n",
      "  - 생성된 태그: ['사랑', '이별', '희망']\n",
      "  - 생성된 요약: 서로에 대한 사랑과 이별의 아픔, 그리고 희망을 담은 노래. 상대에게 전하지 못하는 마음의 고뇌와 어려움을 표현하며, 서로에게 대한 그리움과 소망을 담은 노래\n",
      "-------------------------\n"
     ]
    },
    {
     "name": "stderr",
     "output_type": "stream",
     "text": [
      "\r특징 추출 중:  17%|█▋        | 77/460 [01:29<07:27,  1.17s/it]"
     ]
    },
    {
     "name": "stdout",
     "output_type": "stream",
     "text": [
      "\n",
      "[결과] aimyon - On This Day We Say Goodbye\n",
      "  - 생성된 태그: ['회상', '희망', '도전']\n",
      "  - 생성된 요약: 과거의 상처와 회한을 극복하고 희망찬 미래를 향해 도전하는 내용을 담은 노래\n",
      "-------------------------\n"
     ]
    },
    {
     "name": "stderr",
     "output_type": "stream",
     "text": [
      "\r특징 추출 중:  17%|█▋        | 78/460 [01:31<07:48,  1.23s/it]"
     ]
    },
    {
     "name": "stdout",
     "output_type": "stream",
     "text": [
      "\n",
      "[결과] OFFICIAL HIGE DANDISM - 115万キロのフィルム (115 Million Kilometer Film / 115만 킬로미터의 필름)\n",
      "  - 생성된 태그: ['음악', '영화', '추억']\n",
      "  - 생성된 요약: 가사는 노래와 영화를 통해 삶의 여정과 소중한 순간들을 함께하는 추억에 대한 이야기로 구성되어 있습니다. 삶의 쓴 맛과 단 맛을 함께하며 촬영을 계속하고 새로운 명장면을 찾아가는 모험을 담은 노래입니다\n",
      "-------------------------\n"
     ]
    },
    {
     "name": "stderr",
     "output_type": "stream",
     "text": [
      "\r특징 추출 중:  17%|█▋        | 79/460 [01:32<07:48,  1.23s/it]"
     ]
    },
    {
     "name": "stdout",
     "output_type": "stream",
     "text": [
      "\n",
      "[결과] ZUTOMAYO - Obenkyou Shitoiteyo\n",
      "  - 생성된 태그: ['감정', '자아성찰', '고민']\n",
      "  - 생성된 요약: 자신의 감정과 마음의 소리를 솔직하게 표현하며, 자아성찰과 고민을 담은 노래\n",
      "-------------------------\n"
     ]
    },
    {
     "name": "stderr",
     "output_type": "stream",
     "text": [
      "\r특징 추출 중:  17%|█▋        | 80/460 [01:33<07:21,  1.16s/it]"
     ]
    },
    {
     "name": "stdout",
     "output_type": "stream",
     "text": [
      "\n",
      "[결과] ONE OK ROCK - Wherever You Are\n",
      "  - 생성된 태그: ['사랑', '약속', '기억']\n",
      "  - 생성된 요약: 영원한 약속과 사랑을 주제로 하는 노래. 서로를 생각하며 함께하는 기쁨과 감사함을 담은 노래\n",
      "-------------------------\n"
     ]
    },
    {
     "name": "stderr",
     "output_type": "stream",
     "text": [
      "\r특징 추출 중:  18%|█▊        | 81/460 [01:34<07:30,  1.19s/it]"
     ]
    },
    {
     "name": "stdout",
     "output_type": "stream",
     "text": [
      "\n",
      "[결과] Yorushika - Rain with Cappuccino\n",
      "  - 생성된 태그: ['사랑', '추억', '이별']\n",
      "  - 생성된 요약: 커피의 색감을 통해 사랑과 이별, 그리움을 담은 노래. 추억에 젖어들며 이별의 아픔을 견뎌내는 이들의 이야기를 담고 있음\n",
      "-------------------------\n"
     ]
    },
    {
     "name": "stderr",
     "output_type": "stream",
     "text": [
      "\r특징 추출 중:  18%|█▊        | 82/460 [01:35<06:54,  1.10s/it]"
     ]
    },
    {
     "name": "stdout",
     "output_type": "stream",
     "text": [
      "\n",
      "[결과] TAMTAM(탐탐) - Summer Ghost\n",
      "  - 생성된 태그: ['회상', '사랑', '추억']\n",
      "  - 생성된 요약: 과거의 추억을 회상하며 사랑하고 그리워하는 마음을 담은 여름의 감성을 노래\n",
      "-------------------------\n"
     ]
    },
    {
     "name": "stderr",
     "output_type": "stream",
     "text": [
      "\r특징 추출 중:  18%|█▊        | 83/460 [01:36<06:49,  1.08s/it]"
     ]
    },
    {
     "name": "stdout",
     "output_type": "stream",
     "text": [
      "\n",
      "[결과] aimyon - GOOD NIGHT BABY\n",
      "  - 생성된 태그: ['사랑', '이별', '회상']\n",
      "  - 생성된 요약: 이별 후에도 서로를 그리워하며 다시 만나고 싶어하는 사랑에 관한 노래\n",
      "-------------------------\n"
     ]
    },
    {
     "name": "stderr",
     "output_type": "stream",
     "text": [
      "\r특징 추출 중:  18%|█▊        | 84/460 [01:37<06:57,  1.11s/it]"
     ]
    },
    {
     "name": "stdout",
     "output_type": "stream",
     "text": [
      "\n",
      "[결과] ZUTOMAYO - Nouriueno Cracker\n",
      "  - 생성된 태그: ['고독', '사랑', '축하']\n",
      "  - 생성된 요약: 고독을 사랑받으며 밤이 밝아올 때까지, 상대에게 '축하해'라고 말하지만 돌아오지 않는 상황을 그리며, 곁에 없어도 괜찮다고 말하며 서로를 이해하고 위로하는 노래\n",
      "-------------------------\n"
     ]
    },
    {
     "name": "stderr",
     "output_type": "stream",
     "text": [
      "\r특징 추출 중:  18%|█▊        | 85/460 [01:39<08:12,  1.31s/it]"
     ]
    },
    {
     "name": "stdout",
     "output_type": "stream",
     "text": [
      "\n",
      "[결과] Yorushika - Spring Thief\n",
      "  - 생성된 태그: ['이별', '사랑', '봄']\n",
      "  - 생성된 요약: 봄의 아름다움과 이별의 아픔을 담은 가사. 사랑의 끝을 앓는 가슴 한 켠의 아픔과 봄의 정취가 묘하게 어우러진 노래\n",
      "-------------------------\n"
     ]
    },
    {
     "name": "stderr",
     "output_type": "stream",
     "text": [
      "\r특징 추출 중:  19%|█▊        | 86/460 [01:41<09:37,  1.55s/it]"
     ]
    },
    {
     "name": "stdout",
     "output_type": "stream",
     "text": [
      "\n",
      "[결과] aimyon - Morning Sun\n",
      "  - 생성된 태그: ['사랑', '상처', '후회']\n",
      "  - 생성된 요약: 상처받은 사랑과 후회에 대한 감정을 담은 노래\n",
      "-------------------------\n"
     ]
    },
    {
     "name": "stderr",
     "output_type": "stream",
     "text": [
      "\r특징 추출 중:  19%|█▉        | 87/460 [01:42<09:00,  1.45s/it]"
     ]
    },
    {
     "name": "stdout",
     "output_type": "stream",
     "text": [
      "\n",
      "[결과] SPYAIR(스파이에어/スパイエアー) - Wadachi\n",
      "  - 생성된 태그: ['우정', '추억', '격려']\n",
      "  - 생성된 요약: 우정과 추억을 주제로 한 노래. 힘든 시간을 견디며 서로를 격려하고, 함께한 소중한 순간들을 회상하는 따뜻한 노래\n",
      "-------------------------\n"
     ]
    },
    {
     "name": "stderr",
     "output_type": "stream",
     "text": [
      "\r특징 추출 중:  19%|█▉        | 88/460 [01:43<08:11,  1.32s/it]"
     ]
    },
    {
     "name": "stdout",
     "output_type": "stream",
     "text": [
      "\n",
      "[결과] OFFICIAL HIGE DANDISM - Universe\n",
      "  - 생성된 태그: ['고민', '자아탐구', '우주']\n",
      "  - 생성된 요약: 자신을 돌아보고 삶의 방황과 고난을 극복하며 우주적인 테마를 담은 노래\n",
      "-------------------------\n"
     ]
    },
    {
     "name": "stderr",
     "output_type": "stream",
     "text": [
      "\r특징 추출 중:  19%|█▉        | 89/460 [01:45<07:49,  1.27s/it]"
     ]
    },
    {
     "name": "stdout",
     "output_type": "stream",
     "text": [
      "\n",
      "[결과] ALI - LOST IN PARADISE (Jujutsu Kaisen Ending Theme Song) (feat. AKLO)\n",
      "  - 생성된 태그: ['도전', '인내', '자기계발']\n",
      "  - 생성된 요약: 도전과 인내를 통해 자기계발을 이루어가며 어려움을 극복하고 자신을 믿는 노래\n",
      "-------------------------\n"
     ]
    },
    {
     "name": "stderr",
     "output_type": "stream",
     "text": [
      "\r특징 추출 중:  20%|█▉        | 90/460 [01:46<08:09,  1.32s/it]"
     ]
    },
    {
     "name": "stdout",
     "output_type": "stream",
     "text": [
      "\n",
      "[결과] aimyon - Marshmallow\n",
      "  - 생성된 태그: ['행복', '꿈', '몽환적']\n",
      "  - 생성된 요약: 꿈 속에서 행복한 상상을 이어가며 현실과 꿈의 경계를 허물며 나아가는 모험을 담은 몽환적인 노래\n",
      "-------------------------\n"
     ]
    },
    {
     "name": "stderr",
     "output_type": "stream",
     "text": [
      "\r특징 추출 중:  20%|█▉        | 91/460 [01:47<08:02,  1.31s/it]"
     ]
    },
    {
     "name": "stdout",
     "output_type": "stream",
     "text": [
      "\n",
      "[결과] SEKAI NO OWARI(세카이노 오와리) - silent\n",
      "  - 생성된 태그: ['사랑', '이별', '추억']\n",
      "  - 생성된 요약: 사랑했던 상대에 대한 추억과 이별의 아픔을 담은 노래. 눈이 내리는 밤, 사랑했던 순간을 회상하며 혼자서도 아픔을 견디고 있는 이의 심경을 그리는 곡\n",
      "-------------------------\n"
     ]
    },
    {
     "name": "stderr",
     "output_type": "stream",
     "text": [
      "\r특징 추출 중:  20%|██        | 92/460 [01:49<08:31,  1.39s/it]"
     ]
    },
    {
     "name": "stdout",
     "output_type": "stream",
     "text": [
      "\n",
      "[결과] Shinsei kamattechan(신세이 카맛테짱/神聖かまってちゃん) - 僕の戦争 / Boku no Sensou (나의 전쟁) - TV Size * 진격의 거인 The Final Season 주제가\n",
      "  - 생성된 태그: ['전쟁', '파멸', '복수']\n",
      "  - 생성된 요약: 어둠에서 시작하여 빛이 모든 것을 밝힐 때까지의 전쟁과 파멸, 그리고 복수에 대한 노래\n",
      "-------------------------\n"
     ]
    },
    {
     "name": "stderr",
     "output_type": "stream",
     "text": [
      "\r특징 추출 중:  20%|██        | 93/460 [01:50<07:59,  1.31s/it]"
     ]
    },
    {
     "name": "stdout",
     "output_type": "stream",
     "text": [
      "\n",
      "[결과] 嵐 (ARASHI) - カイト／Kite\n",
      "  - 생성된 태그: ['사랑', '추억', '희망']\n",
      "  - 생성된 요약: 서로를 사랑하며 함께한 추억을 회상하며 희망에 가득한 미래를 상상하는 아름다운 사랑 노래\n",
      "-------------------------\n"
     ]
    },
    {
     "name": "stderr",
     "output_type": "stream",
     "text": [
      "\r특징 추출 중:  20%|██        | 94/460 [01:51<07:12,  1.18s/it]"
     ]
    },
    {
     "name": "stdout",
     "output_type": "stream",
     "text": [
      "\n",
      "[결과] 嵐 (ARASHI) - いつか秒針のあう頃／Itsuka Byoushinno Aukoro\n",
      "  - 생성된 태그: ['사랑', '추억', '감동']\n",
      "  - 생성된 요약: 따뜻한 빛 아래에서 함께하는 이야기를 통해 사랑과 추억, 그리고 감동을 전하는 노래\n",
      "-------------------------\n"
     ]
    },
    {
     "name": "stderr",
     "output_type": "stream",
     "text": [
      "\r특징 추출 중:  21%|██        | 95/460 [01:52<07:37,  1.25s/it]"
     ]
    },
    {
     "name": "stdout",
     "output_type": "stream",
     "text": [
      "\n",
      "[결과] 嵐 (ARASHI) - The Music Never Ends\n",
      "  - 생성된 태그: ['사랑', '희망', '우정']\n",
      "  - 생성된 요약: 끝없이 이어지는 사랑과 희망, 우정을 노래하는 음악. 함께하는 여정을 음악을 통해 표현\n",
      "-------------------------\n"
     ]
    },
    {
     "name": "stderr",
     "output_type": "stream",
     "text": [
      "\r특징 추출 중:  21%|██        | 96/460 [01:54<07:31,  1.24s/it]"
     ]
    },
    {
     "name": "stdout",
     "output_type": "stream",
     "text": [
      "\n",
      "[결과] SPYAIR(스파이에어/スパイエアー) - Imagination (イマジネーション) *애니메이션「하이큐!!」오프닝 테마 곡\n",
      "  - 생성된 태그: ['긍정', '도전', '희망']\n",
      "  - 생성된 요약: 끊임없이 도전하며 힘들어도 포기하지 않고 끝까지 이뤄내려는 강인한 의지와 희망을 담은 노래\n",
      "-------------------------\n"
     ]
    },
    {
     "name": "stderr",
     "output_type": "stream",
     "text": [
      "\r특징 추출 중:  21%|██        | 97/460 [01:54<06:55,  1.14s/it]"
     ]
    },
    {
     "name": "stdout",
     "output_type": "stream",
     "text": [
      "\n",
      "[결과] 嵐 (ARASHI) - SHOW TIME\n",
      "  - 생성된 태그: ['사랑', '춤', '파티']\n",
      "  - 생성된 요약: 사랑과 춤, 파티 분위기를 담은 활기찬 J-POP 노래\n",
      "-------------------------\n"
     ]
    },
    {
     "name": "stderr",
     "output_type": "stream",
     "text": [
      "\r특징 추출 중:  21%|██▏       | 98/460 [01:56<07:38,  1.27s/it]"
     ]
    },
    {
     "name": "stdout",
     "output_type": "stream",
     "text": [
      "\n",
      "[결과] 嵐 (ARASHI) - Do you... ?\n",
      "  - 생성된 태그: ['파티', '즐거움', '춤']\n",
      "  - 생성된 요약: 파티 분위기를 만끽하며 즐거움을 느끼고 춤추며 즐기는 노래\n",
      "-------------------------\n"
     ]
    },
    {
     "name": "stderr",
     "output_type": "stream",
     "text": [
      "\r특징 추출 중:  22%|██▏       | 99/460 [01:57<07:34,  1.26s/it]"
     ]
    },
    {
     "name": "stdout",
     "output_type": "stream",
     "text": [
      "\n",
      "[결과] Masaki Suda(마사키 스다/菅田将暉) - さよならエレジー / Sayonara Elegy (사요나라 Elegy)\n",
      "  - 생성된 태그: ['이별', '고독', '사랑']\n",
      "  - 생성된 요약: 고독과 이별, 사랑에 대한 아픔과 갈망을 담은 노래. 상대방을 떠나고 혼자 남겨진 고독한 마음을 표현하며, 사랑의 아픔과 이별의 상처를 노래하고 있다\n",
      "-------------------------\n"
     ]
    },
    {
     "name": "stderr",
     "output_type": "stream",
     "text": [
      "특징 추출 중:  22%|██▏       | 100/460 [01:58<06:58,  1.16s/it]"
     ]
    },
    {
     "name": "stdout",
     "output_type": "stream",
     "text": [
      "\n",
      "[결과] RADWIMPS(래드윔프스) - なんでもないや (movie edit) / Nandemonaiya (movie edit)\n",
      "  - 생성된 태그: ['사랑', '이별', '추억']\n",
      "  - 생성된 요약: 서로를 놓고 싶지 않은 사랑의 감정과 이별에 대한 아련한 추억을 담은 노래\n",
      "-------------------------\n",
      "\n",
      "[진행 상황 저장됨: 100/460 완료]\n"
     ]
    },
    {
     "name": "stderr",
     "output_type": "stream",
     "text": [
      "\r특징 추출 중:  22%|██▏       | 101/460 [01:59<06:40,  1.11s/it]"
     ]
    },
    {
     "name": "stdout",
     "output_type": "stream",
     "text": [
      "\n",
      "[결과] Gen Hoshino(호시노 겐/星野 源) - Pop Virus\n",
      "  - 생성된 태그: ['사랑', '추억', '추억']\n",
      "  - 생성된 요약: 사랑하는 이를 그리워하며, 그리움을 노래하는 가사. 추억에 젖어 있는 노래\n",
      "-------------------------\n"
     ]
    },
    {
     "name": "stderr",
     "output_type": "stream",
     "text": [
      "\r특징 추출 중:  22%|██▏       | 102/460 [02:00<06:33,  1.10s/it]"
     ]
    },
    {
     "name": "stdout",
     "output_type": "stream",
     "text": [
      "\n",
      "[결과] 嵐 (ARASHI) - I Can't Wait For Christmas\n",
      "  - 생성된 태그: ['크리스마스', '기쁨', '사랑']\n",
      "  - 생성된 요약: 크리스마스의 기쁨과 사랑을 나누며 특별한 날을 기다리고 축하하는 노래\n",
      "-------------------------\n"
     ]
    },
    {
     "name": "stderr",
     "output_type": "stream",
     "text": [
      "\r특징 추출 중:  22%|██▏       | 103/460 [02:01<06:36,  1.11s/it]"
     ]
    },
    {
     "name": "stdout",
     "output_type": "stream",
     "text": [
      "\n",
      "[결과] Gen Hoshino(호시노 겐/星野 源) - SUN\n",
      "  - 생성된 태그: ['희망', '감동', '우정']\n",
      "  - 생성된 요약: 어둠과 어려움을 이겨내며 희망을 가져다 주는 친구 혹은 사랑하는 이에 대한 감사와 우정을 노래한 노래\n",
      "-------------------------\n"
     ]
    },
    {
     "name": "stderr",
     "output_type": "stream",
     "text": [
      "\r특징 추출 중:  23%|██▎       | 104/460 [02:02<06:06,  1.03s/it]"
     ]
    },
    {
     "name": "stdout",
     "output_type": "stream",
     "text": [
      "\n",
      "[결과] Wands(완즈) - 世界が終るまでは···\n",
      "  - 생성된 태그: ['이별', '사랑', '추억']\n",
      "  - 생성된 요약: 서로를 알아가는 과정에서의 사랑과 이별, 그로 인해 상처받은 마음을 담은 노래\n",
      "-------------------------\n"
     ]
    },
    {
     "name": "stderr",
     "output_type": "stream",
     "text": [
      "\r특징 추출 중:  23%|██▎       | 105/460 [02:04<06:37,  1.12s/it]"
     ]
    },
    {
     "name": "stdout",
     "output_type": "stream",
     "text": [
      "\n",
      "[결과] Hiroyuki Sawano(사와노 히로유키/澤野弘之) - Barricades (Vocal. Yosh, Gemie, Mpi)\n",
      "  - 생성된 태그: ['자유', '구원', '감사']\n",
      "  - 생성된 요약: 갇혀있던 삶에서 벗어나 자유를 찾고자 하는 욕망과 새로운 시작을 향한 구원을 바라는 감사의 노래\n",
      "-------------------------\n"
     ]
    },
    {
     "name": "stderr",
     "output_type": "stream",
     "text": [
      "\r특징 추출 중:  23%|██▎       | 106/460 [02:05<06:27,  1.10s/it]"
     ]
    },
    {
     "name": "stdout",
     "output_type": "stream",
     "text": [
      "\n",
      "[결과] Takeuchi Mariya(다케우치 마리야/竹內まりや) - Plastic Love\n",
      "  - 생성된 태그: ['사랑', '추억', '일상']\n",
      "  - 생성된 요약: 사랑에 상처받고 외로움을 느끼며 평범한 일상을 보내는 과정을 담은 노래\n",
      "-------------------------\n"
     ]
    },
    {
     "name": "stderr",
     "output_type": "stream",
     "text": [
      "\r특징 추출 중:  23%|██▎       | 107/460 [02:06<06:29,  1.10s/it]"
     ]
    },
    {
     "name": "stdout",
     "output_type": "stream",
     "text": [
      "\n",
      "[결과] DEEP SQUAD - Good Love Your Love\n",
      "  - 생성된 태그: ['사랑', '행복', '이별']\n",
      "  - 생성된 요약: 사랑하는 이와 함께하는 소중한 순간을 행복하게 여기며, 이별의 아픔을 견디는 감성적인 노래\n",
      "-------------------------\n"
     ]
    },
    {
     "name": "stderr",
     "output_type": "stream",
     "text": [
      "\r특징 추출 중:  23%|██▎       | 108/460 [02:07<06:36,  1.13s/it]"
     ]
    },
    {
     "name": "stdout",
     "output_type": "stream",
     "text": [
      "\n",
      "[결과] ZARD(자드) - Don't you see! - 애니메이션 「드래곤볼 GT」 ED 테마\n",
      "  - 생성된 태그: ['사랑', '이별', '소망']\n",
      "  - 생성된 요약: 서로를 더 알고 싶어하는 소망과 사랑에 대한 갈망, 그리고 이별과 소중한 사람을 지키고 싶어하는 감정을 담은 노래\n",
      "-------------------------\n"
     ]
    },
    {
     "name": "stderr",
     "output_type": "stream",
     "text": [
      "\r특징 추출 중:  24%|██▎       | 109/460 [02:08<07:14,  1.24s/it]"
     ]
    },
    {
     "name": "stdout",
     "output_type": "stream",
     "text": [
      "\n",
      "[결과] ONE OK ROCK - C.H.A.O.S.M.Y.T.H.\n",
      "  - 생성된 태그: ['추억', '우정', '소중함']\n",
      "  - 생성된 요약: 과거를 회상하며 소중한 우정과 추억을 음미하는 노래. 삶을 소중히 여기고 현재를 살아가는 메시지를 담고 있음\n",
      "-------------------------\n"
     ]
    },
    {
     "name": "stderr",
     "output_type": "stream",
     "text": [
      "\r특징 추출 중:  24%|██▍       | 110/460 [02:10<07:02,  1.21s/it]"
     ]
    },
    {
     "name": "stdout",
     "output_type": "stream",
     "text": [
      "\n",
      "[결과] Wanuka - Tipsy\n",
      "  - 생성된 태그: ['사랑', '우정', '소망']\n",
      "  - 생성된 요약: 가사는 집으로 돌아가는 것을 바라며 사랑과 우정을 담은 노래. 상대방과 함께 보낼 수 있는 아늑한 시간을 소망하는 노래\n",
      "-------------------------\n"
     ]
    },
    {
     "name": "stderr",
     "output_type": "stream",
     "text": [
      "\r특징 추출 중:  24%|██▍       | 111/460 [02:11<06:47,  1.17s/it]"
     ]
    },
    {
     "name": "stdout",
     "output_type": "stream",
     "text": [
      "\n",
      "[결과] RADWIMPS(래드윔프스) - 鋼の羽根 / Iron Feather\n",
      "  - 생성된 태그: ['도전', '성장', '희망']\n",
      "  - 생성된 요약: 어려움을 극복하고 자아를 찾아가는 과정에서의 용기와 희망을 담은 노래\n",
      "-------------------------\n"
     ]
    },
    {
     "name": "stderr",
     "output_type": "stream",
     "text": [
      "\r특징 추출 중:  24%|██▍       | 112/460 [02:12<07:12,  1.24s/it]"
     ]
    },
    {
     "name": "stdout",
     "output_type": "stream",
     "text": [
      "\n",
      "[결과] aimyon - On a Cherry Blossom Night\n",
      "  - 생성된 태그: ['사랑', '이별', '추억']\n",
      "  - 생성된 요약: 봄밤에 벚꽃이 피는 아름다운 풍경과 사랑하는 이에 대한 그리움과 상실을 담은 노래\n",
      "-------------------------\n"
     ]
    },
    {
     "name": "stderr",
     "output_type": "stream",
     "text": [
      "\r특징 추출 중:  25%|██▍       | 113/460 [02:13<06:57,  1.20s/it]"
     ]
    },
    {
     "name": "stdout",
     "output_type": "stream",
     "text": [
      "\n",
      "[결과] Hikaru Utada(우타다 히카루/宇多田ヒカル) - One Last Kiss\n",
      "  - 생성된 태그: ['사랑', '이별', '추억']\n",
      "  - 생성된 요약: 잊을 수 없는 사랑과 이별의 아픔을 담은 노래. 상실감과 추억 속에서 빠져나오지 못하는 감정을 표현함\n",
      "-------------------------\n"
     ]
    },
    {
     "name": "stderr",
     "output_type": "stream",
     "text": [
      "\r특징 추출 중:  25%|██▍       | 114/460 [02:14<06:11,  1.07s/it]"
     ]
    },
    {
     "name": "stdout",
     "output_type": "stream",
     "text": [
      "\n",
      "[결과] Yorushika - Bomber (Re-Recording)\n",
      "  - 생성된 태그: ['희생', '절망', '포기']\n",
      "  - 생성된 요약: 상대를 잃고 절망에 빠져 포기하고자 하지만 힘들어하는 내면의 갈등을 그린 노래\n",
      "-------------------------\n"
     ]
    },
    {
     "name": "stderr",
     "output_type": "stream",
     "text": [
      "\r특징 추출 중:  25%|██▌       | 115/460 [02:15<06:15,  1.09s/it]"
     ]
    },
    {
     "name": "stdout",
     "output_type": "stream",
     "text": [
      "\n",
      "[결과] Toki Asako(토키 아사코/土岐麻子) - Takin' It Slow\n",
      "  - 생성된 태그: ['희망', '자아 발견', '긍정적']\n",
      "  - 생성된 요약: 자신을 되돌아보고 희망찬 새로운 시작을 꿈꾸며 긍정적인 마음가짐을 갖춘 노래\n",
      "-------------------------\n"
     ]
    },
    {
     "name": "stderr",
     "output_type": "stream",
     "text": [
      "\r특징 추출 중:  25%|██▌       | 116/460 [02:16<05:40,  1.01it/s]"
     ]
    },
    {
     "name": "stdout",
     "output_type": "stream",
     "text": [
      "\n",
      "[결과] Back Number(백 넘버/バックナンバー) - Happy End\n",
      "  - 생성된 태그: ['이별', '그리움', '애잔']\n",
      "  - 생성된 요약: 이별과 그리움을 표현한 애잔하고 서러운 노래\n",
      "-------------------------\n"
     ]
    },
    {
     "name": "stderr",
     "output_type": "stream",
     "text": [
      "\r특징 추출 중:  25%|██▌       | 117/460 [02:17<05:41,  1.00it/s]"
     ]
    },
    {
     "name": "stdout",
     "output_type": "stream",
     "text": [
      "\n",
      "[결과] OFFICIAL HIGE DANDISM - HELLO\n",
      "  - 생성된 태그: ['긍정', '우정', '희망']\n",
      "  - 생성된 요약: 우정과 희망을 주제로 하는 긍정적인 노래. 서로를 이해하고 격려해주며 함께 성장해 나가는 모습을 그린 노래\n",
      "-------------------------\n"
     ]
    },
    {
     "name": "stderr",
     "output_type": "stream",
     "text": [
      "\r특징 추출 중:  26%|██▌       | 118/460 [02:18<05:20,  1.07it/s]"
     ]
    },
    {
     "name": "stdout",
     "output_type": "stream",
     "text": [
      "\n",
      "[결과] Hemenway(헤멘웨이) - 優しい言葉 (Yasashii Kotobai / 상냥한 말)\n",
      "  - 생성된 태그: ['이별', '회상', '추억']\n",
      "  - 생성된 요약: 이별과 회상을 주제로 한 가사. 서로를 찾았던 그리움과 추억을 담은 노래\n",
      "-------------------------\n"
     ]
    },
    {
     "name": "stderr",
     "output_type": "stream",
     "text": [
      "\r특징 추출 중:  26%|██▌       | 119/460 [02:19<05:29,  1.03it/s]"
     ]
    },
    {
     "name": "stdout",
     "output_type": "stream",
     "text": [
      "\n",
      "[결과] Gen Hoshino(호시노 겐/星野 源) - 時よ / Tokiyo\n",
      "  - 생성된 태그: ['희망', '추억', '성장']\n",
      "  - 생성된 요약: 시련을 극복하고 앞으로 나아가는 희망과 추억 속에서의 성장을 그린 노래\n",
      "-------------------------\n"
     ]
    },
    {
     "name": "stderr",
     "output_type": "stream",
     "text": [
      "\r특징 추출 중:  26%|██▌       | 120/460 [02:20<06:09,  1.09s/it]"
     ]
    },
    {
     "name": "stdout",
     "output_type": "stream",
     "text": [
      "\n",
      "[결과] Sheena Ringo(시이나 링고/椎名林檎) - Marunouchi Sadistic\n",
      "  - 생성된 태그: ['도시', '일상', '소망']\n",
      "  - 생성된 요약: 도시 생활 속에서의 일상과 소망을 담은 가사. 현실과 이상 사이에서 고민하는 노래\n",
      "-------------------------\n"
     ]
    },
    {
     "name": "stderr",
     "output_type": "stream",
     "text": [
      "\r특징 추출 중:  26%|██▋       | 121/460 [02:21<05:41,  1.01s/it]"
     ]
    },
    {
     "name": "stdout",
     "output_type": "stream",
     "text": [
      "\n",
      "[결과] Aimer(에메/エメ) - chikyugi\n",
      "  - 생성된 태그: ['사랑', '추억', '춤']\n",
      "  - 생성된 요약: 사랑에 대한 갈망과 추억 속에서 춤추며 즐기는 밤을 묘사한 노래\n",
      "-------------------------\n"
     ]
    },
    {
     "name": "stderr",
     "output_type": "stream",
     "text": [
      "\r특징 추출 중:  27%|██▋       | 122/460 [02:22<05:42,  1.01s/it]"
     ]
    },
    {
     "name": "stdout",
     "output_type": "stream",
     "text": [
      "\n",
      "[결과] Yorushika - Evening calm,Somewhere,Fireworks\n",
      "  - 생성된 태그: ['추억', '이별', '사랑']\n",
      "  - 생성된 요약: 여름이 오기 전에 이별한 사랑을 추억하며 노래하고 있는 가수의 마음을 담은 노래\n",
      "-------------------------\n"
     ]
    },
    {
     "name": "stderr",
     "output_type": "stream",
     "text": [
      "\r특징 추출 중:  27%|██▋       | 123/460 [02:23<06:11,  1.10s/it]"
     ]
    },
    {
     "name": "stdout",
     "output_type": "stream",
     "text": [
      "\n",
      "[결과] indigo la End - natsuyo no magic\n",
      "  - 생성된 태그: ['회상', '사랑', '추억']\n",
      "  - 생성된 요약: 여름밤의 마법 속에서 사랑과 행복, 그리움을 담은 노래. 서로를 생각하며 낙엽이지만 행복한 순간을 공유하는 이들의 노래\n",
      "-------------------------\n"
     ]
    },
    {
     "name": "stderr",
     "output_type": "stream",
     "text": [
      "\r특징 추출 중:  27%|██▋       | 124/460 [02:24<05:54,  1.05s/it]"
     ]
    },
    {
     "name": "stdout",
     "output_type": "stream",
     "text": [
      "\n",
      "[결과] eill - 片っぽ (한쪽, Katappo)\n",
      "  - 생성된 태그: ['사랑', '이별', '추억']\n",
      "  - 생성된 요약: 서로를 잊지 못하고 어리석게 사랑했던 상대에 대한 추억과 아픔을 담은 노래\n",
      "-------------------------\n"
     ]
    },
    {
     "name": "stderr",
     "output_type": "stream",
     "text": [
      "\r특징 추출 중:  27%|██▋       | 125/460 [02:25<06:14,  1.12s/it]"
     ]
    },
    {
     "name": "stdout",
     "output_type": "stream",
     "text": [
      "\n",
      "[결과] Tokyojihen(동경사변/東京事變) - The Lower Classes\n",
      "  - 생성된 태그: ['모던', '사이버펑크', '사회비판']\n",
      "  - 생성된 요약: 모던 사회의 온라인과 오프라인의 이중적 삶을 비판하고, 사람들 간의 관계와 소통이 사회적인 압력에 의해 어떻게 왜곡되는지를 다룬 노래\n",
      "-------------------------\n"
     ]
    },
    {
     "name": "stderr",
     "output_type": "stream",
     "text": [
      "\r특징 추출 중:  27%|██▋       | 126/460 [02:26<05:49,  1.05s/it]"
     ]
    },
    {
     "name": "stdout",
     "output_type": "stream",
     "text": [
      "\n",
      "[결과] Yorushika - Hole In The Heart\n",
      "  - 생성된 태그: ['이별', '추억', '회상']\n",
      "  - 생성된 요약: 잊고 싶은 상처와 추억이 가득한 이별의 아픔을 담은 노래\n",
      "-------------------------\n"
     ]
    },
    {
     "name": "stderr",
     "output_type": "stream",
     "text": [
      "\r특징 추출 중:  28%|██▊       | 127/460 [02:27<05:36,  1.01s/it]"
     ]
    },
    {
     "name": "stdout",
     "output_type": "stream",
     "text": [
      "\n",
      "[결과] Lisa Ono(리사 오노/小野リサ) - C'est Si Bon\n",
      "  - 생성된 태그: ['사랑', '행복', '로맨틱']\n",
      "  - 생성된 요약: 사랑하는 이와 함께하는 순간들이 얼마나 행복하고 로맨틱한지 노래한 곡. 상대방에 대한 애정과 행복을 표현\n",
      "-------------------------\n"
     ]
    },
    {
     "name": "stderr",
     "output_type": "stream",
     "text": [
      "\r특징 추출 중:  28%|██▊       | 128/460 [02:28<06:00,  1.09s/it]"
     ]
    },
    {
     "name": "stdout",
     "output_type": "stream",
     "text": [
      "\n",
      "[결과] Kenshi Yonezu(켄시 요네즈/米津 玄師) - Shinigami\n",
      "  - 생성된 태그: ['절망', '무력감', '고독']\n",
      "  - 생성된 요약: 고통스러운 감정에 휩싸여 절망과 무력감 속에서 혼자 남겨진 고독을 노래한 곡\n",
      "-------------------------\n"
     ]
    },
    {
     "name": "stderr",
     "output_type": "stream",
     "text": [
      "\r특징 추출 중:  28%|██▊       | 129/460 [02:29<05:53,  1.07s/it]"
     ]
    },
    {
     "name": "stdout",
     "output_type": "stream",
     "text": [
      "\n",
      "[결과] Kenshi Yonezu(켄시 요네즈/米津 玄師) - Pale Blue\n",
      "  - 생성된 태그: ['이별', '사랑', '추억']\n",
      "  - 생성된 요약: 사랑하고 이별한 상대를 잊지 못하고 그리움으로 가득한 노래\n",
      "-------------------------\n"
     ]
    },
    {
     "name": "stderr",
     "output_type": "stream",
     "text": [
      "\r특징 추출 중:  28%|██▊       | 130/460 [02:30<05:32,  1.01s/it]"
     ]
    },
    {
     "name": "stdout",
     "output_type": "stream",
     "text": [
      "\n",
      "[결과] Yorushika - Matasaburo\n",
      "  - 생성된 태그: ['희망', '자유', '모험']\n",
      "  - 생성된 요약: 일상에서 벗어나 모험가로 변화하고 싶어하는 강한 욕망과 자유로운 정신을 담은 노래\n",
      "-------------------------\n"
     ]
    },
    {
     "name": "stderr",
     "output_type": "stream",
     "text": [
      "\r특징 추출 중:  28%|██▊       | 131/460 [02:32<06:15,  1.14s/it]"
     ]
    },
    {
     "name": "stdout",
     "output_type": "stream",
     "text": [
      "\n",
      "[결과] aimyon - Till I Know What Love Is (I'm Never Gonna Die)\n",
      "  - 생성된 태그: ['자기성찰', '도전', '사명감']\n",
      "  - 생성된 요약: 자기 자신을 이끌어 나가는데 있어 자신에 대한 미안함과 자신감 부족을 극복하며, 삶의 여정을 도전적으로 받아들이고자 하는 강인한 의지를 담은 노래\n",
      "-------------------------\n"
     ]
    },
    {
     "name": "stderr",
     "output_type": "stream",
     "text": [
      "\r특징 추출 중:  29%|██▊       | 132/460 [02:33<06:30,  1.19s/it]"
     ]
    },
    {
     "name": "stdout",
     "output_type": "stream",
     "text": [
      "\n",
      "[결과] Aimer(에메/エメ) - grace note\n",
      "  - 생성된 태그: ['추억', '사랑', '성장']\n",
      "  - 생성된 요약: 과거의 추억과 사랑, 그리고 성장에 대한 이야기를 담은 노래. 혼자였던 시절을 되새기며, 누군가의 사랑으로 변화해나가는 과정을 그리고 있음\n",
      "-------------------------\n"
     ]
    },
    {
     "name": "stderr",
     "output_type": "stream",
     "text": [
      "\r특징 추출 중:  29%|██▉       | 133/460 [02:34<06:11,  1.14s/it]"
     ]
    },
    {
     "name": "stdout",
     "output_type": "stream",
     "text": [
      "\n",
      "[결과] SEKAI NO OWARI(세카이노 오와리) - tears\n",
      "  - 생성된 태그: ['회상', '이별', '감동']\n",
      "  - 생성된 요약: 이별 후 상대에 대한 회상과 그리움을 담은 노래. 상처와 감동이 공존하는 노래\n",
      "-------------------------\n"
     ]
    },
    {
     "name": "stderr",
     "output_type": "stream",
     "text": [
      "\r특징 추출 중:  29%|██▉       | 134/460 [02:35<05:46,  1.06s/it]"
     ]
    },
    {
     "name": "stdout",
     "output_type": "stream",
     "text": [
      "\n",
      "[결과] OFFICIAL HIGE DANDISM - Cry Baby * 애니메이션 [도쿄 리벤저스] 오프닝 테마\n",
      "  - 생성된 태그: ['싸움', '도전', '강인함']\n",
      "  - 생성된 요약: 싸움과 도전을 통해 썩어빠진 상황에 맞서 강인함을 발휘하며 복수를 다짐하는 강렬한 노래\n",
      "-------------------------\n"
     ]
    },
    {
     "name": "stderr",
     "output_type": "stream",
     "text": [
      "\r특징 추출 중:  29%|██▉       | 135/460 [02:37<07:00,  1.29s/it]"
     ]
    },
    {
     "name": "stdout",
     "output_type": "stream",
     "text": [
      "\n",
      "[결과] Gen Hoshino(호시노 겐/星野 源) - 不思議 / FUSHIGI\n",
      "  - 생성된 태그: ['사랑', '추억', '감성']\n",
      "  - 생성된 요약: 눈동자에 사랑이 실려 흐르는 추억과 감성을 담은 노래. 사랑하는 이와 함께한 일상 속에서의 소중한 순간들을 노래하며, 고독과 용기, 사랑에 대한 복합적인 감정을 표현함\n",
      "-------------------------\n"
     ]
    },
    {
     "name": "stderr",
     "output_type": "stream",
     "text": [
      "\r특징 추출 중:  30%|██▉       | 136/460 [02:38<07:32,  1.40s/it]"
     ]
    },
    {
     "name": "stdout",
     "output_type": "stream",
     "text": [
      "\n",
      "[결과] Ado - Gira Gira\n",
      "  - 생성된 태그: ['자아인식', '사랑', '자기계발']\n",
      "  - 생성된 요약: 자신을 사랑하지 못하고 고통받는 모습을 담은 노래. 자기계발과 자아인식에 대한 내용을 담고 있음\n",
      "-------------------------\n"
     ]
    },
    {
     "name": "stderr",
     "output_type": "stream",
     "text": [
      "\r특징 추출 중:  30%|██▉       | 137/460 [02:40<07:07,  1.32s/it]"
     ]
    },
    {
     "name": "stdout",
     "output_type": "stream",
     "text": [
      "\n",
      "[결과] Yorushika - Liar\n",
      "  - 생성된 태그: ['이별', '추억', '사랑']\n",
      "  - 생성된 요약: 이별과 추억, 사랑에 대한 아련한 감정을 담은 노래\n",
      "-------------------------\n"
     ]
    },
    {
     "name": "stderr",
     "output_type": "stream",
     "text": [
      "\r특징 추출 중:  30%|███       | 138/460 [02:40<06:00,  1.12s/it]"
     ]
    },
    {
     "name": "stdout",
     "output_type": "stream",
     "text": [
      "\n",
      "[결과] Yorushika - Nautilus\n",
      "  - 생성된 태그: ['이별', '회상', '추억']\n",
      "  - 생성된 요약: 이별 후 그리움에 젖어있는 회상과 추억을 담은 노래\n",
      "-------------------------\n"
     ]
    },
    {
     "name": "stderr",
     "output_type": "stream",
     "text": [
      "\r특징 추출 중:  30%|███       | 139/460 [02:41<05:28,  1.02s/it]"
     ]
    },
    {
     "name": "stdout",
     "output_type": "stream",
     "text": [
      "\n",
      "[결과] Nakashima Mika(나카시마 미카/中島美嘉) - 눈의 꽃 (雪の華)\n",
      "  - 생성된 태그: ['사랑', '평화', '희망']\n",
      "  - 생성된 요약: 서로를 사랑하며 함께하는 평화로운 일상 속에서 늘 희망을 품고 있는 노래\n",
      "-------------------------\n"
     ]
    },
    {
     "name": "stderr",
     "output_type": "stream",
     "text": [
      "\r특징 추출 중:  30%|███       | 140/460 [02:42<05:53,  1.11s/it]"
     ]
    },
    {
     "name": "stdout",
     "output_type": "stream",
     "text": [
      "\n",
      "[결과] Yorushika - After the Rain\n",
      "  - 생성된 태그: ['회상', '사랑', '추억']\n",
      "  - 생성된 요약: 이별한 사랑을 회상하며 추억에 잠기는 노래. 상실과 그리움이 깊은 감성을 자아내는 J-POP 곡\n",
      "-------------------------\n"
     ]
    },
    {
     "name": "stderr",
     "output_type": "stream",
     "text": [
      "\r특징 추출 중:  31%|███       | 141/460 [02:44<06:00,  1.13s/it]"
     ]
    },
    {
     "name": "stdout",
     "output_type": "stream",
     "text": [
      "\n",
      "[결과] Kenshi Yonezu(켄시 요네즈/米津 玄師) - LOSER\n",
      "  - 생성된 태그: ['고독', '희망', '우정']\n",
      "  - 생성된 요약: 고독과 허무함을 느끼는 가운데도 희망을 품고 우정을 꿈꾸는 내용을 담은 노래\n",
      "-------------------------\n"
     ]
    },
    {
     "name": "stderr",
     "output_type": "stream",
     "text": [
      "\r특징 추출 중:  31%|███       | 142/460 [02:45<05:43,  1.08s/it]"
     ]
    },
    {
     "name": "stdout",
     "output_type": "stream",
     "text": [
      "\n",
      "[결과] ZUTOMAYO - Stay Foolish\n",
      "  - 생성된 태그: ['회상', '이별', '사랑']\n",
      "  - 생성된 요약: 이별하고도 서로에게 여전히 끌리며 회상하는 노래. 상처주지 않는 이별과 남아있는 사랑의 온기를 담은 노래\n",
      "-------------------------\n"
     ]
    },
    {
     "name": "stderr",
     "output_type": "stream",
     "text": [
      "\r특징 추출 중:  31%|███       | 143/460 [02:45<05:14,  1.01it/s]"
     ]
    },
    {
     "name": "stdout",
     "output_type": "stream",
     "text": [
      "\n",
      "[결과] Yorushika - Dance of You\n",
      "  - 생성된 태그: ['고독', '절망', '자아탐구']\n",
      "  - 생성된 요약: 고독과 절망 속에서 자아를 탐구하고 있는 이별의 아픔을 담은 노래\n",
      "-------------------------\n"
     ]
    },
    {
     "name": "stderr",
     "output_type": "stream",
     "text": [
      "\r특징 추출 중:  31%|███▏      | 144/460 [02:46<05:11,  1.02it/s]"
     ]
    },
    {
     "name": "stdout",
     "output_type": "stream",
     "text": [
      "\n",
      "[결과] Yorushika - Amy\n",
      "  - 생성된 태그: ['회상', '사랑', '추억']\n",
      "  - 생성된 요약: 인생의 여정과 추억을 회상하며, 사랑하고 그리워하는 마음을 담은 노래\n",
      "-------------------------\n"
     ]
    },
    {
     "name": "stderr",
     "output_type": "stream",
     "text": [
      "\r특징 추출 중:  32%|███▏      | 145/460 [02:48<05:37,  1.07s/it]"
     ]
    },
    {
     "name": "stdout",
     "output_type": "stream",
     "text": [
      "\n",
      "[결과] Yorushika - Replicant\n",
      "  - 생성된 태그: ['인생', '사랑', '우정']\n",
      "  - 생성된 요약: 인간의 가치와 삶의 진정한 의미에 대해 고찰하며, 사랑과 우정이라는 진실한 감정이 중요하다는 메시지를 전하는 노래\n",
      "-------------------------\n"
     ]
    },
    {
     "name": "stderr",
     "output_type": "stream",
     "text": [
      "\r특징 추출 중:  32%|███▏      | 146/460 [02:49<05:46,  1.10s/it]"
     ]
    },
    {
     "name": "stdout",
     "output_type": "stream",
     "text": [
      "\n",
      "[결과] Yorushika - Flower And Badger Game\n",
      "  - 생성된 태그: ['이별', '회상', '추억']\n",
      "  - 생성된 요약: 이별한 사람을 떠올리며 혼자 남겨진 추억과 회상에 젖어든 노래\n",
      "-------------------------\n"
     ]
    },
    {
     "name": "stderr",
     "output_type": "stream",
     "text": [
      "\r특징 추출 중:  32%|███▏      | 147/460 [02:50<05:32,  1.06s/it]"
     ]
    },
    {
     "name": "stdout",
     "output_type": "stream",
     "text": [
      "\n",
      "[결과] Yorushika - Escape\n",
      "  - 생성된 태그: ['회상', '추억', '여름']\n",
      "  - 생성된 요약: 여름 밤의 회상과 추억, 그리고 향수를 담은 노래\n",
      "-------------------------\n"
     ]
    },
    {
     "name": "stderr",
     "output_type": "stream",
     "text": [
      "\r특징 추출 중:  32%|███▏      | 148/460 [02:51<05:30,  1.06s/it]"
     ]
    },
    {
     "name": "stdout",
     "output_type": "stream",
     "text": [
      "\n",
      "[결과] Yorushika - Plagiarism\n",
      "  - 생성된 태그: ['사랑', '추억', '감정']\n",
      "  - 생성된 요약: 사랑과 상실, 욕망, 그리움 등 다양한 감정을 담은 노래. 자신의 욕망과 부족함을 표현하며 아름다운 것을 찾고자 하는 욕망을 담은 노래\n",
      "-------------------------\n"
     ]
    },
    {
     "name": "stderr",
     "output_type": "stream",
     "text": [
      "\r특징 추출 중:  32%|███▏      | 149/460 [02:52<05:22,  1.04s/it]"
     ]
    },
    {
     "name": "stdout",
     "output_type": "stream",
     "text": [
      "\n",
      "[결과] Dragon Ash(드래곤 애쉬) - New Era\n",
      "  - 생성된 태그: ['희망', '새로움', '도전']\n",
      "  - 생성된 요약: 새로운 시작과 미래에 대한 희망을 담은 노래. 끝없이 변화하고 도전하는 자세를 응원하는 노래\n",
      "-------------------------\n"
     ]
    },
    {
     "name": "stderr",
     "output_type": "stream",
     "text": [
      "특징 추출 중:  33%|███▎      | 150/460 [02:53<05:12,  1.01s/it]"
     ]
    },
    {
     "name": "stdout",
     "output_type": "stream",
     "text": [
      "\n",
      "[결과] Kenshi Yonezu(켄시 요네즈/米津 玄師) - Yumeutsutsu - Daydream\n",
      "  - 생성된 태그: ['몽환적', '사랑', '이별']\n",
      "  - 생성된 요약: 꿈과 현실을 넘나드는 모호한 감정을 담은 몽환적인 가사. 사랑과 이별, 그리고 서로를 향한 그리움이 얽힌 노래\n",
      "-------------------------\n",
      "\n",
      "[진행 상황 저장됨: 150/460 완료]\n"
     ]
    },
    {
     "name": "stderr",
     "output_type": "stream",
     "text": [
      "\r특징 추출 중:  33%|███▎      | 151/460 [02:54<06:03,  1.18s/it]"
     ]
    },
    {
     "name": "stdout",
     "output_type": "stream",
     "text": [
      "\n",
      "[결과] Lisa Ono(리사 오노/小野リサ) - On A Clear Day\n",
      "  - 생성된 태그: ['희망', '자아 발견', '감사']\n",
      "  - 생성된 요약: 맑은 날에 주변을 둘러보면 자신이 누구인지 알게 되고, 자신의 존재가 모든 별보다 빛을 발하는 것을 깨닫게 될 것이다. 자연과 하나가 된 느낌을 받으며, 이전에 듣지 못한 세계를 듣게 될 것이다. 맑은 날에는 영원토록 영원히 이어지는 미래를 볼 수 있다\n",
      "-------------------------\n"
     ]
    },
    {
     "name": "stderr",
     "output_type": "stream",
     "text": [
      "\r특징 추출 중:  33%|███▎      | 152/460 [02:55<06:03,  1.18s/it]"
     ]
    },
    {
     "name": "stdout",
     "output_type": "stream",
     "text": [
      "\n",
      "[결과] Mrs. GREEN APPLE - Bokuno Koto\n",
      "  - 생성된 태그: ['희망', '성장', '우정']\n",
      "  - 생성된 요약: 인생의 여러 고난과 시련을 겪으면서도 희망을 잃지 않고 성장하고 있는 모습을 담은 노래. 우정과 사랑, 인생의 아름다움을 깊이 느낄 수 있는 노래\n",
      "-------------------------\n"
     ]
    },
    {
     "name": "stderr",
     "output_type": "stream",
     "text": [
      "\r특징 추출 중:  33%|███▎      | 153/460 [02:56<05:23,  1.05s/it]"
     ]
    },
    {
     "name": "stdout",
     "output_type": "stream",
     "text": [
      "\n",
      "[결과] Yorushika - Howl At The Moon\n",
      "  - 생성된 태그: ['고독', '미지', '절망']\n",
      "  - 생성된 요약: 고독과 미지 속에서 절망에 빠진 주인공의 내면을 표현한 노래\n",
      "-------------------------\n"
     ]
    },
    {
     "name": "stderr",
     "output_type": "stream",
     "text": [
      "\r특징 추출 중:  33%|███▎      | 154/460 [02:57<05:30,  1.08s/it]"
     ]
    },
    {
     "name": "stdout",
     "output_type": "stream",
     "text": [
      "\n",
      "[결과] YOASOBI - Romance\n",
      "  - 생성된 태그: ['사랑', '희망', '시대를 초월한 사랑']\n",
      "  - 생성된 요약: 시간과 공간을 초월한 사랑을 다룬 노래로, 서로의 마음을 담아 편지를 주고받으며 이어지는 사랑의 이야기를 담고 있음\n",
      "-------------------------\n"
     ]
    },
    {
     "name": "stderr",
     "output_type": "stream",
     "text": [
      "\r특징 추출 중:  34%|███▎      | 155/460 [02:58<05:30,  1.08s/it]"
     ]
    },
    {
     "name": "stdout",
     "output_type": "stream",
     "text": [
      "\n",
      "[결과] Toshinobu Kubota(토시노부 쿠보타/久保田 利伸) - La La La Love Song\n",
      "  - 생성된 태그: ['사랑', '감사', '행복']\n",
      "  - 생성된 요약: 서로를 만나 사랑에 빠져 새로운 시작을 함께하며 행복을 노래하는 노래\n",
      "-------------------------\n"
     ]
    },
    {
     "name": "stderr",
     "output_type": "stream",
     "text": [
      "\r특징 추출 중:  34%|███▍      | 156/460 [02:59<05:16,  1.04s/it]"
     ]
    },
    {
     "name": "stdout",
     "output_type": "stream",
     "text": [
      "\n",
      "[결과] TK From Ling Tosite Sigure - Unravel\n",
      "  - 생성된 태그: ['고독', '추억', '절망']\n",
      "  - 생성된 요약: 고독과 절망 속에서 추억에 사로잡힌 주인공의 이야기를 담은 노래\n",
      "-------------------------\n"
     ]
    },
    {
     "name": "stderr",
     "output_type": "stream",
     "text": [
      "\r특징 추출 중:  34%|███▍      | 157/460 [03:01<05:39,  1.12s/it]"
     ]
    },
    {
     "name": "stdout",
     "output_type": "stream",
     "text": [
      "\n",
      "[결과] ONE OK ROCK - The Beginning\n",
      "  - 생성된 태그: ['도전', '인내', '희망']\n",
      "  - 생성된 요약: 힘든 시련을 견디며 헤쳐나가는 용기와 인내, 희망을 주제로 한 노래\n",
      "-------------------------\n"
     ]
    },
    {
     "name": "stderr",
     "output_type": "stream",
     "text": [
      "\r특징 추출 중:  34%|███▍      | 158/460 [03:01<05:05,  1.01s/it]"
     ]
    },
    {
     "name": "stdout",
     "output_type": "stream",
     "text": [
      "\n",
      "[결과] Yuuri - Dried Flower\n",
      "  - 생성된 태그: ['이별', '사랑', '감정']\n",
      "  - 생성된 요약: 이별한 사랑하는 상대에 대한 아픔과 감정을 표현한 노래\n",
      "-------------------------\n"
     ]
    },
    {
     "name": "stderr",
     "output_type": "stream",
     "text": [
      "\r특징 추출 중:  35%|███▍      | 159/460 [03:03<05:13,  1.04s/it]"
     ]
    },
    {
     "name": "stdout",
     "output_type": "stream",
     "text": [
      "\n",
      "[결과] STUTS(스터츠) - Mirrors (feat. Sumin, Daichi Yamamoto & Chinza Dopeness)\n",
      "  - 생성된 태그: ['혼란', '자아탐구', '감정']\n",
      "  - 생성된 요약: 자아를 탐구하고 혼란스러운 감정 속에서 자신과 타인을 이해하려는 노래\n",
      "-------------------------\n"
     ]
    },
    {
     "name": "stderr",
     "output_type": "stream",
     "text": [
      "\r특징 추출 중:  35%|███▍      | 160/460 [03:04<05:32,  1.11s/it]"
     ]
    },
    {
     "name": "stdout",
     "output_type": "stream",
     "text": [
      "\n",
      "[결과] OFFICIAL HIGE DANDISM - Apoptosis\n",
      "  - 생성된 태그: ['이별', '사랑', '추억']\n",
      "  - 생성된 요약: 이별의 아픔과 사랑의 추억을 담은 노래. 상대방을 그리워하며 이별을 앞두고 서로에 대한 사랑을 표현\n",
      "-------------------------\n"
     ]
    },
    {
     "name": "stderr",
     "output_type": "stream",
     "text": [
      "\r특징 추출 중:  35%|███▌      | 161/460 [03:05<05:18,  1.07s/it]"
     ]
    },
    {
     "name": "stdout",
     "output_type": "stream",
     "text": [
      "\n",
      "[결과] Masaki Suda(마사키 스다/菅田将暉) - Niji\n",
      "  - 생성된 태그: ['사랑', '가족', '감사']\n",
      "  - 생성된 요약: 가족과 사랑하는 이의 소중함을 감사하며 함께하는 행복한 일상을 노래한 곡\n",
      "-------------------------\n"
     ]
    },
    {
     "name": "stderr",
     "output_type": "stream",
     "text": [
      "\r특징 추출 중:  35%|███▌      | 162/460 [03:06<05:04,  1.02s/it]"
     ]
    },
    {
     "name": "stdout",
     "output_type": "stream",
     "text": [
      "\n",
      "[결과] Hikaru Utada(우타다 히카루/宇多田ヒカル) - Flavor Of Life (Ballad Version / 2014 Remastered)\n",
      "  - 생성된 태그: ['이별', '사랑', '추억']\n",
      "  - 생성된 요약: 이별과 사랑, 그리움에 대한 감정을 담은 노래. 서로를 잊지 못하고 남은 추억에 대한 아련한 감정을 표현함\n",
      "-------------------------\n"
     ]
    },
    {
     "name": "stderr",
     "output_type": "stream",
     "text": [
      "\r특징 추출 중:  35%|███▌      | 163/460 [03:07<05:14,  1.06s/it]"
     ]
    },
    {
     "name": "stdout",
     "output_type": "stream",
     "text": [
      "\n",
      "[결과] Yorushika - Night Journey\n",
      "  - 생성된 태그: ['사랑', '이별', '추억']\n",
      "  - 생성된 요약: 서로를 잊지 못하고 떠나가는 여름의 끝을 맞이하며 남은 사랑과 이별의 아픔을 노래한 곡\n",
      "-------------------------\n"
     ]
    },
    {
     "name": "stderr",
     "output_type": "stream",
     "text": [
      "\r특징 추출 중:  36%|███▌      | 164/460 [03:08<04:58,  1.01s/it]"
     ]
    },
    {
     "name": "stdout",
     "output_type": "stream",
     "text": [
      "\n",
      "[결과] AKB48 - 根も葉もRumor (근거없는 루머)\n",
      "  - 생성된 태그: ['춤', '사랑', '소문']\n",
      "  - 생성된 요약: 춤을 춤으로 응축시키며 사랑과 소문에 대한 이야기를 담은 노래\n",
      "-------------------------\n"
     ]
    },
    {
     "name": "stderr",
     "output_type": "stream",
     "text": [
      "\r특징 추출 중:  36%|███▌      | 165/460 [03:09<05:07,  1.04s/it]"
     ]
    },
    {
     "name": "stdout",
     "output_type": "stream",
     "text": [
      "\n",
      "[결과] Reol(레오루/れをる) - 白夜 / White Midnight\n",
      "  - 생성된 태그: ['고난', '희망', '자아성찰']\n",
      "  - 생성된 요약: 고난과 아픔을 극복하며 희망을 향해 나아가는 과정과 자아성찰에 대한 노래\n",
      "-------------------------\n"
     ]
    },
    {
     "name": "stderr",
     "output_type": "stream",
     "text": [
      "\r특징 추출 중:  36%|███▌      | 166/460 [03:11<06:22,  1.30s/it]"
     ]
    },
    {
     "name": "stdout",
     "output_type": "stream",
     "text": [
      "\n",
      "[결과] ZUTOMAYO - Milabo\n",
      "  - 생성된 태그: ['사랑', '춤', '자기 표현']\n",
      "  - 생성된 요약: 자신의 감정을 솔직하게 표현하고 싶어하는 사랑 노래. 춤추며 자유롭게 표현하는 모습을 담은 곡\n",
      "-------------------------\n"
     ]
    },
    {
     "name": "stderr",
     "output_type": "stream",
     "text": [
      "\r특징 추출 중:  36%|███▋      | 167/460 [03:12<05:50,  1.20s/it]"
     ]
    },
    {
     "name": "stdout",
     "output_type": "stream",
     "text": [
      "\n",
      "[결과] OFFICIAL HIGE DANDISM - Pending Machine\n",
      "  - 생성된 태그: ['스트레스', '피로', '혼란']\n",
      "  - 생성된 요약: 스트레스와 피로로 인해 혼란스러운 마음을 담은 노래\n",
      "-------------------------\n"
     ]
    },
    {
     "name": "stderr",
     "output_type": "stream",
     "text": [
      "\r특징 추출 중:  37%|███▋      | 168/460 [03:13<05:50,  1.20s/it]"
     ]
    },
    {
     "name": "stdout",
     "output_type": "stream",
     "text": [
      "\n",
      "[결과] MAISONdes - Melt in late summer (feat. Riria., Yuki Nagumo)\n",
      "  - 생성된 태그: ['로맨틱', '사랑', '회상']\n",
      "  - 생성된 요약: 달콤하고 로맨틱한 분위기 속에서 두 사람의 사랑과 회상을 담은 노래\n",
      "-------------------------\n"
     ]
    },
    {
     "name": "stderr",
     "output_type": "stream",
     "text": [
      "\r특징 추출 중:  37%|███▋      | 169/460 [03:14<05:49,  1.20s/it]"
     ]
    },
    {
     "name": "stdout",
     "output_type": "stream",
     "text": [
      "\n",
      "[결과] Alexandros(알렉산드로스) - Senkou\n",
      "  - 생성된 태그: ['도전', '희망', '성공']\n",
      "  - 생성된 요약: 과거의 상처와 과거의 아픔을 극복하고 새로운 도전과 희망을 향해 나아가는 결심을 담은 노래\n",
      "-------------------------\n"
     ]
    },
    {
     "name": "stderr",
     "output_type": "stream",
     "text": [
      "\r특징 추출 중:  37%|███▋      | 170/460 [03:15<05:45,  1.19s/it]"
     ]
    },
    {
     "name": "stdout",
     "output_type": "stream",
     "text": [
      "\n",
      "[결과] Ecosystem - Dilemma\n",
      "  - 생성된 태그: ['혼란', '감정', '우울']\n",
      "  - 생성된 요약: 기대와 현실 사이의 갈등과 감정의 혼란 속에서 우울함을 느끼는 내용을 담은 노래\n",
      "-------------------------\n"
     ]
    },
    {
     "name": "stderr",
     "output_type": "stream",
     "text": [
      "\r특징 추출 중:  37%|███▋      | 171/460 [03:16<05:36,  1.16s/it]"
     ]
    },
    {
     "name": "stdout",
     "output_type": "stream",
     "text": [
      "\n",
      "[결과] MAISONdes - DANCE DANCE DADA (feat. EMA, Tanaka)\n",
      "  - 생성된 태그: ['춤', '고난', '변화']\n",
      "  - 생성된 요약: 고난과 역경을 겪으면서도 변화와 성장을 향해 나아가는 과정을 춤을 통해 표현한 노래\n",
      "-------------------------\n"
     ]
    },
    {
     "name": "stderr",
     "output_type": "stream",
     "text": [
      "\r특징 추출 중:  37%|███▋      | 172/460 [03:18<05:52,  1.22s/it]"
     ]
    },
    {
     "name": "stdout",
     "output_type": "stream",
     "text": [
      "\n",
      "[결과] Aimer(에메/エメ) - Zankyosanka (애니메이션 '귀멸의 칼날 2기' 오프닝 곡)\n",
      "  - 생성된 태그: ['환상', '감정', '도전']\n",
      "  - 생성된 요약: 꿈과 현실, 감정과 도전을 담은 가사로, 어둠을 밝히는 환상적인 세계를 그리며 삶의 여러 고난과 갈등을 이겨내는 노래\n",
      "-------------------------\n"
     ]
    },
    {
     "name": "stderr",
     "output_type": "stream",
     "text": [
      "\r특징 추출 중:  38%|███▊      | 173/460 [03:19<06:08,  1.28s/it]"
     ]
    },
    {
     "name": "stdout",
     "output_type": "stream",
     "text": [
      "\n",
      "[결과] King Gnu(킹 누) - Sakayume\n",
      "  - 생성된 태그: ['사랑', '추억', '희망']\n",
      "  - 생성된 요약: 사랑하는 이를 향한 그리움과 희망을 담은 노래. 추억 속의 사랑과 함께 향수를 불러일으키며 향한 미래에 대한 희망을 담은 노래\n",
      "-------------------------\n"
     ]
    },
    {
     "name": "stderr",
     "output_type": "stream",
     "text": [
      "\r특징 추출 중:  38%|███▊      | 174/460 [03:20<06:09,  1.29s/it]"
     ]
    },
    {
     "name": "stdout",
     "output_type": "stream",
     "text": [
      "\n",
      "[결과] King Gnu(킹 누) - Ichizu\n",
      "  - 생성된 태그: ['사랑', '이별', '희망']\n",
      "  - 생성된 요약: 감정이 교차하는 사랑과 이별의 복잡한 감정을 담은 노래. 사랑하는 이에게 마지막으로 감사를 전하고 헤어짐을 받아들이며 향후를 향한 희망을 담은 곡\n",
      "-------------------------\n"
     ]
    },
    {
     "name": "stderr",
     "output_type": "stream",
     "text": [
      "\r특징 추출 중:  38%|███▊      | 175/460 [03:22<06:17,  1.33s/it]"
     ]
    },
    {
     "name": "stdout",
     "output_type": "stream",
     "text": [
      "\n",
      "[결과] Lisa Ono(리사 오노/小野リサ) - Dans Mon Ile\n",
      "  - 생성된 태그: ['낙원', '해변', '평화로움']\n",
      "  - 생성된 요약: 해변가의 낙원 같은 섬에서 평화롭게 쉬며, 사랑하는 이와 함께하는 행복한 시간을 노래한 곡\n",
      "-------------------------\n"
     ]
    },
    {
     "name": "stderr",
     "output_type": "stream",
     "text": [
      "\r특징 추출 중:  38%|███▊      | 176/460 [03:23<06:04,  1.28s/it]"
     ]
    },
    {
     "name": "stdout",
     "output_type": "stream",
     "text": [
      "\n",
      "[결과] Kenshi Yonezu(켄시 요네즈/米津 玄師) - Kanden\n",
      "  - 생성된 태그: ['모험', '자유', '엇갈림']\n",
      "  - 생성된 요약: 모험을 떠나 자유롭게 살고 싶어하는 욕망과 서로 엇갈리는 감정을 담은 노래\n",
      "-------------------------\n"
     ]
    },
    {
     "name": "stderr",
     "output_type": "stream",
     "text": [
      "\r특징 추출 중:  38%|███▊      | 177/460 [03:25<06:19,  1.34s/it]"
     ]
    },
    {
     "name": "stdout",
     "output_type": "stream",
     "text": [
      "\n",
      "[결과] LiSA(리사/リサ) - Gurenge\n",
      "  - 생성된 태그: ['강인함', '도전', '희생']\n",
      "  - 생성된 요약: 자신이 강해질 이유를 깨달았고, 누군가를 위해 희생하며 세상에 맞서는 용기와 강인함을 노래한 곡\n",
      "-------------------------\n"
     ]
    },
    {
     "name": "stderr",
     "output_type": "stream",
     "text": [
      "\r특징 추출 중:  39%|███▊      | 178/460 [03:26<05:56,  1.26s/it]"
     ]
    },
    {
     "name": "stdout",
     "output_type": "stream",
     "text": [
      "\n",
      "[결과] Ado - Usseewa\n",
      "  - 생성된 태그: ['혼란', '사회비판', '일상']\n",
      "  - 생성된 요약: 일상의 혼란과 사회적 압박 속에서 삶의 무미건조함을 풍자하는 노래\n",
      "-------------------------\n"
     ]
    },
    {
     "name": "stderr",
     "output_type": "stream",
     "text": [
      "\r특징 추출 중:  39%|███▉      | 179/460 [03:27<06:01,  1.29s/it]"
     ]
    },
    {
     "name": "stdout",
     "output_type": "stream",
     "text": [
      "\n",
      "[결과] ZUTOMAYO - Byoushinwo Kamu\n",
      "  - 생성된 태그: ['이별', '고통', '자책']\n",
      "  - 생성된 요약: 이별 후에도 상대를 잊지 못하고 자책하는 마음을 담은 가사. 상처와 아픔을 견디면서도 진실을 찾아가는 과정을 그린 노래\n",
      "-------------------------\n"
     ]
    },
    {
     "name": "stderr",
     "output_type": "stream",
     "text": [
      "\r특징 추출 중:  39%|███▉      | 180/460 [03:28<05:42,  1.22s/it]"
     ]
    },
    {
     "name": "stdout",
     "output_type": "stream",
     "text": [
      "\n",
      "[결과] Lisa Ono(리사 오노/小野リサ) - Jingle Bell Rock\n",
      "  - 생성된 태그: ['크리스마스', '즐거움', '축제']\n",
      "  - 생성된 요약: 환한 분위기와 함께 크리스마스 축제 분위기를 만끽하며 즐거움을 노래한 곡\n",
      "-------------------------\n"
     ]
    },
    {
     "name": "stderr",
     "output_type": "stream",
     "text": [
      "\r특징 추출 중:  39%|███▉      | 181/460 [03:29<05:43,  1.23s/it]"
     ]
    },
    {
     "name": "stdout",
     "output_type": "stream",
     "text": [
      "\n",
      "[결과] BURNOUT SYNDROMES(번아웃 신드롬즈/バーンアウト シンドロームズ) - FLY HIGH!!\n",
      "  - 생성된 태그: ['도전', '희망', '인내']\n",
      "  - 생성된 요약: 힘든 여정과 상처를 이겨내며 향하는 미래에 대한 희망과 인내의 메시지를 담은 곡\n",
      "-------------------------\n"
     ]
    },
    {
     "name": "stderr",
     "output_type": "stream",
     "text": [
      "\r특징 추출 중:  40%|███▉      | 182/460 [03:31<05:44,  1.24s/it]"
     ]
    },
    {
     "name": "stdout",
     "output_type": "stream",
     "text": [
      "\n",
      "[결과] Yuika - Sukidakara\n",
      "  - 생성된 태그: ['사랑', '연애', '고백']\n",
      "  - 생성된 요약: 상대방을 사랑하고 그를 향한 진심을 고백하는 가사. 서로를 의지하고 바라보며 함께하는 연애의 따뜻한 감정을 담은 노래\n",
      "-------------------------\n"
     ]
    },
    {
     "name": "stderr",
     "output_type": "stream",
     "text": [
      "\r특징 추출 중:  40%|███▉      | 183/460 [03:32<06:22,  1.38s/it]"
     ]
    },
    {
     "name": "stdout",
     "output_type": "stream",
     "text": [
      "\n",
      "[결과] aimyon - Raw Like Sushi\n",
      "  - 생성된 태그: ['사랑', '자아성찰', '성장']\n",
      "  - 생성된 요약: 사랑, 업무, 삶, 가족 등 여러 가지로 상처받아왔지만 그런 것들을 버리고 싶어하는 고민과 함께 그대로 두고 싶은 것들을 고민하는 마음을 담은 노래. 자신의 감정과 성장에 대한 내용이 담겨 있음\n",
      "-------------------------\n"
     ]
    },
    {
     "name": "stderr",
     "output_type": "stream",
     "text": [
      "\r특징 추출 중:  40%|████      | 184/460 [03:33<05:41,  1.24s/it]"
     ]
    },
    {
     "name": "stdout",
     "output_type": "stream",
     "text": [
      "\n",
      "[결과] CVLTE - hedonist.\n",
      "  - 생성된 태그: ['욕망', '자기중심', '회한']\n",
      "  - 생성된 요약: 자기 중심적이고 욕망에 사로잡힌 주인공의 회한과 갈등을 담은 노래\n",
      "-------------------------\n"
     ]
    },
    {
     "name": "stderr",
     "output_type": "stream",
     "text": [
      "\r특징 추출 중:  40%|████      | 185/460 [03:34<05:19,  1.16s/it]"
     ]
    },
    {
     "name": "stdout",
     "output_type": "stream",
     "text": [
      "\n",
      "[결과] SUPER BEAVER - Toppako\n",
      "  - 생성된 태그: ['도전', '긍정적', '자기계발']\n",
      "  - 생성된 요약: 지금을 멈추지 않고 도전하며 즐기고 성장해 나가는 긍정적인 자기계발을 다룬 노래\n",
      "-------------------------\n"
     ]
    },
    {
     "name": "stderr",
     "output_type": "stream",
     "text": [
      "\r특징 추출 중:  40%|████      | 186/460 [03:35<05:13,  1.15s/it]"
     ]
    },
    {
     "name": "stdout",
     "output_type": "stream",
     "text": [
      "\n",
      "[결과] Suisei Hoshimachi - Stellar Stellar\n",
      "  - 생성된 태그: ['사랑', '꿈', '희망']\n",
      "  - 생성된 요약: 사랑과 꿈, 희망을 주제로 한 노래. 상대에 대한 애틋한 사랑과 이루어지지 못한 꿈을 담은 노래\n",
      "-------------------------\n"
     ]
    },
    {
     "name": "stderr",
     "output_type": "stream",
     "text": [
      "\r특징 추출 중:  41%|████      | 187/460 [03:36<04:52,  1.07s/it]"
     ]
    },
    {
     "name": "stdout",
     "output_type": "stream",
     "text": [
      "\n",
      "[결과] SPYAIR(스파이에어/スパイエアー) - 그 시절, 우리는 같은 미래를 (あの頃、僕らは同じ未来を)\n",
      "  - 생성된 태그: ['사랑', '회상', '추억']\n",
      "  - 생성된 요약: 지나간 시간과 추억을 회상하며 새로운 미래를 향해 나아가는 사랑에 대한 노래\n",
      "-------------------------\n"
     ]
    },
    {
     "name": "stderr",
     "output_type": "stream",
     "text": [
      "\r특징 추출 중:  41%|████      | 188/460 [03:37<04:48,  1.06s/it]"
     ]
    },
    {
     "name": "stdout",
     "output_type": "stream",
     "text": [
      "\n",
      "[결과] Nana Mori - Smile\n",
      "  - 생성된 태그: ['긍정', '자신감', '밝은']\n",
      "  - 생성된 요약: 어떤 어려움이 있더라도 항상 긍정적으로 웃으며 자신감을 가지고 살아가는 밝고 활기찬 노래\n",
      "-------------------------\n"
     ]
    },
    {
     "name": "stderr",
     "output_type": "stream",
     "text": [
      "\r특징 추출 중:  41%|████      | 189/460 [03:38<04:48,  1.06s/it]"
     ]
    },
    {
     "name": "stdout",
     "output_type": "stream",
     "text": [
      "\n",
      "[결과] meiyo - Nothing's Working Out\n",
      "  - 생성된 태그: ['자아탐구', '자기계발', '도전']\n",
      "  - 생성된 요약: 자신의 한계와 불안을 극복하며 성장하고자 하는 강한 의지를 담은 노래\n",
      "-------------------------\n"
     ]
    },
    {
     "name": "stderr",
     "output_type": "stream",
     "text": [
      "\r특징 추출 중:  41%|████▏     | 190/460 [03:39<04:48,  1.07s/it]"
     ]
    },
    {
     "name": "stdout",
     "output_type": "stream",
     "text": [
      "\n",
      "[결과] NANAOAKARI(나나오 아카리) - One Room Sugar Life\n",
      "  - 생성된 태그: ['사랑', '복잡한 감정', '자아']\n",
      "  - 생성된 요약: 복잡한 감정과 자아의식을 다룬 사랑 노래. 상대에게만 가득한 감정을 표현하면서도 자신의 정체성을 찾아가는 과정을 담은 곡\n",
      "-------------------------\n"
     ]
    },
    {
     "name": "stderr",
     "output_type": "stream",
     "text": [
      "\r특징 추출 중:  42%|████▏     | 191/460 [03:40<04:38,  1.03s/it]"
     ]
    },
    {
     "name": "stdout",
     "output_type": "stream",
     "text": [
      "\n",
      "[결과] ロクデナシ (Rokudenashi/로쿠데나시) - One Voice\n",
      "  - 생성된 태그: ['사랑', '이별', '감성']\n",
      "  - 생성된 요약: 사랑과 이별, 감정적인 여정을 담은 노래. 삶의 어려움과 행복, 그리고 사랑에 대한 감정이 얽힌 노래\n",
      "-------------------------\n"
     ]
    },
    {
     "name": "stderr",
     "output_type": "stream",
     "text": [
      "\r특징 추출 중:  42%|████▏     | 192/460 [03:41<04:38,  1.04s/it]"
     ]
    },
    {
     "name": "stdout",
     "output_type": "stream",
     "text": [
      "\n",
      "[결과] Yuuri - BETELGEUSE\n",
      "  - 생성된 태그: ['사랑', '추억', '약속']\n",
      "  - 생성된 요약: 서로를 찾아가며 함께한 소중한 추억과 약속을 담은 사랑 노래\n",
      "-------------------------\n"
     ]
    },
    {
     "name": "stderr",
     "output_type": "stream",
     "text": [
      "\r특징 추출 중:  42%|████▏     | 193/460 [03:42<04:23,  1.01it/s]"
     ]
    },
    {
     "name": "stdout",
     "output_type": "stream",
     "text": [
      "\n",
      "[결과] Yuuri - Shutter\n",
      "  - 생성된 태그: ['이별', '회상', '추억']\n",
      "  - 생성된 요약: 이별 후 회상과 추억에 젖어들며 상실감을 담은 노래\n",
      "-------------------------\n"
     ]
    },
    {
     "name": "stderr",
     "output_type": "stream",
     "text": [
      "\r특징 추출 중:  42%|████▏     | 194/460 [03:43<04:38,  1.05s/it]"
     ]
    },
    {
     "name": "stdout",
     "output_type": "stream",
     "text": [
      "\n",
      "[결과] ZUTOMAYO - MIRROR TUNE\n",
      "  - 생성된 태그: ['도전', '자기계발', '긍정']\n",
      "  - 생성된 요약: 도전과 성장을 향한 긍정적인 자세를 담은 노래. 자기계발과 자신감을 키우며 어려움을 이겨내는 노래\n",
      "-------------------------\n"
     ]
    },
    {
     "name": "stderr",
     "output_type": "stream",
     "text": [
      "\r특징 추출 중:  42%|████▏     | 195/460 [03:44<04:24,  1.00it/s]"
     ]
    },
    {
     "name": "stdout",
     "output_type": "stream",
     "text": [
      "\n",
      "[결과] aimyon - Futaba\n",
      "  - 생성된 태그: ['이별', '회상', '사랑']\n",
      "  - 생성된 요약: 이별의 아픔과 회상, 그리고 사랑에 대한 감정을 담은 노래\n",
      "-------------------------\n"
     ]
    },
    {
     "name": "stderr",
     "output_type": "stream",
     "text": [
      "\r특징 추출 중:  43%|████▎     | 196/460 [03:46<04:39,  1.06s/it]"
     ]
    },
    {
     "name": "stdout",
     "output_type": "stream",
     "text": [
      "\n",
      "[결과] Teshima Aoi(테시마 아오이/手島 葵) - 明日への手紙(내일로 보내는 편지/Drama ver.)\n",
      "  - 생성된 태그: ['사랑', '그리움', '희망']\n",
      "  - 생성된 요약: 그리운 사람을 기다리며 사랑과 희망을 가슴 깊이 담은 노래\n",
      "-------------------------\n"
     ]
    },
    {
     "name": "stderr",
     "output_type": "stream",
     "text": [
      "\r특징 추출 중:  43%|████▎     | 197/460 [03:46<04:24,  1.01s/it]"
     ]
    },
    {
     "name": "stdout",
     "output_type": "stream",
     "text": [
      "\n",
      "[결과] Ryokuoushoku Shakai(녹황색사회) - Mela!\n",
      "  - 생성된 태그: ['사랑', '용기', '우정']\n",
      "  - 생성된 요약: 서로를 지키고 의지하며 함께 성장해가는 사랑과 우정에 대한 노래\n",
      "-------------------------\n"
     ]
    },
    {
     "name": "stderr",
     "output_type": "stream",
     "text": [
      "\r특징 추출 중:  43%|████▎     | 198/460 [03:47<04:23,  1.01s/it]"
     ]
    },
    {
     "name": "stdout",
     "output_type": "stream",
     "text": [
      "\n",
      "[결과] King Gnu(킹 누) - Chameleon\n",
      "  - 생성된 태그: ['사랑', '감정', '미스테리']\n",
      "  - 생성된 요약: 사랑하는 상대의 정체를 알고 싶지만 알 수 없는 미스테리 같은 감정을 담은 노래\n",
      "-------------------------\n"
     ]
    },
    {
     "name": "stderr",
     "output_type": "stream",
     "text": [
      "\r특징 추출 중:  43%|████▎     | 199/460 [03:49<04:45,  1.09s/it]"
     ]
    },
    {
     "name": "stdout",
     "output_type": "stream",
     "text": [
      "\n",
      "[결과] Yuuri - Leo\n",
      "  - 생성된 태그: ['사랑', '이별', '추억']\n",
      "  - 생성된 요약: 소중한 상대와의 이별과 추억을 담은 노래. 상대를 그리워하며 살아가는 이의 마음을 솔직하게 표현한 노래\n",
      "-------------------------\n"
     ]
    },
    {
     "name": "stderr",
     "output_type": "stream",
     "text": [
      "특징 추출 중:  43%|████▎     | 200/460 [03:50<04:42,  1.08s/it]"
     ]
    },
    {
     "name": "stdout",
     "output_type": "stream",
     "text": [
      "\n",
      "[결과] Fujii Kaze - Kirari\n",
      "  - 생성된 태그: ['사랑', '추억', '희망']\n",
      "  - 생성된 요약: 서로를 찾아 헤매며 지난 추억을 회상하고 희망으로 가득한 미래를 상상하는 사랑에 관한 노래\n",
      "-------------------------\n",
      "\n",
      "[진행 상황 저장됨: 200/460 완료]\n"
     ]
    },
    {
     "name": "stderr",
     "output_type": "stream",
     "text": [
      "\r특징 추출 중:  44%|████▎     | 201/460 [03:51<04:44,  1.10s/it]"
     ]
    },
    {
     "name": "stdout",
     "output_type": "stream",
     "text": [
      "\n",
      "[결과] Aimer(에메/エメ) - Asa ga kuru (애니메이션 '귀멸의 칼날 2기' 엔딩곡)\n",
      "  - 생성된 태그: ['희망', '도전', '성장']\n",
      "  - 생성된 요약: 상처와 어둠 속에서도 희망을 잃지 않고 도전하며 성장해나가는 강인한 의지를 담은 노래\n",
      "-------------------------\n"
     ]
    },
    {
     "name": "stderr",
     "output_type": "stream",
     "text": [
      "\r특징 추출 중:  44%|████▍     | 202/460 [03:53<05:41,  1.32s/it]"
     ]
    },
    {
     "name": "stdout",
     "output_type": "stream",
     "text": [
      "\n",
      "[결과] Yuuri - Kakurenbo - From THE FIRST TAKE\n",
      "  - 생성된 태그: ['이별', '고독', '추억']\n",
      "  - 생성된 요약: 이별 후에 남은 추억과 고독함을 담은 노래. 상대방의 부재 속에서의 고독과 추억에 대한 그리움을 표현\n",
      "-------------------------\n"
     ]
    },
    {
     "name": "stderr",
     "output_type": "stream",
     "text": [
      "\r특징 추출 중:  44%|████▍     | 203/460 [03:54<05:25,  1.26s/it]"
     ]
    },
    {
     "name": "stdout",
     "output_type": "stream",
     "text": [
      "\n",
      "[결과] Ado - Odo\n",
      "  - 생성된 태그: ['파티', '자유로움', '긍정']\n",
      "  - 생성된 요약: 자유롭고 긍정적인 분위기 속에서 파티를 즐기며 즐거움을 나누는 노래\n",
      "-------------------------\n"
     ]
    },
    {
     "name": "stderr",
     "output_type": "stream",
     "text": [
      "\r특징 추출 중:  44%|████▍     | 204/460 [03:55<05:20,  1.25s/it]"
     ]
    },
    {
     "name": "stdout",
     "output_type": "stream",
     "text": [
      "\n",
      "[결과] Back Number(백 넘버/バックナンバー) - Christmas Song\n",
      "  - 생성된 태그: ['사랑', '그리움', '추억']\n",
      "  - 생성된 요약: 상대방을 그리워하고 사랑하는 마음을 담은 노래. 서로를 찾아 헤매는 그리움과 추억이 느껴지는 노래\n",
      "-------------------------\n"
     ]
    },
    {
     "name": "stderr",
     "output_type": "stream",
     "text": [
      "\r특징 추출 중:  45%|████▍     | 205/460 [03:56<05:08,  1.21s/it]"
     ]
    },
    {
     "name": "stdout",
     "output_type": "stream",
     "text": [
      "\n",
      "[결과] Back Number(백 넘버/バックナンバー) - Suiheisen\n",
      "  - 생성된 태그: ['희망', '사랑', '우정']\n",
      "  - 생성된 요약: 자신과 타인에 대한 이해와 배려, 희망을 잃지 않고 견뎌나가는 강한 의지를 담은 노래\n",
      "-------------------------\n"
     ]
    },
    {
     "name": "stderr",
     "output_type": "stream",
     "text": [
      "\r특징 추출 중:  45%|████▍     | 206/460 [03:57<04:40,  1.10s/it]"
     ]
    },
    {
     "name": "stdout",
     "output_type": "stream",
     "text": [
      "\n",
      "[결과] King Gnu(킹 누) - Hakujitsu\n",
      "  - 생성된 태그: ['이별', '회한', '성장']\n",
      "  - 생성된 요약: 상대를 상처 주고 이별하며 성장하는 과정을 통해 회한과 새로운 시작에 대한 내용을 담은 노래\n",
      "-------------------------\n"
     ]
    },
    {
     "name": "stderr",
     "output_type": "stream",
     "text": [
      "\r특징 추출 중:  45%|████▌     | 207/460 [03:58<04:29,  1.07s/it]"
     ]
    },
    {
     "name": "stdout",
     "output_type": "stream",
     "text": [
      "\n",
      "[결과] Ryokuoushoku Shakai(녹황색사회) - Character\n",
      "  - 생성된 태그: ['사랑', '자기계발', '인내']\n",
      "  - 생성된 요약: 자기 자신을 발전시키며 사랑과 인내의 중요성을 노래한 곡\n",
      "-------------------------\n"
     ]
    },
    {
     "name": "stderr",
     "output_type": "stream",
     "text": [
      "\r특징 추출 중:  45%|████▌     | 208/460 [03:59<04:20,  1.03s/it]"
     ]
    },
    {
     "name": "stdout",
     "output_type": "stream",
     "text": [
      "\n",
      "[결과] Back Number(백 넘버/バックナンバー) - Mabataki\n",
      "  - 생성된 태그: ['사랑', '소중함', '행복']\n",
      "  - 생성된 요약: 소중한 사람과 함께하는 것이 행복이라는 메시지를 전하는 사랑 가득한 노래\n",
      "-------------------------\n"
     ]
    },
    {
     "name": "stderr",
     "output_type": "stream",
     "text": [
      "\r특징 추출 중:  45%|████▌     | 209/460 [04:00<04:24,  1.05s/it]"
     ]
    },
    {
     "name": "stdout",
     "output_type": "stream",
     "text": [
      "\n",
      "[결과] Yuuri - Natsune\n",
      "  - 생성된 태그: ['사랑', '회상', '추억']\n",
      "  - 생성된 요약: 여름이 끝나가는 소리와 함께 함께한 소중한 순간을 회상하며 사랑하는 이에 대한 추억을 담은 노래\n",
      "-------------------------\n"
     ]
    },
    {
     "name": "stderr",
     "output_type": "stream",
     "text": [
      "\r특징 추출 중:  46%|████▌     | 210/460 [04:01<04:34,  1.10s/it]"
     ]
    },
    {
     "name": "stdout",
     "output_type": "stream",
     "text": [
      "\n",
      "[결과] AAA - Wake Up!\n",
      "  - 생성된 태그: ['모험', '긍정적', '우정']\n",
      "  - 생성된 요약: 모험을 향한 열정과 긍정적 에너지를 담은 노래. 친구와 함께하는 여정을 통해 꿈을 향해 나아가는 노래\n",
      "-------------------------\n"
     ]
    },
    {
     "name": "stderr",
     "output_type": "stream",
     "text": [
      "\r특징 추출 중:  46%|████▌     | 211/460 [04:02<04:19,  1.04s/it]"
     ]
    },
    {
     "name": "stdout",
     "output_type": "stream",
     "text": [
      "\n",
      "[결과] Miki Matsubara(마츠바라 미키/松原みき) - 真夜中のドア - Stay With Me (Mayonaka no Door - Stay With Me)\n",
      "  - 생성된 태그: ['사랑', '이별', '추억']\n",
      "  - 생성된 요약: 이별한 사랑을 추억하며 외로움을 견디고 있는 마음을 담은 노래\n",
      "-------------------------\n"
     ]
    },
    {
     "name": "stderr",
     "output_type": "stream",
     "text": [
      "\r특징 추출 중:  46%|████▌     | 212/460 [04:04<04:37,  1.12s/it]"
     ]
    },
    {
     "name": "stdout",
     "output_type": "stream",
     "text": [
      "\n",
      "[결과] OFFICIAL HIGE DANDISM - Anarchy\n",
      "  - 생성된 태그: ['혼란', '자아탐구', '절망']\n",
      "  - 생성된 요약: 자아와의 갈등, 혼란스러운 마음을 표현한 노래. 자신의 가치에 대한 회의와 절망 속에서 이어지는 내적 싸움을 그림\n",
      "-------------------------\n"
     ]
    },
    {
     "name": "stderr",
     "output_type": "stream",
     "text": [
      "\r특징 추출 중:  46%|████▋     | 213/460 [04:04<04:26,  1.08s/it]"
     ]
    },
    {
     "name": "stdout",
     "output_type": "stream",
     "text": [
      "\n",
      "[결과] SEKAI NO OWARI - umbrella\n",
      "  - 생성된 태그: ['회상', '사랑', '추억']\n",
      "  - 생성된 요약: 과거의 사랑과 회상에 젖어있는 주인공의 이야기를 담은 노래\n",
      "-------------------------\n"
     ]
    },
    {
     "name": "stderr",
     "output_type": "stream",
     "text": [
      "\r특징 추출 중:  47%|████▋     | 214/460 [04:06<04:36,  1.12s/it]"
     ]
    },
    {
     "name": "stdout",
     "output_type": "stream",
     "text": [
      "\n",
      "[결과] TWICE - Fanfare\n",
      "  - 생성된 태그: ['희망', '용기', '다짐']\n",
      "  - 생성된 요약: 힘든 시간을 이겨내고 새로운 시작을 향해 용기를 내는 희망찬 다짐과 응원을 담은 노래\n",
      "-------------------------\n"
     ]
    },
    {
     "name": "stderr",
     "output_type": "stream",
     "text": [
      "\r특징 추출 중:  47%|████▋     | 215/460 [04:07<04:12,  1.03s/it]"
     ]
    },
    {
     "name": "stdout",
     "output_type": "stream",
     "text": [
      "\n",
      "[결과] 嵐 - Face Down : Reborn\n",
      "  - 생성된 태그: ['이해', '도움', '사랑']\n",
      "  - 생성된 요약: 서로를 이해하고 도와주며 사랑으로 어루만지는 과정을 담은 노래\n",
      "-------------------------\n"
     ]
    },
    {
     "name": "stderr",
     "output_type": "stream",
     "text": [
      "\r특징 추출 중:  47%|████▋     | 216/460 [04:07<04:06,  1.01s/it]"
     ]
    },
    {
     "name": "stdout",
     "output_type": "stream",
     "text": [
      "\n",
      "[결과] IZ*ONE - 幻想童話 (Secret Story of the Swan)\n",
      "  - 생성된 태그: ['로맨스', '꿈', '마법']\n",
      "  - 생성된 요약: 로맨틱한 분위기 속에서 사랑하는 이와 함께하는 꿈 속의 여행을 표현한 가사, 마법 같은 순간을 꿈꾸며 함께하는 이들의 로맨틱한 노래\n",
      "-------------------------\n"
     ]
    },
    {
     "name": "stderr",
     "output_type": "stream",
     "text": [
      "\r특징 추출 중:  47%|████▋     | 217/460 [04:09<04:24,  1.09s/it]"
     ]
    },
    {
     "name": "stdout",
     "output_type": "stream",
     "text": [
      "\n",
      "[결과] Novelbright - Walking with you\n",
      "  - 생성된 태그: ['사랑', '희망', '추억']\n",
      "  - 생성된 요약: 상대에 대한 끝없는 사랑과 희망을 담은 노래. 서로를 지켜주고 응원하며 함께 앞으로 나아가는 모습을 그리며, 행복과 성공을 향한 결연한 다짐을 담고 있다\n",
      "-------------------------\n"
     ]
    },
    {
     "name": "stderr",
     "output_type": "stream",
     "text": [
      "\r특징 추출 중:  47%|████▋     | 218/460 [04:10<04:42,  1.17s/it]"
     ]
    },
    {
     "name": "stdout",
     "output_type": "stream",
     "text": [
      "\n",
      "[결과] King Gnu - The hole\n",
      "  - 생성된 태그: ['사랑', '상처', '구원']\n",
      "  - 생성된 요약: 상처 입은 사랑하는 이의 구원을 바라며, 상처와 아픔을 함께 나누고자 하는 노래\n",
      "-------------------------\n"
     ]
    },
    {
     "name": "stderr",
     "output_type": "stream",
     "text": [
      "\r특징 추출 중:  48%|████▊     | 219/460 [04:12<05:04,  1.26s/it]"
     ]
    },
    {
     "name": "stdout",
     "output_type": "stream",
     "text": [
      "\n",
      "[결과] ITZY - DALLA DALLA\n",
      "  - 생성된 태그: ['자기애', '자신감', '긍정']\n",
      "  - 생성된 요약: 외모나 타인의 시선에 영향을 받지 않고 자신만의 스타일과 자아를 믿으며 긍정적으로 성장해나가는 과정을 담은 노래\n",
      "-------------------------\n"
     ]
    },
    {
     "name": "stderr",
     "output_type": "stream",
     "text": [
      "\r특징 추출 중:  48%|████▊     | 220/460 [04:13<04:59,  1.25s/it]"
     ]
    },
    {
     "name": "stdout",
     "output_type": "stream",
     "text": [
      "\n",
      "[결과] YOASOBI - 群青\n",
      "  - 생성된 태그: ['자아성찰', '도전', '자기계발']\n",
      "  - 생성된 요약: 자아를 발견하고 도전하며 자기계발을 통해 자신을 이끌어가는 과정을 담은 노래\n",
      "-------------------------\n"
     ]
    },
    {
     "name": "stderr",
     "output_type": "stream",
     "text": [
      "\r특징 추출 중:  48%|████▊     | 221/460 [04:14<05:05,  1.28s/it]"
     ]
    },
    {
     "name": "stdout",
     "output_type": "stream",
     "text": [
      "\n",
      "[결과] Perfume - Time Warp\n",
      "  - 생성된 태그: ['추억', '소중한 순간', '성장']\n",
      "  - 생성된 요약: 소중한 추억과 성장을 되새기며 지난 시간을 회상하는 노래. 각자가 현재를 살아가는 모습을 통해 소중한 순간을 되새기고 성장하는 과정을 그린다\n",
      "-------------------------\n"
     ]
    },
    {
     "name": "stderr",
     "output_type": "stream",
     "text": [
      "\r특징 추출 중:  48%|████▊     | 222/460 [04:16<05:16,  1.33s/it]"
     ]
    },
    {
     "name": "stdout",
     "output_type": "stream",
     "text": [
      "\n",
      "[결과] Reol - 第六感\n",
      "  - 생성된 태그: ['청춘', '자유로움', '도전']\n",
      "  - 생성된 요약: 청춘의 열정과 자유로움을 담은 노래. 새로운 도전에 대한 열망과 욕망이 담겨 있으며, 자유롭고 자신만의 길을 찾아가는 과정을 그린 노래\n",
      "-------------------------\n"
     ]
    },
    {
     "name": "stderr",
     "output_type": "stream",
     "text": [
      "\r특징 추출 중:  48%|████▊     | 223/460 [04:17<05:02,  1.28s/it]"
     ]
    },
    {
     "name": "stdout",
     "output_type": "stream",
     "text": [
      "\n",
      "[결과] RADWIMPS - そっけない\n",
      "  - 생성된 태그: ['사랑', '갈등', '감정']\n",
      "  - 생성된 요약: 서로에 대한 복잡한 감정과 사랑의 갈등을 다룬 노래. 상대방에 대한 이해와 욕망이 얽혀있는 감정적인 노래\n",
      "-------------------------\n"
     ]
    },
    {
     "name": "stderr",
     "output_type": "stream",
     "text": [
      "\r특징 추출 중:  49%|████▊     | 224/460 [04:18<04:33,  1.16s/it]"
     ]
    },
    {
     "name": "stdout",
     "output_type": "stream",
     "text": [
      "\n",
      "[결과] 嵐 - IN THE SUMMER\n",
      "  - 생성된 태그: ['사랑', '회상', '낭만']\n",
      "  - 생성된 요약: 여름의 사랑과 추억을 회상하며 행복한 순간을 공유하는 로맨틱한 노래\n",
      "-------------------------\n"
     ]
    },
    {
     "name": "stderr",
     "output_type": "stream",
     "text": [
      "\r특징 추출 중:  49%|████▉     | 225/460 [04:19<04:22,  1.12s/it]"
     ]
    },
    {
     "name": "stdout",
     "output_type": "stream",
     "text": [
      "\n",
      "[결과] NiziU - Step and a step\n",
      "  - 생성된 태그: ['자기계발', '우정', '긍정']\n",
      "  - 생성된 요약: 자신을 믿고, 친구와 함께하는 여행을 통해 성장하고 긍정적인 마음가짐으로 미래를 향해 나아가는 곡\n",
      "-------------------------\n"
     ]
    },
    {
     "name": "stderr",
     "output_type": "stream",
     "text": [
      "\r특징 추출 중:  49%|████▉     | 226/460 [04:20<04:21,  1.12s/it]"
     ]
    },
    {
     "name": "stdout",
     "output_type": "stream",
     "text": [
      "\n",
      "[결과] YOASOBI - ハルカ\n",
      "  - 생성된 태그: ['사랑', '추억', '감사']\n",
      "  - 생성된 요약: 그리움과 감사의 마음을 담은 노래. 소중한 사람과의 추억을 회상하며 사랑과 감사의 미소를 지어내는 노래\n",
      "-------------------------\n"
     ]
    },
    {
     "name": "stderr",
     "output_type": "stream",
     "text": [
      "\r특징 추출 중:  49%|████▉     | 227/460 [04:21<04:26,  1.14s/it]"
     ]
    },
    {
     "name": "stdout",
     "output_type": "stream",
     "text": [
      "\n",
      "[결과] back number - HAPPY BIRTHDAY\n",
      "  - 생성된 태그: ['고독', '사랑', '추억']\n",
      "  - 생성된 요약: 고독한 짝사랑의 마음을 담은 노래. 상대에 대한 사랑과 추억을 되새기며 혼자서 생각에 잠기는 노래\n",
      "-------------------------\n"
     ]
    },
    {
     "name": "stderr",
     "output_type": "stream",
     "text": [
      "\r특징 추출 중:  50%|████▉     | 228/460 [04:22<04:13,  1.09s/it]"
     ]
    },
    {
     "name": "stdout",
     "output_type": "stream",
     "text": [
      "\n",
      "[결과] YOASOBI - 怪物\n",
      "  - 생성된 태그: ['희망', '도전', '자기계발']\n",
      "  - 생성된 요약: 자신을 극복하고 도전하는 과정에서 희망을 찾고 성장해 나가는 내용을 담은 노래\n",
      "-------------------------\n"
     ]
    },
    {
     "name": "stderr",
     "output_type": "stream",
     "text": [
      "\r특징 추출 중:  50%|████▉     | 229/460 [04:23<04:02,  1.05s/it]"
     ]
    },
    {
     "name": "stdout",
     "output_type": "stream",
     "text": [
      "\n",
      "[결과] YOASOBI - 優しい彗星\n",
      "  - 생성된 태그: ['사랑', '이별', '추억']\n",
      "  - 생성된 요약: 사랑하는 이와의 이별을 견디며 떠오르는 추억과 감정을 담은 노래\n",
      "-------------------------\n"
     ]
    },
    {
     "name": "stderr",
     "output_type": "stream",
     "text": [
      "\r특징 추출 중:  50%|█████     | 230/460 [04:24<03:58,  1.04s/it]"
     ]
    },
    {
     "name": "stdout",
     "output_type": "stream",
     "text": [
      "\n",
      "[결과] YOASOBI - アンコール\n",
      "  - 생성된 태그: ['이별', '슬픔', '후회']\n",
      "  - 생성된 요약: 이별과 상실을 겪은 이후에 남은 후회와 슬픔을 담은 노래\n",
      "-------------------------\n"
     ]
    },
    {
     "name": "stderr",
     "output_type": "stream",
     "text": [
      "\r특징 추출 중:  50%|█████     | 231/460 [04:25<03:44,  1.02it/s]"
     ]
    },
    {
     "name": "stdout",
     "output_type": "stream",
     "text": [
      "\n",
      "[결과] Vaundy - napori\n",
      "  - 생성된 태그: ['사랑', '회상', '이별']\n",
      "  - 생성된 요약: 과거의 사랑을 회상하며 이별과 성장을 겪은 두 사람의 이야기를 담은 노래\n",
      "-------------------------\n"
     ]
    },
    {
     "name": "stderr",
     "output_type": "stream",
     "text": [
      "\r특징 추출 중:  50%|█████     | 232/460 [04:26<03:45,  1.01it/s]"
     ]
    },
    {
     "name": "stdout",
     "output_type": "stream",
     "text": [
      "\n",
      "[결과] NiziU - Poppin' Shakin'\n",
      "  - 생성된 태그: ['흥겨운', '긍정적', '친구']\n",
      "  - 생성된 요약: 긍정적인 에너지와 흥겨운 분위기를 전하는 노래. 친구와 함께하는 즐거운 시간을 나누며 서로에게 감사함을 전하는 노래\n",
      "-------------------------\n"
     ]
    },
    {
     "name": "stderr",
     "output_type": "stream",
     "text": [
      "\r특징 추출 중:  51%|█████     | 233/460 [04:27<04:01,  1.06s/it]"
     ]
    },
    {
     "name": "stdout",
     "output_type": "stream",
     "text": [
      "\n",
      "[결과] Who-ya Extended - VIVID VICE\n",
      "  - 생성된 태그: ['절망', '내면', '갈등']\n",
      "  - 생성된 요약: 생명의 표면장력이 팽팽해져서 터져나가는 가사로, 격양된 불가사의 본성이 나타나고 있으며, 갈등과 내면의 절망을 담은 노래\n",
      "-------------------------\n"
     ]
    },
    {
     "name": "stderr",
     "output_type": "stream",
     "text": [
      "\r특징 추출 중:  51%|█████     | 234/460 [04:28<04:25,  1.17s/it]"
     ]
    },
    {
     "name": "stdout",
     "output_type": "stream",
     "text": [
      "\n",
      "[결과] Ado - レディメイド\n",
      "  - 생성된 태그: ['고독', '자아탐구', '갈등']\n",
      "  - 생성된 요약: 고독과 자아탐구, 내면의 갈등을 다룬 노래. 외로움과 혼란 속에서 자아를 찾아가는 과정을 표현\n",
      "-------------------------\n"
     ]
    },
    {
     "name": "stderr",
     "output_type": "stream",
     "text": [
      "\r특징 추출 중:  51%|█████     | 235/460 [04:30<04:22,  1.17s/it]"
     ]
    },
    {
     "name": "stdout",
     "output_type": "stream",
     "text": [
      "\n",
      "[결과] JO1 - Born To Be Wild\n",
      "  - 생성된 태그: ['모험', '자유', '도전']\n",
      "  - 생성된 요약: 새로운 세계를 향해 모험을 떠나는 용기와 자유로움을 노래하며, 두려움을 깨고 도전하는 내용을 담은 곡\n",
      "-------------------------\n"
     ]
    },
    {
     "name": "stderr",
     "output_type": "stream",
     "text": [
      "\r특징 추출 중:  51%|█████▏    | 236/460 [04:31<04:10,  1.12s/it]"
     ]
    },
    {
     "name": "stdout",
     "output_type": "stream",
     "text": [
      "\n",
      "[결과] YOASOBI - もう少しだけ\n",
      "  - 생성된 태그: ['희망', '사랑', '소중함']\n",
      "  - 생성된 요약: 일상의 소소한 행복과 상냥함을 발견하고, 상대에 대한 사랑과 소중함을 전하는 노래\n",
      "-------------------------\n"
     ]
    },
    {
     "name": "stderr",
     "output_type": "stream",
     "text": [
      "\r특징 추출 중:  52%|█████▏    | 237/460 [04:32<04:14,  1.14s/it]"
     ]
    },
    {
     "name": "stdout",
     "output_type": "stream",
     "text": [
      "\n",
      "[결과] Ado - 夜のピエロ\n",
      "  - 생성된 태그: ['고독', '절망', '도시']\n",
      "  - 생성된 요약: 고독과 절망 속에서 삶의 허무함을 노래하며 도시의 어둠을 그리는 노래\n",
      "-------------------------\n"
     ]
    },
    {
     "name": "stderr",
     "output_type": "stream",
     "text": [
      "\r특징 추출 중:  52%|█████▏    | 238/460 [04:33<04:03,  1.10s/it]"
     ]
    },
    {
     "name": "stdout",
     "output_type": "stream",
     "text": [
      "\n",
      "[결과] Da-iCE - CITRUS\n",
      "  - 생성된 태그: ['자유', '사랑', '강인함']\n",
      "  - 생성된 요약: 고난과 역경을 이겨내며 진정한 사랑과 자유를 향한 강인한 의지를 담은 노래\n",
      "-------------------------\n"
     ]
    },
    {
     "name": "stderr",
     "output_type": "stream",
     "text": [
      "\r특징 추출 중:  52%|█████▏    | 239/460 [04:34<04:09,  1.13s/it]"
     ]
    },
    {
     "name": "stdout",
     "output_type": "stream",
     "text": [
      "\n",
      "[결과] NiziU - Take a picture\n",
      "  - 생성된 태그: ['사랑', '추억', '청춘']\n",
      "  - 생성된 요약: 서로를 사랑하며 함께하는 소중한 순간을 사진으로 남기고 싶어하는 청춘의 감성을 담은 노래\n",
      "-------------------------\n"
     ]
    },
    {
     "name": "stderr",
     "output_type": "stream",
     "text": [
      "\r특징 추출 중:  52%|█████▏    | 240/460 [04:35<04:18,  1.17s/it]"
     ]
    },
    {
     "name": "stdout",
     "output_type": "stream",
     "text": [
      "\n",
      "[결과] TWICE - Kura Kura\n",
      "  - 생성된 태그: ['사랑', '감정', '마법']\n",
      "  - 생성된 요약: 눈을 떠도 마음과 영혼이 모두 당신을 잃지 않고 계속해서 당신을 원하는 사랑에 대한 마법 같은 노래\n",
      "-------------------------\n"
     ]
    },
    {
     "name": "stderr",
     "output_type": "stream",
     "text": [
      "\r특징 추출 중:  52%|█████▏    | 241/460 [04:37<04:33,  1.25s/it]"
     ]
    },
    {
     "name": "stdout",
     "output_type": "stream",
     "text": [
      "\n",
      "[결과] JO1 - Dreaming Night\n",
      "  - 생성된 태그: ['로맨틱', '꿈', '평화로움']\n",
      "  - 생성된 요약: 로맨틱한 분위기 속에서 함께하는 꿈 속 세계, 행복하고 평화로운 느낌을 담은 노래\n",
      "-------------------------\n"
     ]
    },
    {
     "name": "stderr",
     "output_type": "stream",
     "text": [
      "\r특징 추출 중:  53%|█████▎    | 242/460 [04:38<04:10,  1.15s/it]"
     ]
    },
    {
     "name": "stdout",
     "output_type": "stream",
     "text": [
      "\n",
      "[결과] YOASOBI - 三原色\n",
      "  - 생성된 태그: ['회상', '재회', '희망']\n",
      "  - 생성된 요약: 과거를 회상하며 이별한 사람과의 재회를 향한 희망을 담은 노래\n",
      "-------------------------\n"
     ]
    },
    {
     "name": "stderr",
     "output_type": "stream",
     "text": [
      "\r특징 추출 중:  53%|█████▎    | 243/460 [04:39<04:00,  1.11s/it]"
     ]
    },
    {
     "name": "stdout",
     "output_type": "stream",
     "text": [
      "\n",
      "[결과] Ayase - 夜撫でるメノウ\n",
      "  - 생성된 태그: ['이별', '회상', '추억']\n",
      "  - 생성된 요약: 이별을 맞이하고 회상하는 마음을 담은 노래. 과거의 추억을 되새기며 이별에 대한 감정을 표현함\n",
      "-------------------------\n"
     ]
    },
    {
     "name": "stderr",
     "output_type": "stream",
     "text": [
      "\r특징 추출 중:  53%|█████▎    | 244/460 [04:40<03:50,  1.07s/it]"
     ]
    },
    {
     "name": "stdout",
     "output_type": "stream",
     "text": [
      "\n",
      "[결과] YOASOBI - ラブレター\n",
      "  - 생성된 태그: ['감사', '음악', '희망']\n",
      "  - 생성된 요약: 음악을 통해 전하는 진심 어린 감사와 희망에 가득한 노래\n",
      "-------------------------\n"
     ]
    },
    {
     "name": "stderr",
     "output_type": "stream",
     "text": [
      "\r특징 추출 중:  53%|█████▎    | 245/460 [04:40<03:36,  1.01s/it]"
     ]
    },
    {
     "name": "stdout",
     "output_type": "stream",
     "text": [
      "\n",
      "[결과] Stray Kids - ソリクン\n",
      "  - 생성된 태그: ['자신감', '도전', '자유']\n",
      "  - 생성된 요약: 자신감 넘치고 도전을 두려워하지 않는 자유로운 영혼을 담은 노래\n",
      "-------------------------\n"
     ]
    },
    {
     "name": "stderr",
     "output_type": "stream",
     "text": [
      "\r특징 추출 중:  53%|█████▎    | 246/460 [04:42<03:41,  1.04s/it]"
     ]
    },
    {
     "name": "stdout",
     "output_type": "stream",
     "text": [
      "\n",
      "[결과] milet - Ordinary days\n",
      "  - 생성된 태그: ['사랑', '희망', '감사']\n",
      "  - 생성된 요약: 사랑하는 이를 향한 미소와 감사의 마음을 담은 노래. 함께하는 모든 순간이 소중하고 사랑스러워서 눈물도 웃음도 모두 소중하게 느껴지는 감동적인 노래\n",
      "-------------------------\n"
     ]
    },
    {
     "name": "stderr",
     "output_type": "stream",
     "text": [
      "\r특징 추출 중:  54%|█████▎    | 247/460 [04:43<03:44,  1.06s/it]"
     ]
    },
    {
     "name": "stdout",
     "output_type": "stream",
     "text": [
      "\n",
      "[결과] Vaundy - Tokimeki\n",
      "  - 생성된 태그: ['마법', '춤', '희망']\n",
      "  - 생성된 요약: 눈앞에 펼쳐지는 확실한 설레임으로 빛나는 마법과 누군가의 눈물이 흘러내리는 소리를 통해 전해지는 아름다운 희망의 메시지를 담은 노래\n",
      "-------------------------\n"
     ]
    },
    {
     "name": "stderr",
     "output_type": "stream",
     "text": [
      "\r특징 추출 중:  54%|█████▍    | 248/460 [04:43<03:25,  1.03it/s]"
     ]
    },
    {
     "name": "stdout",
     "output_type": "stream",
     "text": [
      "\n",
      "[결과] INI - Rocketeer\n",
      "  - 생성된 태그: ['도전', '꿈', '도약']\n",
      "  - 생성된 요약: 자신의 꿈을 향해 도전하고 도약하는 모험을 다룬 열정적인 노래\n",
      "-------------------------\n"
     ]
    },
    {
     "name": "stderr",
     "output_type": "stream",
     "text": [
      "\r특징 추출 중:  54%|█████▍    | 249/460 [04:45<03:49,  1.09s/it]"
     ]
    },
    {
     "name": "stdout",
     "output_type": "stream",
     "text": [
      "\n",
      "[결과] Ado - 阿修羅ちゃん\n",
      "  - 생성된 태그: ['혼란', '도전', '우정']\n",
      "  - 생성된 요약: 자아를 찾지 못하고 혼란스러운 감정을 겪는 주인공의 이야기를 담은 노래. 친구와의 우정을 통해 도전하고 성장해 나가는 모습을 그려냄\n",
      "-------------------------\n"
     ]
    },
    {
     "name": "stderr",
     "output_type": "stream",
     "text": [
      "특징 추출 중:  54%|█████▍    | 250/460 [04:46<03:51,  1.10s/it]"
     ]
    },
    {
     "name": "stdout",
     "output_type": "stream",
     "text": [
      "\n",
      "[결과] NiziU - Chopstick\n",
      "  - 생성된 태그: ['사랑', '추억', '감사']\n",
      "  - 생성된 요약: 사랑하는 이에게 바치는 노래로, 그의 존재와 함께하는 모든 순간을 소중히 여기며 감사하고 사랑하는 마음을 전하는 노래\n",
      "-------------------------\n",
      "\n",
      "[진행 상황 저장됨: 250/460 완료]\n"
     ]
    },
    {
     "name": "stderr",
     "output_type": "stream",
     "text": [
      "\r특징 추출 중:  55%|█████▍    | 251/460 [04:47<03:56,  1.13s/it]"
     ]
    },
    {
     "name": "stdout",
     "output_type": "stream",
     "text": [
      "\n",
      "[결과] YOASOBI - もしも命が描けたら\n",
      "  - 생성된 태그: ['이별', '사랑', '희망']\n",
      "  - 생성된 요약: 이별과 사랑, 행복과 슬픔이 교차하는 인생의 여정을 담은 노래\n",
      "-------------------------\n"
     ]
    },
    {
     "name": "stderr",
     "output_type": "stream",
     "text": [
      "\r특징 추출 중:  55%|█████▍    | 252/460 [04:48<04:02,  1.17s/it]"
     ]
    },
    {
     "name": "stdout",
     "output_type": "stream",
     "text": [
      "\n",
      "[결과] SEKAI NO OWARI - Diary\n",
      "  - 생성된 태그: ['사랑', '이별', '추억']\n",
      "  - 생성된 요약: 서로를 사랑하면서도 서로에게 표현하지 못한 아쉬움과 이별의 아픔, 그리고 소중한 추억을 담은 노래\n",
      "-------------------------\n"
     ]
    },
    {
     "name": "stderr",
     "output_type": "stream",
     "text": [
      "\r특징 추출 중:  55%|█████▌    | 253/460 [04:49<03:54,  1.13s/it]"
     ]
    },
    {
     "name": "stdout",
     "output_type": "stream",
     "text": [
      "\n",
      "[결과] TWICE - Doughnut\n",
      "  - 생성된 태그: ['사랑', '회상', '추억']\n",
      "  - 생성된 요약: 사랑했던 상대에 대한 그리움과 회상, 그리고 추억에 젖어든 노래\n",
      "-------------------------\n"
     ]
    },
    {
     "name": "stderr",
     "output_type": "stream",
     "text": [
      "\r특징 추출 중:  55%|█████▌    | 254/460 [04:50<03:37,  1.06s/it]"
     ]
    },
    {
     "name": "stdout",
     "output_type": "stream",
     "text": [
      "\n",
      "[결과] INI - CALL 119\n",
      "  - 생성된 태그: ['도전', '자신감', '긍정']\n",
      "  - 생성된 요약: 도전과 자신감으로 가득한 긍정적인 에너지를 전하는 노래. 어려움에 직면해도 자신을 믿고 앞으로 나아가는 결연한 의지를 담고 있음\n",
      "-------------------------\n"
     ]
    },
    {
     "name": "stderr",
     "output_type": "stream",
     "text": [
      "\r특징 추출 중:  55%|█████▌    | 255/460 [04:52<03:51,  1.13s/it]"
     ]
    },
    {
     "name": "stdout",
     "output_type": "stream",
     "text": [
      "\n",
      "[결과] RADWIMPS - うるうびと\n",
      "  - 생성된 태그: ['사랑', '이별', '추억']\n",
      "  - 생성된 요약: 서로 다른 두 사람이 만나 사랑하고 이별하며 서로를 이해하고 위로하는 과정을 담은 노래\n",
      "-------------------------\n"
     ]
    },
    {
     "name": "stderr",
     "output_type": "stream",
     "text": [
      "\r특징 추출 중:  56%|█████▌    | 256/460 [04:53<04:18,  1.27s/it]"
     ]
    },
    {
     "name": "stdout",
     "output_type": "stream",
     "text": [
      "\n",
      "[결과] Ado - 心という名の不可解\n",
      "  - 생성된 태그: ['감정', '미스테리', '자아탐구']\n",
      "  - 생성된 요약: 가사는 감정의 판단과 심경의 분별에 대한 미스테리한 탐구를 담은 노래로, 자아를 탐구하고 복잡한 감정을 다루고 있음을 보여준다\n",
      "-------------------------\n"
     ]
    },
    {
     "name": "stderr",
     "output_type": "stream",
     "text": [
      "\r특징 추출 중:  56%|█████▌    | 257/460 [04:55<04:27,  1.32s/it]"
     ]
    },
    {
     "name": "stdout",
     "output_type": "stream",
     "text": [
      "\n",
      "[결과] SEKAI NO OWARI - Habit\n",
      "  - 생성된 태그: ['자아탐구', '정체성', '사회비판']\n",
      "  - 생성된 요약: 자아를 탐구하고 사회적 분류에 대한 비판을 담은 노래. 스스로를 발견하고 나아가는 과정에서의 혼란과 욕망을 솔직하게 표현함\n",
      "-------------------------\n"
     ]
    },
    {
     "name": "stderr",
     "output_type": "stream",
     "text": [
      "\r특징 추출 중:  56%|█████▌    | 258/460 [04:55<03:58,  1.18s/it]"
     ]
    },
    {
     "name": "stdout",
     "output_type": "stream",
     "text": [
      "\n",
      "[결과] AKB48 - 元カレです\n",
      "  - 생성된 태그: ['이별', '감정', '복잡한 관계']\n",
      "  - 생성된 요약: 이별 후에도 여전히 서로에 대한 복잡한 감정을 안고 있는 노래\n",
      "-------------------------\n"
     ]
    },
    {
     "name": "stderr",
     "output_type": "stream",
     "text": [
      "\r특징 추출 중:  56%|█████▋    | 259/460 [04:57<04:12,  1.26s/it]"
     ]
    },
    {
     "name": "stdout",
     "output_type": "stream",
     "text": [
      "\n",
      "[결과] YOASOBI - 好きだ\n",
      "  - 생성된 태그: ['사랑', '회상', '고백']\n",
      "  - 생성된 요약: 과거의 회상과 사랑을 향한 진심 어린 고백을 담은 노래\n",
      "-------------------------\n"
     ]
    },
    {
     "name": "stderr",
     "output_type": "stream",
     "text": [
      "\r특징 추출 중:  57%|█████▋    | 260/460 [04:58<04:00,  1.20s/it]"
     ]
    },
    {
     "name": "stdout",
     "output_type": "stream",
     "text": [
      "\n",
      "[결과] OFFICIAL HIGE DANDISM - Mixed Nuts\n",
      "  - 생성된 태그: ['사회비판', '가식', '현실']\n",
      "  - 생성된 요약: 사회 속에서 가식과 위선으로 가득한 현실을 비판하며, 진정한 자아를 찾아가는 여정을 담은 노래\n",
      "-------------------------\n"
     ]
    },
    {
     "name": "stderr",
     "output_type": "stream",
     "text": [
      "\r특징 추출 중:  57%|█████▋    | 261/460 [04:59<03:51,  1.16s/it]"
     ]
    },
    {
     "name": "stdout",
     "output_type": "stream",
     "text": [
      "\n",
      "[결과] Gen Hoshino(호시노 겐/星野 源) - 喜劇 / Comedy\n",
      "  - 생성된 태그: ['이별', '사랑', '추억']\n",
      "  - 생성된 요약: 서로를 잃은 이별의 아픔과 함께 그리운 추억을 노래한 노래\n",
      "-------------------------\n"
     ]
    },
    {
     "name": "stderr",
     "output_type": "stream",
     "text": [
      "\r특징 추출 중:  57%|█████▋    | 262/460 [05:00<03:20,  1.02s/it]"
     ]
    },
    {
     "name": "stdout",
     "output_type": "stream",
     "text": [
      "\n",
      "[결과] Yorushika - Bremen\n",
      "  - 생성된 태그: ['일상', '즐거움', '사랑']\n",
      "  - 생성된 요약: 두 사람이 함께하는 즐거운 일상과 사랑을 노래한 곡\n",
      "-------------------------\n"
     ]
    },
    {
     "name": "stderr",
     "output_type": "stream",
     "text": [
      "\r특징 추출 중:  57%|█████▋    | 263/460 [05:01<03:39,  1.11s/it]"
     ]
    },
    {
     "name": "stdout",
     "output_type": "stream",
     "text": [
      "\n",
      "[결과] Macaroni Empitsu - Hashirigaki\n",
      "  - 생성된 태그: ['청춘', '우정', '자아성찰']\n",
      "  - 생성된 요약: 청춘의 열정과 우정, 자아성찰을 담은 노래. 과거와 미래에 대한 갈등과 자기 자신을 받아들이는 과정을 그린 노래\n",
      "-------------------------\n"
     ]
    },
    {
     "name": "stderr",
     "output_type": "stream",
     "text": [
      "\r특징 추출 중:  57%|█████▋    | 264/460 [05:02<03:30,  1.07s/it]"
     ]
    },
    {
     "name": "stdout",
     "output_type": "stream",
     "text": [
      "\n",
      "[결과] ZARD(자드) - promised you - 테레비 아사히 「토요 와이드 극장」 ED 테마\n",
      "  - 생성된 태그: ['사랑', '이별', '회상']\n",
      "  - 생성된 요약: 과거의 사랑을 회상하며 이별과 고독을 견디는 과정을 담은 노래\n",
      "-------------------------\n"
     ]
    },
    {
     "name": "stderr",
     "output_type": "stream",
     "text": [
      "\r특징 추출 중:  58%|█████▊    | 265/460 [05:04<04:09,  1.28s/it]"
     ]
    },
    {
     "name": "stdout",
     "output_type": "stream",
     "text": [
      "\n",
      "[결과] X-Japan(엑스 재팬) - Say Anything\n",
      "  - 생성된 태그: ['이별', '슬픔', '추억']\n",
      "  - 생성된 요약: 이별과 상실에 대한 아픔과 추억을 담은 노래. 상처와 아픔을 견디며 살아가는 과정을 그리고 있음\n",
      "-------------------------\n"
     ]
    },
    {
     "name": "stderr",
     "output_type": "stream",
     "text": [
      "\r특징 추출 중:  58%|█████▊    | 266/460 [05:05<03:55,  1.21s/it]"
     ]
    },
    {
     "name": "stdout",
     "output_type": "stream",
     "text": [
      "\n",
      "[결과] Ado - Backlight (UTA from ONE PIECE FILM RED)\n",
      "  - 생성된 태그: ['분노', '사랑', '고난']\n",
      "  - 생성된 요약: 사랑과 분노, 그리고 고통을 담은 가사. 상대에 대한 복잡한 감정과 이별의 아픔이 노래 속에 고스란히 녹아있다\n",
      "-------------------------\n"
     ]
    },
    {
     "name": "stderr",
     "output_type": "stream",
     "text": [
      "\r특징 추출 중:  58%|█████▊    | 267/460 [05:06<03:32,  1.10s/it]"
     ]
    },
    {
     "name": "stdout",
     "output_type": "stream",
     "text": [
      "\n",
      "[결과] Aimer(에메/エメ) - Kataomoi\n",
      "  - 생성된 태그: ['사랑', '추억', '감동']\n",
      "  - 생성된 요약: 서로를 사랑하며 달콤하고 아름다운 추억을 만들어가는 과정을 담은 감동적인 노래\n",
      "-------------------------\n"
     ]
    },
    {
     "name": "stderr",
     "output_type": "stream",
     "text": [
      "\r특징 추출 중:  58%|█████▊    | 268/460 [05:07<03:29,  1.09s/it]"
     ]
    },
    {
     "name": "stdout",
     "output_type": "stream",
     "text": [
      "\n",
      "[결과] OFFICIAL HIGE DANDISM - Shower\n",
      "  - 생성된 태그: ['추억', '사랑', '성장']\n",
      "  - 생성된 요약: 과거의 추억과 사랑, 성장하는 과정을 담은 노래. 변화를 거부하지 않고 변해가며 살아가는 용기를 응원하는 노래\n",
      "-------------------------\n"
     ]
    },
    {
     "name": "stderr",
     "output_type": "stream",
     "text": [
      "\r특징 추출 중:  58%|█████▊    | 269/460 [05:08<03:15,  1.02s/it]"
     ]
    },
    {
     "name": "stdout",
     "output_type": "stream",
     "text": [
      "\n",
      "[결과] King Gnu(킹 누) - BOY\n",
      "  - 생성된 태그: ['꿈', '도전', '희망']\n",
      "  - 생성된 요약: 자신의 꿈을 향해 도전하고 희망을 잃지 않는 강인한 의지를 담은 노래\n",
      "-------------------------\n"
     ]
    },
    {
     "name": "stderr",
     "output_type": "stream",
     "text": [
      "\r특징 추출 중:  59%|█████▊    | 270/460 [05:09<03:17,  1.04s/it]"
     ]
    },
    {
     "name": "stdout",
     "output_type": "stream",
     "text": [
      "\n",
      "[결과] Kinokoteikoku(키노코 테이코쿠/きのこ帝国) - Sculpture\n",
      "  - 생성된 태그: ['사랑', '추억', '아픔']\n",
      "  - 생성된 요약: 과거의 사랑에 대한 추억과 아픔을 담은 노래. 상대방에 대한 감정이 변했음에도 불구하고 과거의 기억에 얽매여 헤어나오지 못하는 아픈 마음을 표현\n",
      "-------------------------\n"
     ]
    },
    {
     "name": "stderr",
     "output_type": "stream",
     "text": [
      "\r특징 추출 중:  59%|█████▉    | 271/460 [05:10<03:23,  1.08s/it]"
     ]
    },
    {
     "name": "stdout",
     "output_type": "stream",
     "text": [
      "\n",
      "[결과] Kenshi Yonezu(켄시 요네즈/米津 玄師) - Yasashii Hito\n",
      "  - 생성된 태그: ['자아 발견', '자기 성찰', '소망']\n",
      "  - 생성된 요약: 남에게 인정받고 사랑받으려는 욕망과 자아 발견, 자기 성찰을 그리는 노래\n",
      "-------------------------\n"
     ]
    },
    {
     "name": "stderr",
     "output_type": "stream",
     "text": [
      "\r특징 추출 중:  59%|█████▉    | 272/460 [05:11<03:13,  1.03s/it]"
     ]
    },
    {
     "name": "stdout",
     "output_type": "stream",
     "text": [
      "\n",
      "[결과] NMB48 - 好きだ虫\n",
      "  - 생성된 태그: ['사랑', '청춘', '감정']\n",
      "  - 생성된 요약: 순수한 사랑에 대한 감정을 담은 청춘들의 이야기를 담은 노래\n",
      "-------------------------\n"
     ]
    },
    {
     "name": "stderr",
     "output_type": "stream",
     "text": [
      "\r특징 추출 중:  59%|█████▉    | 273/460 [05:12<03:13,  1.04s/it]"
     ]
    },
    {
     "name": "stdout",
     "output_type": "stream",
     "text": [
      "\n",
      "[결과] Vaundy - mabataki\n",
      "  - 생성된 태그: ['갈등', '우정', '소통']\n",
      "  - 생성된 요약: 서로를 이해하지 못하는 세상에서의 갈등과 소통의 중요성을 다룬 노래. 상처와 갈등을 넘어 우정과 소통으로 이어지길 바라는 메시지를 담고 있음\n",
      "-------------------------\n"
     ]
    },
    {
     "name": "stderr",
     "output_type": "stream",
     "text": [
      "\r특징 추출 중:  60%|█████▉    | 274/460 [05:13<03:13,  1.04s/it]"
     ]
    },
    {
     "name": "stdout",
     "output_type": "stream",
     "text": [
      "\n",
      "[결과] TWICE - Celebrate\n",
      "  - 생성된 태그: ['사랑', '기쁨', '축하']\n",
      "  - 생성된 요약: 오랜 세월을 함께한 사랑을 축하하며, 변하지 않는 사랑과 기쁨을 주제로 하는 노래\n",
      "-------------------------\n"
     ]
    },
    {
     "name": "stderr",
     "output_type": "stream",
     "text": [
      "\r특징 추출 중:  60%|█████▉    | 275/460 [05:14<03:18,  1.07s/it]"
     ]
    },
    {
     "name": "stdout",
     "output_type": "stream",
     "text": [
      "\n",
      "[결과] Kep1er - Wing Wing\n",
      "  - 생성된 태그: ['흥겨운', '긍정적', '꿈']\n",
      "  - 생성된 요약: 긍정적인 에너지와 행복을 전하는 노래. 꿈을 향한 열정과 긍정적인 마음이 느껴지는 곡\n",
      "-------------------------\n"
     ]
    },
    {
     "name": "stderr",
     "output_type": "stream",
     "text": [
      "\r특징 추출 중:  60%|██████    | 276/460 [05:15<03:18,  1.08s/it]"
     ]
    },
    {
     "name": "stdout",
     "output_type": "stream",
     "text": [
      "\n",
      "[결과] NiziU - CLAP CLAP\n",
      "  - 생성된 태그: ['파티', '즐거움', '환희']\n",
      "  - 생성된 요약: 파티 분위기를 띄며 즐거움과 환희를 전하는 노래\n",
      "-------------------------\n"
     ]
    },
    {
     "name": "stderr",
     "output_type": "stream",
     "text": [
      "\r특징 추출 중:  60%|██████    | 277/460 [05:16<03:21,  1.10s/it]"
     ]
    },
    {
     "name": "stdout",
     "output_type": "stream",
     "text": [
      "\n",
      "[결과] INI - Password\n",
      "  - 생성된 태그: ['자아탐색', '변화', '모험']\n",
      "  - 생성된 요약: 자아를 탐구하고 새로운 모험을 맞이하는 과정에서 변화와 성장을 경험하는 내용을 담은 노래\n",
      "-------------------------\n"
     ]
    },
    {
     "name": "stderr",
     "output_type": "stream",
     "text": [
      "\r특징 추출 중:  60%|██████    | 278/460 [05:17<03:22,  1.11s/it]"
     ]
    },
    {
     "name": "stdout",
     "output_type": "stream",
     "text": [
      "\n",
      "[결과] Fujii Kaze - Shinunoga E-Wa\n",
      "  - 생성된 태그: ['사랑', '이별', '추억']\n",
      "  - 생성된 요약: 사랑하는 상대를 떠나야 하는 아픔과 추억을 노래한 가사. 이별의 아픔과 함께 남는 사랑에 대한 감정을 담은 곡\n",
      "-------------------------\n"
     ]
    },
    {
     "name": "stderr",
     "output_type": "stream",
     "text": [
      "\r특징 추출 중:  61%|██████    | 279/460 [05:19<03:26,  1.14s/it]"
     ]
    },
    {
     "name": "stdout",
     "output_type": "stream",
     "text": [
      "\n",
      "[결과] yama - color\n",
      "  - 생성된 태그: ['평온', '희망', '일상']\n",
      "  - 생성된 요약: 일상의 소중함과 행복을 발견하고, 각양각색인 삶을 즐기며 희망을 품고 살아가는 노래\n",
      "-------------------------\n"
     ]
    },
    {
     "name": "stderr",
     "output_type": "stream",
     "text": [
      "\r특징 추출 중:  61%|██████    | 280/460 [05:20<03:19,  1.11s/it]"
     ]
    },
    {
     "name": "stdout",
     "output_type": "stream",
     "text": [
      "\n",
      "[결과] YOASOBI - 祝福 (축복, 애니메이션 '기동전사 건담 수성의 마녀' 오프닝곡)\n",
      "  - 생성된 태그: ['도전', '희망', '우정']\n",
      "  - 생성된 요약: 어려움을 극복하고 미래를 향해 달려가는 용기와 희망을 주제로 하는 노래. 친구와 함께하는 우정과 함께하는 도전의 이야기가 담겨 있음\n",
      "-------------------------\n"
     ]
    },
    {
     "name": "stderr",
     "output_type": "stream",
     "text": [
      "\r특징 추출 중:  61%|██████    | 281/460 [05:21<03:07,  1.04s/it]"
     ]
    },
    {
     "name": "stdout",
     "output_type": "stream",
     "text": [
      "\n",
      "[결과] Bump Of Chicken(범프 오브 치킨) - Souvenir\n",
      "  - 생성된 태그: ['사랑', '이별', '추억']\n",
      "  - 생성된 요약: 서로의 삶을 함께한 추억을 되새기며 이별을 맞이하는 사랑에 대한 노래\n",
      "-------------------------\n"
     ]
    },
    {
     "name": "stderr",
     "output_type": "stream",
     "text": [
      "\r특징 추출 중:  61%|██████▏   | 282/460 [05:22<03:21,  1.13s/it]"
     ]
    },
    {
     "name": "stdout",
     "output_type": "stream",
     "text": [
      "\n",
      "[결과] RADWIMPS(래드윔프스) - すずめ / Suzume (feat. Toaka(토아카/十明))\n",
      "  - 생성된 태그: ['사랑', '추억', '감성']\n",
      "  - 생성된 요약: 서로의 마음을 이어주는 빨간색과 파란색 선들이 마음의 심장에서 만나는 이 노래는 서로를 이해하고 지지하는 사랑의 감정을 담고 있습니다\n",
      "-------------------------\n"
     ]
    },
    {
     "name": "stderr",
     "output_type": "stream",
     "text": [
      "\r특징 추출 중:  62%|██████▏   | 283/460 [05:23<03:11,  1.08s/it]"
     ]
    },
    {
     "name": "stdout",
     "output_type": "stream",
     "text": [
      "\n",
      "[결과] Hikaru Utada(우타다 히카루/宇多田ヒカル) - First Love (일본드라마 '마녀의 조건' Theme)\n",
      "  - 생성된 태그: ['이별', '그리움', '추억']\n",
      "  - 생성된 요약: 이별 후에도 당신을 그리워하며 추억에 잠기는 노래. 영원히 당신을 사랑할 것을 다짐하는 노래\n",
      "-------------------------\n"
     ]
    },
    {
     "name": "stderr",
     "output_type": "stream",
     "text": [
      "\r특징 추출 중:  62%|██████▏   | 284/460 [05:24<03:30,  1.20s/it]"
     ]
    },
    {
     "name": "stdout",
     "output_type": "stream",
     "text": [
      "\n",
      "[결과] Bump Of Chicken(범프 오브 치킨) - Chronostasis\n",
      "  - 생성된 태그: ['회상', '그리움', '후회']\n",
      "  - 생성된 요약: 과거를 회상하며 그리움과 후회에 젖어있는 노래. 상실과 아쉬움을 담은 가사 속에서 과거의 기억을 되새기며 자신을 돌아보는 내용을 담고 있음\n",
      "-------------------------\n"
     ]
    },
    {
     "name": "stderr",
     "output_type": "stream",
     "text": [
      "\r특징 추출 중:  62%|██████▏   | 285/460 [05:25<03:18,  1.14s/it]"
     ]
    },
    {
     "name": "stdout",
     "output_type": "stream",
     "text": [
      "\n",
      "[결과] SEKAI NO OWARI(세카이노 오와리) - Dragon Night\n",
      "  - 생성된 태그: ['우정', '평화', '다짐']\n",
      "  - 생성된 요약: 각자의 정의를 가지고 서로 다른 싸움을 벌이지만, 결국 친구처럼 함께 노래하며 평화를 찾고자 하는 다짐을 담은 노래\n",
      "-------------------------\n"
     ]
    },
    {
     "name": "stderr",
     "output_type": "stream",
     "text": [
      "\r특징 추출 중:  62%|██████▏   | 286/460 [05:27<03:20,  1.15s/it]"
     ]
    },
    {
     "name": "stdout",
     "output_type": "stream",
     "text": [
      "\n",
      "[결과] Kuraki Mai(쿠라키 마이/倉木麻衣) - 渡月橋 ~君 想ふ~ (도월교 ~그대를 생각하며~) (극장판 '명탐정 코난: 진홍의 연가' 주제가)\n",
      "  - 생성된 태그: ['사랑', '그리움', '추억']\n",
      "  - 생성된 요약: 그리움과 사랑을 담은 노래. 상대와의 만남을 그리며 힘든 감정을 안고 있는 이의 마음을 담았다\n",
      "-------------------------\n"
     ]
    },
    {
     "name": "stderr",
     "output_type": "stream",
     "text": [
      "\r특징 추출 중:  62%|██████▏   | 287/460 [05:28<03:18,  1.15s/it]"
     ]
    },
    {
     "name": "stdout",
     "output_type": "stream",
     "text": [
      "\n",
      "[결과] Lisa Ono(리사 오노/小野リサ) - Les feuilles mortes\n",
      "  - 생성된 태그: ['이별', '사랑', '회상']\n",
      "  - 생성된 요약: 서로를 사랑하던 두 사람의 이별과 회상을 그리며, 사랑하는 이들 간에 생기는 아픈 이별을 담은 노래\n",
      "-------------------------\n"
     ]
    },
    {
     "name": "stderr",
     "output_type": "stream",
     "text": [
      "\r특징 추출 중:  63%|██████▎   | 288/460 [05:29<03:25,  1.19s/it]"
     ]
    },
    {
     "name": "stdout",
     "output_type": "stream",
     "text": [
      "\n",
      "[결과] King Gnu(킹 누) - Ame Sansan\n",
      "  - 생성된 태그: ['회상', '젊음', '우정']\n",
      "  - 생성된 요약: 젊었던 시절을 회상하며 우정과 사랑, 성장의 과정을 담은 노래\n",
      "-------------------------\n"
     ]
    },
    {
     "name": "stderr",
     "output_type": "stream",
     "text": [
      "\r특징 추출 중:  63%|██████▎   | 289/460 [05:30<03:04,  1.08s/it]"
     ]
    },
    {
     "name": "stdout",
     "output_type": "stream",
     "text": [
      "\n",
      "[결과] Tube(튜브/チュ-ブ) - The Season In The Sun\n",
      "  - 생성된 태그: ['사랑', '그리움', '회상']\n",
      "  - 생성된 요약: 달콤한 사랑을 노래하며 그리움과 회상에 젖어드는 노래\n",
      "-------------------------\n"
     ]
    },
    {
     "name": "stderr",
     "output_type": "stream",
     "text": [
      "\r특징 추출 중:  63%|██████▎   | 290/460 [05:31<03:15,  1.15s/it]"
     ]
    },
    {
     "name": "stdout",
     "output_type": "stream",
     "text": [
      "\n",
      "[결과] Ayase - 飽和\n",
      "  - 생성된 태그: ['사랑', '이별', '성장']\n",
      "  - 생성된 요약: 서로를 사랑하며 성장하고 이별을 맞이하는 과정에서 겪는 감정을 담은 노래\n",
      "-------------------------\n"
     ]
    },
    {
     "name": "stderr",
     "output_type": "stream",
     "text": [
      "\r특징 추출 중:  63%|██████▎   | 291/460 [05:32<03:03,  1.09s/it]"
     ]
    },
    {
     "name": "stdout",
     "output_type": "stream",
     "text": [
      "\n",
      "[결과] MAISONdes - till the edge of the night (feat. OOO, WhaleDontSleep)\n",
      "  - 생성된 태그: ['절망', '고독', '인간관계']\n",
      "  - 생성된 요약: 고통스러운 감정과 절망 속에서 혼자서 연극을 이어가는 고독한 이의 내면을 그린 노래\n",
      "-------------------------\n"
     ]
    },
    {
     "name": "stderr",
     "output_type": "stream",
     "text": [
      "\r특징 추출 중:  63%|██████▎   | 292/460 [05:33<03:17,  1.18s/it]"
     ]
    },
    {
     "name": "stdout",
     "output_type": "stream",
     "text": [
      "\n",
      "[결과] ONE OK ROCK - Clock Strikes\n",
      "  - 생성된 태그: ['희망', '절망', '시간']\n",
      "  - 생성된 요약: 영원함에 대한 믿음과 희망을 주제로 한 가사. 시간이 지나가는 것을 받아들이면서도 영원함을 갈망하는 미묘한 감정을 담은 노래\n",
      "-------------------------\n"
     ]
    },
    {
     "name": "stderr",
     "output_type": "stream",
     "text": [
      "\r특징 추출 중:  64%|██████▎   | 293/460 [05:35<03:15,  1.17s/it]"
     ]
    },
    {
     "name": "stdout",
     "output_type": "stream",
     "text": [
      "\n",
      "[결과] SUPER BEAVER - Hitamuki\n",
      "  - 생성된 태그: ['희망', '도전', '인내']\n",
      "  - 생성된 요약: 자신을 믿고 힘껏 노력하며 힘든 시련을 이겨내고자 하는 희망과 인내에 관한 노래\n",
      "-------------------------\n"
     ]
    },
    {
     "name": "stderr",
     "output_type": "stream",
     "text": [
      "\r특징 추출 중:  64%|██████▍   | 294/460 [05:36<03:17,  1.19s/it]"
     ]
    },
    {
     "name": "stdout",
     "output_type": "stream",
     "text": [
      "\n",
      "[결과] Aimer(에메/エメ) - Ref:rain\n",
      "  - 생성된 태그: ['그리움', '회상', '사랑']\n",
      "  - 생성된 요약: 햇살 가득한 여름 오후에 통통 흩날리는 소나기 아래에서 서로를 그리워하고 회상하는 사랑의 노래\n",
      "-------------------------\n"
     ]
    },
    {
     "name": "stderr",
     "output_type": "stream",
     "text": [
      "\r특징 추출 중:  64%|██████▍   | 295/460 [05:37<03:09,  1.15s/it]"
     ]
    },
    {
     "name": "stdout",
     "output_type": "stream",
     "text": [
      "\n",
      "[결과] ZARD(자드) - Good-bye My Loneliness - 후지테레비 드라마 「결혼의 이상과 현실」 주제가\n",
      "  - 생성된 태그: ['이별', '외로움', '사랑']\n",
      "  - 생성된 요약: 상대방에 대한 그리움과 외로움, 그리고 사랑에 대한 복잡한 감정을 담은 노래\n",
      "-------------------------\n"
     ]
    },
    {
     "name": "stderr",
     "output_type": "stream",
     "text": [
      "\r특징 추출 중:  64%|██████▍   | 296/460 [05:38<03:06,  1.14s/it]"
     ]
    },
    {
     "name": "stdout",
     "output_type": "stream",
     "text": [
      "\n",
      "[결과] Uru - フリージア / Freesia\n",
      "  - 생성된 태그: ['희망', '우정', '도전']\n",
      "  - 생성된 요약: 희망을 품고 우정을 굳건히 이어가며 도전하는 자세를 노래한 곡\n",
      "-------------------------\n"
     ]
    },
    {
     "name": "stderr",
     "output_type": "stream",
     "text": [
      "\r특징 추출 중:  65%|██████▍   | 297/460 [05:39<03:12,  1.18s/it]"
     ]
    },
    {
     "name": "stdout",
     "output_type": "stream",
     "text": [
      "\n",
      "[결과] Yamazaki Masayoshi(야마자키 마사요시/山崎まさよし) - One More Time,One More Chance\n",
      "  - 생성된 태그: ['그리움', '사랑', '추억']\n",
      "  - 생성된 요약: 이별과 그리움, 사랑에 대한 감정이 깊게 담긴 노래. 상실감과 추억 속에서의 사랑을 다룸\n",
      "-------------------------\n"
     ]
    },
    {
     "name": "stderr",
     "output_type": "stream",
     "text": [
      "\r특징 추출 중:  65%|██████▍   | 298/460 [05:40<02:56,  1.09s/it]"
     ]
    },
    {
     "name": "stdout",
     "output_type": "stream",
     "text": [
      "\n",
      "[결과] Number_i - HIRAKEGOMA\n",
      "  - 생성된 태그: ['도전', '꿈', '우정']\n",
      "  - 생성된 요약: 도전과 꿈을 향한 열정, 우정의 소중함을 담은 노래\n",
      "-------------------------\n"
     ]
    },
    {
     "name": "stderr",
     "output_type": "stream",
     "text": [
      "\r특징 추출 중:  65%|██████▌   | 299/460 [05:41<02:57,  1.10s/it]"
     ]
    },
    {
     "name": "stdout",
     "output_type": "stream",
     "text": [
      "\n",
      "[결과] Ado - Episode X\n",
      "  - 생성된 태그: ['도전', '희망', '인내']\n",
      "  - 생성된 요약: 힘든 상황에서도 희망을 잃지 않고 인내하며 도전하는 강인한 의지를 담은 노래\n",
      "-------------------------\n"
     ]
    },
    {
     "name": "stderr",
     "output_type": "stream",
     "text": [
      "특징 추출 중:  65%|██████▌   | 300/460 [05:42<03:00,  1.13s/it]"
     ]
    },
    {
     "name": "stdout",
     "output_type": "stream",
     "text": [
      "\n",
      "[결과] Mrs. GREEN APPLE - Lilac\n",
      "  - 생성된 태그: ['추억', '사랑', '성장']\n",
      "  - 생성된 요약: 과거의 추억과 사랑, 자아를 발견하고 성장해 나가는 과정을 담은 노래\n",
      "-------------------------\n",
      "\n",
      "[진행 상황 저장됨: 300/460 완료]\n"
     ]
    },
    {
     "name": "stderr",
     "output_type": "stream",
     "text": [
      "\r특징 추출 중:  65%|██████▌   | 301/460 [05:44<02:54,  1.10s/it]"
     ]
    },
    {
     "name": "stdout",
     "output_type": "stream",
     "text": [
      "\n",
      "[결과] Yuuri - Billimillion\n",
      "  - 생성된 태그: ['가치', '선택', '희망']\n",
      "  - 생성된 요약: 인생의 가치와 선택의 중요성, 끝없는 가능성에 대한 노래. 후회 없는 선택을 향해 희망찬 마음으로 노래함\n",
      "-------------------------\n"
     ]
    },
    {
     "name": "stderr",
     "output_type": "stream",
     "text": [
      "\r특징 추출 중:  66%|██████▌   | 302/460 [05:45<02:53,  1.10s/it]"
     ]
    },
    {
     "name": "stdout",
     "output_type": "stream",
     "text": [
      "\n",
      "[결과] Nakashima Mika(나카시마 미카/中島美嘉) - 연분홍 빛 춤출 무렵 (桜色舞うころ)\n",
      "  - 생성된 태그: ['이별', '사랑', '추억']\n",
      "  - 생성된 요약: 이별과 사랑, 그리움이 깊게 얽힌 노래. 상대에 대한 사랑과 추억을 간직하며 홀로 남은 감정을 표현\n",
      "-------------------------\n"
     ]
    },
    {
     "name": "stderr",
     "output_type": "stream",
     "text": [
      "\r특징 추출 중:  66%|██████▌   | 303/460 [05:46<03:00,  1.15s/it]"
     ]
    },
    {
     "name": "stdout",
     "output_type": "stream",
     "text": [
      "\n",
      "[결과] Vaundy - Koikaze ni nosete\n",
      "  - 생성된 태그: ['사랑', '추억', '이별']\n",
      "  - 생성된 요약: 서로를 향한 사랑과 추억을 담은 노래. 서로를 잊지 못하고 항상 함께 웃으며 지낸 일상이 이별의 아픔을 안겨주지만, 그럼에도 끝내 서로를 향한 사랑을 되새기며 앞으로 나아가는 노래\n",
      "-------------------------\n"
     ]
    },
    {
     "name": "stderr",
     "output_type": "stream",
     "text": [
      "\r특징 추출 중:  66%|██████▌   | 304/460 [05:47<02:51,  1.10s/it]"
     ]
    },
    {
     "name": "stdout",
     "output_type": "stream",
     "text": [
      "\n",
      "[결과] Fujii Kaze - Michi Teyu Ku (Overflowing)\n",
      "  - 생성된 태그: ['사랑', '이별', '성장']\n",
      "  - 생성된 요약: 순환하는 삶의 흐름과 변화를 받아들이며 사랑과 이별, 성장에 대한 깊은 감정을 담은 노래\n",
      "-------------------------\n"
     ]
    },
    {
     "name": "stderr",
     "output_type": "stream",
     "text": [
      "\r특징 추출 중:  66%|██████▋   | 305/460 [05:48<02:40,  1.03s/it]"
     ]
    },
    {
     "name": "stdout",
     "output_type": "stream",
     "text": [
      "\n",
      "[결과] NiziU (니쥬) - YOAKE\n",
      "  - 생성된 태그: ['희망', '도약', '자기성찰']\n",
      "  - 생성된 요약: 새로운 시작과 미래에 대한 희망을 안고 자신의 한계를 극복하며 성장해나가는 과정을 담은 노래\n",
      "-------------------------\n"
     ]
    },
    {
     "name": "stderr",
     "output_type": "stream",
     "text": [
      "\r특징 추출 중:  67%|██████▋   | 306/460 [05:49<02:40,  1.04s/it]"
     ]
    },
    {
     "name": "stdout",
     "output_type": "stream",
     "text": [
      "\n",
      "[결과] AiScReam - AI SCREAM!\n",
      "  - 생성된 태그: ['사랑', '열정', '고백']\n",
      "  - 생성된 요약: 강렬한 사랑을 표현하며 상대방에 대한 열정적인 고백을 담은 노래\n",
      "-------------------------\n"
     ]
    },
    {
     "name": "stderr",
     "output_type": "stream",
     "text": [
      "\r특징 추출 중:  67%|██████▋   | 307/460 [05:50<02:53,  1.13s/it]"
     ]
    },
    {
     "name": "stdout",
     "output_type": "stream",
     "text": [
      "\n",
      "[결과] Kenshi Yonezu(켄시 요네즈/米津 玄師) - BOW AND ARROW\n",
      "  - 생성된 태그: ['도전', '성공', '자기계발']\n",
      "  - 생성된 요약: 누구에게도 뒤돌아보지 말고 앞으로 나아가며 미래를 향해 도전하고 성공을 이루어나가는 과정을 담은 자기계발을 응원하는 노래\n",
      "-------------------------\n"
     ]
    },
    {
     "name": "stderr",
     "output_type": "stream",
     "text": [
      "\r특징 추출 중:  67%|██████▋   | 308/460 [05:51<02:46,  1.09s/it]"
     ]
    },
    {
     "name": "stdout",
     "output_type": "stream",
     "text": [
      "\n",
      "[결과] Kenshi Yonezu(켄시 요네즈/米津 玄師) - Plazma\n",
      "  - 생성된 태그: ['몽환적', '우주', '사랑']\n",
      "  - 생성된 요약: 과거의 선택과 결정에 대한 후회와 이별, 그리고 사랑에 대한 갈망을 담은 몽환적이고 우주적인 느낌의 노래\n",
      "-------------------------\n"
     ]
    },
    {
     "name": "stderr",
     "output_type": "stream",
     "text": [
      "\r특징 추출 중:  67%|██████▋   | 309/460 [05:52<02:32,  1.01s/it]"
     ]
    },
    {
     "name": "stdout",
     "output_type": "stream",
     "text": [
      "\n",
      "[결과] Kenshi Yonezu(켄시 요네즈/米津 玄師) - Garakuta - JUNK\n",
      "  - 생성된 태그: ['이별', '후회', '아픔']\n",
      "  - 생성된 요약: 서로를 잃고 후회하고 아픔을 안고 있는 노래. 상처를 치유하고 다시 만나는 희망을 담은 노래\n",
      "-------------------------\n"
     ]
    },
    {
     "name": "stderr",
     "output_type": "stream",
     "text": [
      "\r특징 추출 중:  67%|██████▋   | 310/460 [05:53<02:36,  1.04s/it]"
     ]
    },
    {
     "name": "stdout",
     "output_type": "stream",
     "text": [
      "\n",
      "[결과] LE SSERAFIM - DIFFERENT\n",
      "  - 생성된 태그: ['자아', '독립', '자신감']\n",
      "  - 생성된 요약: 자신의 독보적인 존재감과 자아를 극대화시키며 색다른 경험을 추구하는 자신감 넘치는 노래\n",
      "-------------------------\n"
     ]
    },
    {
     "name": "stderr",
     "output_type": "stream",
     "text": [
      "\r특징 추출 중:  68%|██████▊   | 311/460 [05:54<02:34,  1.04s/it]"
     ]
    },
    {
     "name": "stdout",
     "output_type": "stream",
     "text": [
      "\n",
      "[결과] IMP. - Cheek to Cheek\n",
      "  - 생성된 태그: ['신나는', '사랑', '흥겨운']\n",
      "  - 생성된 요약: 신나는 분위기와 함께 사랑을 노래하며 흥겨운 댄스를 즐기는 노래\n",
      "-------------------------\n"
     ]
    },
    {
     "name": "stderr",
     "output_type": "stream",
     "text": [
      "\r특징 추출 중:  68%|██████▊   | 312/460 [05:55<02:43,  1.11s/it]"
     ]
    },
    {
     "name": "stdout",
     "output_type": "stream",
     "text": [
      "\n",
      "[결과] Sakanaction(사카낙션/サカナクション) - 忘れられないの / Wasurerarenaino\n",
      "  - 생성된 태그: ['추억', '이별', '사랑']\n",
      "  - 생성된 요약: 잊을 수 없는 추억과 이별에 대한 그리움을 담은 노래. 사랑했던 상대와의 기억 속에서 영원히 남겨두고 싶은 마음을 표현함\n",
      "-------------------------\n"
     ]
    },
    {
     "name": "stderr",
     "output_type": "stream",
     "text": [
      "\r특징 추출 중:  68%|██████▊   | 313/460 [05:56<02:27,  1.00s/it]"
     ]
    },
    {
     "name": "stdout",
     "output_type": "stream",
     "text": [
      "\n",
      "[결과] m-flo - EKO EKO\n",
      "  - 생성된 태그: ['사랑', '우주', '로맨틱']\n",
      "  - 생성된 요약: 서로 다른 우주에서 만나 사랑을 나누는 이야기를 담은 로맨틱한 노래\n",
      "-------------------------\n"
     ]
    },
    {
     "name": "stderr",
     "output_type": "stream",
     "text": [
      "\r특징 추출 중:  68%|██████▊   | 314/460 [05:58<02:51,  1.17s/it]"
     ]
    },
    {
     "name": "stdout",
     "output_type": "stream",
     "text": [
      "\n",
      "[결과] サザンオールスターズ - TSUNAMI\n",
      "  - 생성된 태그: ['사랑', '추억', '이별']\n",
      "  - 생성된 요약: 사랑하는 사람에 대한 그리움과 추억, 이별의 아픔을 담은 노래\n",
      "-------------------------\n"
     ]
    },
    {
     "name": "stderr",
     "output_type": "stream",
     "text": [
      "\r특징 추출 중:  68%|██████▊   | 315/460 [05:59<02:42,  1.12s/it]"
     ]
    },
    {
     "name": "stdout",
     "output_type": "stream",
     "text": [
      "\n",
      "[결과] RADWIMPS - 賜物\n",
      "  - 생성된 태그: ['도전', '사랑', '인생']\n",
      "  - 생성된 요약: 인생의 도전과 사랑, 그리고 삶을 함께하는 소중한 사람에 대한 노래\n",
      "-------------------------\n"
     ]
    },
    {
     "name": "stderr",
     "output_type": "stream",
     "text": [
      "\r특징 추출 중:  69%|██████▊   | 316/460 [06:00<02:49,  1.18s/it]"
     ]
    },
    {
     "name": "stdout",
     "output_type": "stream",
     "text": [
      "\n",
      "[결과] Stray Kids - Hollow\n",
      "  - 생성된 태그: ['고독', '갈망', '허전함']\n",
      "  - 생성된 요약: 사랑과 충만함을 찾아 헤매지만 고독과 허전함을 느끼는 깊은 갈망의 노래\n",
      "-------------------------\n"
     ]
    },
    {
     "name": "stderr",
     "output_type": "stream",
     "text": [
      "\r특징 추출 중:  69%|██████▉   | 317/460 [06:01<02:45,  1.16s/it]"
     ]
    },
    {
     "name": "stdout",
     "output_type": "stream",
     "text": [
      "\n",
      "[결과] YUI - SUMMER SONG\n",
      "  - 생성된 태그: ['청춘', '사랑', '회상']\n",
      "  - 생성된 요약: 청춘의 사랑과 회상을 주제로 하는 여름의 시작과 함께하는 즐거운 여름방학을 노래한 곡\n",
      "-------------------------\n"
     ]
    },
    {
     "name": "stderr",
     "output_type": "stream",
     "text": [
      "\r특징 추출 중:  69%|██████▉   | 318/460 [06:02<02:41,  1.14s/it]"
     ]
    },
    {
     "name": "stdout",
     "output_type": "stream",
     "text": [
      "\n",
      "[결과] Number_i - GOD_i\n",
      "  - 생성된 태그: ['자기 성찰', '도전', '희망']\n",
      "  - 생성된 요약: 자아를 찾아가는 여정과 자기 자신을 믿고 도전하는 희망을 담은 노래\n",
      "-------------------------\n"
     ]
    },
    {
     "name": "stderr",
     "output_type": "stream",
     "text": [
      "\r특징 추출 중:  69%|██████▉   | 319/460 [06:03<02:40,  1.14s/it]"
     ]
    },
    {
     "name": "stdout",
     "output_type": "stream",
     "text": [
      "\n",
      "[결과] Vaundy - 走れSAKAMOTO\n",
      "  - 생성된 태그: ['도전', '인내', '도전정신']\n",
      "  - 생성된 요약: 어려움에 부딪혀도 포기하지 않고 도전하는 용기와 인내, 그리고 도전정신을 응원하는 노래\n",
      "-------------------------\n"
     ]
    },
    {
     "name": "stderr",
     "output_type": "stream",
     "text": [
      "\r특징 추출 중:  70%|██████▉   | 320/460 [06:04<02:34,  1.11s/it]"
     ]
    },
    {
     "name": "stdout",
     "output_type": "stream",
     "text": [
      "\n",
      "[결과] YOASOBI - PLAYERS\n",
      "  - 생성된 태그: ['모험', '성장', '우정']\n",
      "  - 생성된 요약: 새로운 시작과 성장, 그리고 우정을 통해 함께 모험을 떠나는 과정을 노래한 곡\n",
      "-------------------------\n"
     ]
    },
    {
     "name": "stderr",
     "output_type": "stream",
     "text": [
      "\r특징 추출 중:  70%|██████▉   | 321/460 [06:07<03:30,  1.52s/it]"
     ]
    },
    {
     "name": "stdout",
     "output_type": "stream",
     "text": [
      "\n",
      "[결과] Kenshi Yonezu(켄시 요네즈/米津 玄師) - Azalea\n",
      "  - 생성된 태그: ['사랑', '추억', '이별']\n",
      "  - 생성된 요약: 서로를 사랑하며 지내던 추억이 담긴 노래. 이별과 그리움, 변화에 대한 감정이 노래 속에 담겨 있음\n",
      "-------------------------\n"
     ]
    },
    {
     "name": "stderr",
     "output_type": "stream",
     "text": [
      "\r특징 추출 중:  70%|███████   | 322/460 [06:08<03:09,  1.37s/it]"
     ]
    },
    {
     "name": "stdout",
     "output_type": "stream",
     "text": [
      "\n",
      "[결과] TWICE - The wish\n",
      "  - 생성된 태그: ['축제', '추억', '희망']\n",
      "  - 생성된 요약: 친구들과 함께하는 특별한 파티의 기쁨과 행복한 순간을 만드는 희망과 추억을 담은 노래\n",
      "-------------------------\n"
     ]
    },
    {
     "name": "stderr",
     "output_type": "stream",
     "text": [
      "\r특징 추출 중:  70%|███████   | 323/460 [06:11<04:19,  1.89s/it]"
     ]
    },
    {
     "name": "stdout",
     "output_type": "stream",
     "text": [
      "\n",
      "[결과] MISAMO - NEW LOOK\n",
      "  - 생성된 태그: ['패션', '자아 표현', '자신감']\n",
      "  - 생성된 요약: 시네마 속 Twiggy의 패션을 모방하며 자아를 표현하고 새로운 모습에 대한 자신감을 얻고자 하는 노래\n",
      "-------------------------\n"
     ]
    },
    {
     "name": "stderr",
     "output_type": "stream",
     "text": [
      "\r특징 추출 중:  70%|███████   | 324/460 [06:12<03:37,  1.60s/it]"
     ]
    },
    {
     "name": "stdout",
     "output_type": "stream",
     "text": [
      "\n",
      "[결과] Official髭男dism - Same Blue\n",
      "  - 생성된 태그: ['사랑', '그리움', '성장']\n",
      "  - 생성된 요약: 사랑하는 상대에 대한 그리움과 이별의 아픔, 자신의 성장과 변화를 담은 노래\n",
      "-------------------------\n"
     ]
    },
    {
     "name": "stderr",
     "output_type": "stream",
     "text": [
      "\r특징 추출 중:  71%|███████   | 325/460 [06:13<03:17,  1.46s/it]"
     ]
    },
    {
     "name": "stdout",
     "output_type": "stream",
     "text": [
      "\n",
      "[결과] Official髭男dism - 50%\n",
      "  - 생성된 태그: ['도전', '자기계발', '평화']\n",
      "  - 생성된 요약: 자신을 돌아보며 자기계발에 대한 도전과 평화를 찾아가는 과정을 담은 노래\n",
      "-------------------------\n"
     ]
    },
    {
     "name": "stderr",
     "output_type": "stream",
     "text": [
      "\r특징 추출 중:  71%|███████   | 326/460 [06:14<03:06,  1.39s/it]"
     ]
    },
    {
     "name": "stdout",
     "output_type": "stream",
     "text": [
      "\n",
      "[결과] GEMN - Fatal\n",
      "  - 생성된 태그: ['사랑', '그리움', '절망']\n",
      "  - 생성된 요약: 상대에 대한 깊은 그리움과 사랑을 표현하면서도 절망과 상실감을 겪는 내용의 노래\n",
      "-------------------------\n"
     ]
    },
    {
     "name": "stderr",
     "output_type": "stream",
     "text": [
      "\r특징 추출 중:  71%|███████   | 327/460 [06:16<03:02,  1.37s/it]"
     ]
    },
    {
     "name": "stdout",
     "output_type": "stream",
     "text": [
      "\n",
      "[결과] imase - Metrocity\n",
      "  - 생성된 태그: ['도시', '자유로움', '사랑']\n",
      "  - 생성된 요약: 도시 생활 속에서 자유롭게 사랑을 노래하는 곡. 다채로운 욕망과 혼란 속에서도 사랑을 추구하는 이들의 이야기를 담은 노래\n",
      "-------------------------\n"
     ]
    },
    {
     "name": "stderr",
     "output_type": "stream",
     "text": [
      "\r특징 추출 중:  71%|███████▏  | 328/460 [06:16<02:41,  1.22s/it]"
     ]
    },
    {
     "name": "stdout",
     "output_type": "stream",
     "text": [
      "\n",
      "[결과] Creepy Nuts - Otonoke\n",
      "  - 생성된 태그: ['도전', '흥분', '파워']\n",
      "  - 생성된 요약: 도전과 힘든 상황을 이겨내고 성장하는 과정을 담은 역동적이고 힘찬 노래\n",
      "-------------------------\n"
     ]
    },
    {
     "name": "stderr",
     "output_type": "stream",
     "text": [
      "\r특징 추출 중:  72%|███████▏  | 329/460 [06:17<02:25,  1.11s/it]"
     ]
    },
    {
     "name": "stdout",
     "output_type": "stream",
     "text": [
      "\n",
      "[결과] tuki. - サクラキミワタシ - SAKURA KIMI WATASHI\n",
      "  - 생성된 태그: ['이별', '회상', '사랑']\n",
      "  - 생성된 요약: 졸업식의 마지막을 맞아 이별을 앞둔 두 사람의 회상과 사랑을 담은 노래\n",
      "-------------------------\n"
     ]
    },
    {
     "name": "stderr",
     "output_type": "stream",
     "text": [
      "\r특징 추출 중:  72%|███████▏  | 330/460 [06:19<02:53,  1.34s/it]"
     ]
    },
    {
     "name": "stdout",
     "output_type": "stream",
     "text": [
      "\n",
      "[결과] Leina - utatane (선잠)\n",
      "  - 생성된 태그: ['연인', '사랑', '소망']\n",
      "  - 생성된 요약: 연인에 대한 강한 사랑과 소망을 담은 노래. 상대방에게 깊은 애정을 품고 함께하는 모습을 그리며 이어지는 소망과 갈망이 노래 속에서 느껴진다\n",
      "-------------------------\n"
     ]
    },
    {
     "name": "stderr",
     "output_type": "stream",
     "text": [
      "\r특징 추출 중:  72%|███████▏  | 331/460 [06:20<02:37,  1.22s/it]"
     ]
    },
    {
     "name": "stdout",
     "output_type": "stream",
     "text": [
      "\n",
      "[결과] Number_i - Bye 24/7\n",
      "  - 생성된 태그: ['이별', '그리움', '회상']\n",
      "  - 생성된 요약: 이별 후 그리움과 회상에 젖어있는 노래. 상처를 잊지 못하고 지난 추억을 회상하는 슬픈 분위기를 담고 있음\n",
      "-------------------------\n"
     ]
    },
    {
     "name": "stderr",
     "output_type": "stream",
     "text": [
      "\r특징 추출 중:  72%|███████▏  | 332/460 [06:21<02:28,  1.16s/it]"
     ]
    },
    {
     "name": "stdout",
     "output_type": "stream",
     "text": [
      "\n",
      "[결과] Number_i - ICE\n",
      "  - 생성된 태그: ['유혹', '욕망', '감각적']\n",
      "  - 생성된 요약: 유혹적인 분위기와 감각적인 가사로 몸과 마음을 자극하는 노래\n",
      "-------------------------\n"
     ]
    },
    {
     "name": "stderr",
     "output_type": "stream",
     "text": [
      "\r특징 추출 중:  72%|███████▏  | 333/460 [06:22<02:23,  1.13s/it]"
     ]
    },
    {
     "name": "stdout",
     "output_type": "stream",
     "text": [
      "\n",
      "[결과] Number_i - iLY\n",
      "  - 생성된 태그: ['사랑', '그리움', '이별']\n",
      "  - 생성된 요약: 서로를 그리워하고 서로에게 향한 사랑과 그리움을 담은 이별과 사랑에 대한 노래\n",
      "-------------------------\n"
     ]
    },
    {
     "name": "stderr",
     "output_type": "stream",
     "text": [
      "\r특징 추출 중:  73%|███████▎  | 334/460 [06:24<02:28,  1.18s/it]"
     ]
    },
    {
     "name": "stdout",
     "output_type": "stream",
     "text": [
      "\n",
      "[결과] Number_i - Recipe\n",
      "  - 생성된 태그: ['휴식', '즐거움', '긍정']\n",
      "  - 생성된 요약: 친구들과 함께하는 즐거운 휴일, 음악과 함께하는 행복한 순간을 즐기며 긍정적으로 삶을 받아들이는 노래\n",
      "-------------------------\n"
     ]
    },
    {
     "name": "stderr",
     "output_type": "stream",
     "text": [
      "\r특징 추출 중:  73%|███████▎  | 335/460 [06:24<02:19,  1.12s/it]"
     ]
    },
    {
     "name": "stdout",
     "output_type": "stream",
     "text": [
      "\n",
      "[결과] JO1 - WHERE DO WE GO\n",
      "  - 생성된 태그: ['자유', '도전', '긍정']\n",
      "  - 생성된 요약: 자유롭게 도전하는 자신의 길을 찾아가며, 긍정적인 에너지를 발산하는 노래\n",
      "-------------------------\n"
     ]
    },
    {
     "name": "stderr",
     "output_type": "stream",
     "text": [
      "\r특징 추출 중:  73%|███████▎  | 336/460 [06:25<02:12,  1.07s/it]"
     ]
    },
    {
     "name": "stdout",
     "output_type": "stream",
     "text": [
      "\n",
      "[결과] WayV - Go Higher\n",
      "  - 생성된 태그: ['도전', '성장', '자신감']\n",
      "  - 생성된 요약: 도전을 두려워하지 않고 자신의 꿈을 향해 달려가며 성장하고 있는 모습을 담은 자신감 넘치는 노래\n",
      "-------------------------\n"
     ]
    },
    {
     "name": "stderr",
     "output_type": "stream",
     "text": [
      "\r특징 추출 중:  73%|███████▎  | 337/460 [06:27<02:18,  1.13s/it]"
     ]
    },
    {
     "name": "stdout",
     "output_type": "stream",
     "text": [
      "\n",
      "[결과] Number_i - 透明になりたい\n",
      "  - 생성된 태그: ['사랑', '추억', '이상']\n",
      "  - 생성된 요약: 현실과 꿈 사이에서 흐릿해지는 감정을 담은 노래. 상실과 이상, 그리움이 얽힌 사랑의 추억을 표현함\n",
      "-------------------------\n"
     ]
    },
    {
     "name": "stderr",
     "output_type": "stream",
     "text": [
      "\r특징 추출 중:  73%|███████▎  | 338/460 [06:28<02:14,  1.10s/it]"
     ]
    },
    {
     "name": "stdout",
     "output_type": "stream",
     "text": [
      "\n",
      "[결과] YOASOBI - UNDEAD\n",
      "  - 생성된 태그: ['자기계발', '도전', '자아탐구']\n",
      "  - 생성된 요약: 과거의 자아와의 싸움, 현재의 자아를 극복하고 미래로 나아가는 과정을 담은 자기계발과 도전에 대한 노래\n",
      "-------------------------\n"
     ]
    },
    {
     "name": "stderr",
     "output_type": "stream",
     "text": [
      "\r특징 추출 중:  74%|███████▎  | 339/460 [06:29<02:13,  1.10s/it]"
     ]
    },
    {
     "name": "stdout",
     "output_type": "stream",
     "text": [
      "\n",
      "[결과] Number_i - INZM\n",
      "  - 생성된 태그: ['파워', '자신감', '도전']\n",
      "  - 생성된 요약: 파워풀한 가사와 자신감 넘치는 분위기로 새로운 도전을 향한 열정을 노래한 곡\n",
      "-------------------------\n"
     ]
    },
    {
     "name": "stderr",
     "output_type": "stream",
     "text": [
      "\r특징 추출 중:  74%|███████▍  | 340/460 [06:30<02:17,  1.15s/it]"
     ]
    },
    {
     "name": "stdout",
     "output_type": "stream",
     "text": [
      "\n",
      "[결과] SPYAIR(스파이에어/スパイエアー) - I'm A Believer (アイム・ア・ビリーバー) *애니메이션「하이큐!! 세컨드 시즌」오프닝 테마 곡\n",
      "  - 생성된 태그: ['도전', '긍정', '자기성찰']\n",
      "  - 생성된 요약: 자신을 돌아보고 도전하며 긍정적으로 나아가는 과정을 담은 노래. 끊임없는 성장과 자기성찰을 통해 자신을 믿는다는 메시지\n",
      "-------------------------\n"
     ]
    },
    {
     "name": "stderr",
     "output_type": "stream",
     "text": [
      "\r특징 추출 중:  74%|███████▍  | 341/460 [06:31<02:12,  1.12s/it]"
     ]
    },
    {
     "name": "stdout",
     "output_type": "stream",
     "text": [
      "\n",
      "[결과] TRT Harajuku Yankees RC(TRT 原宿ヤンキ-スRC) - 靑い珊瑚礁 (푸른 산호초)\n",
      "  - 생성된 태그: ['사랑', '낭만', '해변']\n",
      "  - 생성된 요약: 남쪽 바람을 타고 흘러가는 내 사랑은, 해변으로 향하는 파란바다 같은 사랑 노래\n",
      "-------------------------\n"
     ]
    },
    {
     "name": "stderr",
     "output_type": "stream",
     "text": [
      "\r특징 추출 중:  74%|███████▍  | 342/460 [06:32<02:05,  1.06s/it]"
     ]
    },
    {
     "name": "stdout",
     "output_type": "stream",
     "text": [
      "\n",
      "[결과] Kana-Boon - Silhouette\n",
      "  - 생성된 태그: ['춤', '회상', '성장']\n",
      "  - 생성된 요약: 시간이 흐르고 변화하는 과정을 회상하며 성장해나가는 과정을 춤으로 표현한 노래\n",
      "-------------------------\n"
     ]
    },
    {
     "name": "stderr",
     "output_type": "stream",
     "text": [
      "\r특징 추출 중:  75%|███████▍  | 343/460 [06:33<02:05,  1.07s/it]"
     ]
    },
    {
     "name": "stdout",
     "output_type": "stream",
     "text": [
      "\n",
      "[결과] Mrs. GREEN APPLE - Dance Hall\n",
      "  - 생성된 태그: ['희망', '자기계발', '사랑']\n",
      "  - 생성된 요약: 자신을 믿고 성장하며 희망을 찾아가는 과정과 사랑을 향한 진심을 담은 노래\n",
      "-------------------------\n"
     ]
    },
    {
     "name": "stderr",
     "output_type": "stream",
     "text": [
      "\r특징 추출 중:  75%|███████▍  | 344/460 [06:35<02:17,  1.19s/it]"
     ]
    },
    {
     "name": "stdout",
     "output_type": "stream",
     "text": [
      "\n",
      "[결과] Kenshi Yonezu(켄시 요네즈/米津 玄師) - Mainichi - Every Day\n",
      "  - 생성된 태그: ['고난', '감정', '일상']\n",
      "  - 생성된 요약: 일상 속에서 변화 없는 삶에 대한 절망과 고통을 노래하며, 단순히 살아가는 것에 대한 의문과 감정을 표현한 곡\n",
      "-------------------------\n"
     ]
    },
    {
     "name": "stderr",
     "output_type": "stream",
     "text": [
      "\r특징 추출 중:  75%|███████▌  | 345/460 [06:36<02:13,  1.16s/it]"
     ]
    },
    {
     "name": "stdout",
     "output_type": "stream",
     "text": [
      "\n",
      "[결과] MY FIRST STORY - MUGEN\n",
      "  - 생성된 태그: ['이별', '슬픔', '상실감']\n",
      "  - 생성된 요약: 상대를 떠나고 그를 그리워하는 깊은 상실감과 슬픔을 담은 몽환적인 노래\n",
      "-------------------------\n"
     ]
    },
    {
     "name": "stderr",
     "output_type": "stream",
     "text": [
      "\r특징 추출 중:  75%|███████▌  | 346/460 [06:37<02:10,  1.14s/it]"
     ]
    },
    {
     "name": "stdout",
     "output_type": "stream",
     "text": [
      "\n",
      "[결과] aimyon - Lucky Color\n",
      "  - 생성된 태그: ['사랑', '낙천', '소망']\n",
      "  - 생성된 요약: 사랑의 끝을 맞이하고 있지만 여전히 희망을 품고 낙천적인 마음가짐으로 사랑을 꿈꾸는 노래\n",
      "-------------------------\n"
     ]
    },
    {
     "name": "stderr",
     "output_type": "stream",
     "text": [
      "\r특징 추출 중:  75%|███████▌  | 347/460 [06:38<02:10,  1.15s/it]"
     ]
    },
    {
     "name": "stdout",
     "output_type": "stream",
     "text": [
      "\n",
      "[결과] LET ME KNOW - Ai to Highball\n",
      "  - 생성된 태그: ['사랑', '갈등', '욕망']\n",
      "  - 생성된 요약: 가짜 사랑과 욕망으로 얽힌 복잡한 갈등 속에서 사랑에 빠져들고 싶어하는 마음을 담은 노래\n",
      "-------------------------\n"
     ]
    },
    {
     "name": "stderr",
     "output_type": "stream",
     "text": [
      "\r특징 추출 중:  76%|███████▌  | 348/460 [06:39<02:19,  1.25s/it]"
     ]
    },
    {
     "name": "stdout",
     "output_type": "stream",
     "text": [
      "\n",
      "[결과] Kenshi Yonezu(켄시 요네즈/米津 玄師) - Sayonara, Mata Itsuka! - Sayonara\n",
      "  - 생성된 태그: ['사랑', '이별', '성장']\n",
      "  - 생성된 요약: 사랑과 이별, 성장에 대한 복잡한 감정을 솔직하게 그려낸 노래. 상처와 아픔을 겪으며 성장하고, 다시 만날 날을 기대하며 이별의 아픔을 극복하려는 이들의 노래\n",
      "-------------------------\n"
     ]
    },
    {
     "name": "stderr",
     "output_type": "stream",
     "text": [
      "\r특징 추출 중:  76%|███████▌  | 349/460 [06:41<02:20,  1.26s/it]"
     ]
    },
    {
     "name": "stdout",
     "output_type": "stream",
     "text": [
      "\n",
      "[결과] Mulasaki Ima - femme fatale A\n",
      "  - 생성된 태그: ['사랑', '매혹', '미스테리']\n",
      "  - 생성된 요약: 매혹적이고 미스테리한 여성의 매혹적인 매력에 사로잡힌 사랑에 대한 노래\n",
      "-------------------------\n"
     ]
    },
    {
     "name": "stderr",
     "output_type": "stream",
     "text": [
      "특징 추출 중:  76%|███████▌  | 350/460 [06:42<02:17,  1.25s/it]"
     ]
    },
    {
     "name": "stdout",
     "output_type": "stream",
     "text": [
      "\n",
      "[결과] SEKAI NO OWARI - Romantic\n",
      "  - 생성된 태그: ['환상적', '인생', '감성']\n",
      "  - 생성된 요약: 현실과 환상이 교차하는 세계에서 인생의 변화와 행복을 찾아가는 여정을 담은 노래\n",
      "-------------------------\n",
      "\n",
      "[진행 상황 저장됨: 350/460 완료]\n"
     ]
    },
    {
     "name": "stderr",
     "output_type": "stream",
     "text": [
      "\r특징 추출 중:  76%|███████▋  | 351/460 [06:43<02:10,  1.19s/it]"
     ]
    },
    {
     "name": "stdout",
     "output_type": "stream",
     "text": [
      "\n",
      "[결과] JO1 - Love seeker\n",
      "  - 생성된 태그: ['사랑', '탐험', '행복']\n",
      "  - 생성된 요약: 진정한 사랑을 찾아 떠나는 탐험과 그 과정에서 느껴지는 행복과 설레임을 담은 노래\n",
      "-------------------------\n"
     ]
    },
    {
     "name": "stderr",
     "output_type": "stream",
     "text": [
      "\r특징 추출 중:  77%|███████▋  | 352/460 [06:44<02:02,  1.14s/it]"
     ]
    },
    {
     "name": "stdout",
     "output_type": "stream",
     "text": [
      "\n",
      "[결과] aiko - 相思相愛\n",
      "  - 생성된 태그: ['이별', '사랑', '추억']\n",
      "  - 생성된 요약: 상대방과 함께한 추억을 회상하며 이별의 아픔을 담은 노래\n",
      "-------------------------\n"
     ]
    },
    {
     "name": "stderr",
     "output_type": "stream",
     "text": [
      "\r특징 추출 중:  77%|███████▋  | 353/460 [06:45<01:54,  1.07s/it]"
     ]
    },
    {
     "name": "stdout",
     "output_type": "stream",
     "text": [
      "\n",
      "[결과] Number_i - BON\n",
      "  - 생성된 태그: ['긍정적', '자신감', '도전']\n",
      "  - 생성된 요약: 자신의 가치를 믿고 도전하는 긍정적인 마음가짐을 담은 노래\n",
      "-------------------------\n"
     ]
    },
    {
     "name": "stderr",
     "output_type": "stream",
     "text": [
      "\r특징 추출 중:  77%|███████▋  | 354/460 [06:47<02:08,  1.21s/it]"
     ]
    },
    {
     "name": "stdout",
     "output_type": "stream",
     "text": [
      "\n",
      "[결과] milet - hanataba\n",
      "  - 생성된 태그: ['사랑', '이별', '우정']\n",
      "  - 생성된 요약: 서로를 이해하고 지지해주는 우정과 사랑을 다룬 노래. 상처와 변화에도 불구하고 서로를 지켜주고자 하는 결연한 다짐이 담겨 있음\n",
      "-------------------------\n"
     ]
    },
    {
     "name": "stderr",
     "output_type": "stream",
     "text": [
      "\r특징 추출 중:  77%|███████▋  | 355/460 [06:47<01:55,  1.10s/it]"
     ]
    },
    {
     "name": "stdout",
     "output_type": "stream",
     "text": [
      "\n",
      "[결과] Da-iCE - I wonder\n",
      "  - 생성된 태그: ['사랑', '추억', '미래']\n",
      "  - 생성된 요약: 과거의 추억과 사랑을 되새기며 미래를 향한 미지의 길을 걸어가는 과정을 담은 노래\n",
      "-------------------------\n"
     ]
    },
    {
     "name": "stderr",
     "output_type": "stream",
     "text": [
      "\r특징 추출 중:  77%|███████▋  | 356/460 [06:49<01:56,  1.12s/it]"
     ]
    },
    {
     "name": "stdout",
     "output_type": "stream",
     "text": [
      "\n",
      "[결과] NewJeans - Supernatural\n",
      "  - 생성된 태그: ['사랑', '기적', '운명']\n",
      "  - 생성된 요약: 서로를 향한 사랑이 운명적이고 기적적인 순간을 노래한 곡. 우리의 인연이 깊어지고 있는데, 우리가 했던 일들의 의미를 깨닫고자 하는 노래\n",
      "-------------------------\n"
     ]
    },
    {
     "name": "stderr",
     "output_type": "stream",
     "text": [
      "\r특징 추출 중:  78%|███████▊  | 357/460 [06:50<01:55,  1.12s/it]"
     ]
    },
    {
     "name": "stdout",
     "output_type": "stream",
     "text": [
      "\n",
      "[결과] IS:SUE - CONNECT\n",
      "  - 생성된 태그: ['도전', '희망', '우정']\n",
      "  - 생성된 요약: 힘든 상황에서도 희망을 잃지 않고 도전하며 우정과 성장을 향한 이야기를 담은 노래\n",
      "-------------------------\n"
     ]
    },
    {
     "name": "stderr",
     "output_type": "stream",
     "text": [
      "\r특징 추출 중:  78%|███████▊  | 358/460 [06:51<01:56,  1.15s/it]"
     ]
    },
    {
     "name": "stdout",
     "output_type": "stream",
     "text": [
      "\n",
      "[결과] Ozaki Yutaka(尾崎豊/오자키 유타카) - I Love You\n",
      "  - 생성된 태그: ['사랑', '이별', '슬픔']\n",
      "  - 생성된 요약: 서로를 사랑하면서도 이별과 슬픔을 겪는 노래. 서로를 이해하고 위로하며 함께하는 사랑의 노래\n",
      "-------------------------\n"
     ]
    },
    {
     "name": "stderr",
     "output_type": "stream",
     "text": [
      "\r특징 추출 중:  78%|███████▊  | 359/460 [06:52<01:58,  1.18s/it]"
     ]
    },
    {
     "name": "stdout",
     "output_type": "stream",
     "text": [
      "\n",
      "[결과] OFFICIAL HIGE DANDISM - SOULSOUP\n",
      "  - 생성된 태그: ['도전', '희생', '인내']\n",
      "  - 생성된 요약: 고난과 역경을 이겨내며 자신을 다시 찾아가고자 하는 강인한 의지와 희생을 감수하며 끊임없이 노력하는 인내력을 노래한 곡\n",
      "-------------------------\n"
     ]
    },
    {
     "name": "stderr",
     "output_type": "stream",
     "text": [
      "\r특징 추출 중:  78%|███████▊  | 360/460 [06:53<02:02,  1.22s/it]"
     ]
    },
    {
     "name": "stdout",
     "output_type": "stream",
     "text": [
      "\n",
      "[결과] tuki. - 晩餐歌 (弾き語りver) - Bansanka (Acoustic ver)\n",
      "  - 생성된 태그: ['이별', '사랑', '아픔']\n",
      "  - 생성된 요약: 상대를 상처 주면서도 잊지 못하고 그리워하는 아픈 마음을 담은 이별과 사랑에 대한 노래\n",
      "-------------------------\n"
     ]
    },
    {
     "name": "stderr",
     "output_type": "stream",
     "text": [
      "\r특징 추출 중:  78%|███████▊  | 361/460 [06:55<01:55,  1.17s/it]"
     ]
    },
    {
     "name": "stdout",
     "output_type": "stream",
     "text": [
      "\n",
      "[결과] Yorushika - Sunny\n",
      "  - 생성된 태그: ['사랑', '희망', '우정']\n",
      "  - 생성된 요약: 상대방을 사랑하고 그를 향한 그리움과 희망을 담은 따뜻한 노래\n",
      "-------------------------\n"
     ]
    },
    {
     "name": "stderr",
     "output_type": "stream",
     "text": [
      "\r특징 추출 중:  79%|███████▊  | 362/460 [06:56<01:54,  1.16s/it]"
     ]
    },
    {
     "name": "stdout",
     "output_type": "stream",
     "text": [
      "\n",
      "[결과] &TEAM - Really Crazy\n",
      "  - 생성된 태그: ['행복', '사랑', '긍정']\n",
      "  - 생성된 요약: 긍정적인 마음가짐으로 사랑과 행복을 노래한 J-POP 곡. 함께하는 순간을 소중히 여기며 행복을 느끼는 노래\n",
      "-------------------------\n"
     ]
    },
    {
     "name": "stderr",
     "output_type": "stream",
     "text": [
      "\r특징 추출 중:  79%|███████▉  | 363/460 [06:57<01:54,  1.18s/it]"
     ]
    },
    {
     "name": "stdout",
     "output_type": "stream",
     "text": [
      "\n",
      "[결과] SPYAIR(스파이에어/スパイエアー) - Little Summer\n",
      "  - 생성된 태그: ['사랑', '회상', '행복']\n",
      "  - 생성된 요약: 사랑하는 이와 함께하는 행복한 순간을 회상하며, 그 사랑에 대한 감사와 행복을 노래한 곡\n",
      "-------------------------\n"
     ]
    },
    {
     "name": "stderr",
     "output_type": "stream",
     "text": [
      "\r특징 추출 중:  79%|███████▉  | 364/460 [06:58<01:55,  1.21s/it]"
     ]
    },
    {
     "name": "stdout",
     "output_type": "stream",
     "text": [
      "\n",
      "[결과] Yorushika - Miyakoochi\n",
      "  - 생성된 태그: ['이별', '그리움', '회상']\n",
      "  - 생성된 요약: 이별과 그리움을 담은 회상적인 노래. 상처와 그리움을 이겨내며 새로운 시작을 향해 나아가는 노래\n",
      "-------------------------\n"
     ]
    },
    {
     "name": "stderr",
     "output_type": "stream",
     "text": [
      "\r특징 추출 중:  79%|███████▉  | 365/460 [06:59<01:47,  1.13s/it]"
     ]
    },
    {
     "name": "stdout",
     "output_type": "stream",
     "text": [
      "\n",
      "[결과] Fujii Kaze - Hana\n",
      "  - 생성된 태그: ['자아탐구', '성장', '자신감']\n",
      "  - 생성된 요약: 자아를 탐구하고 내면의 아름다움을 발견하며 성장해 나가는 과정을 담은 노래\n",
      "-------------------------\n"
     ]
    },
    {
     "name": "stderr",
     "output_type": "stream",
     "text": [
      "\r특징 추출 중:  80%|███████▉  | 366/460 [07:00<01:44,  1.11s/it]"
     ]
    },
    {
     "name": "stdout",
     "output_type": "stream",
     "text": [
      "\n",
      "[결과] Eve - Kaikai Kitan (애니메이션 '주술회전' 1기 오프닝곡)\n",
      "  - 생성된 태그: ['고난', '도전', '인내']\n",
      "  - 생성된 요약: 자아를 찾아가는 과정에서의 고통과 도전, 인내를 표현한 노래\n",
      "-------------------------\n"
     ]
    },
    {
     "name": "stderr",
     "output_type": "stream",
     "text": [
      "\r특징 추출 중:  80%|███████▉  | 367/460 [07:01<01:39,  1.07s/it]"
     ]
    },
    {
     "name": "stdout",
     "output_type": "stream",
     "text": [
      "\n",
      "[결과] SPYAIR(스파이에어/スパイエアー) - Sakuramitsutsuki\n",
      "  - 생성된 태그: ['회상', '이별', '사랑']\n",
      "  - 생성된 요약: 과거를 회상하며 이별과 사랑에 대한 감정을 담은 노래\n",
      "-------------------------\n"
     ]
    },
    {
     "name": "stderr",
     "output_type": "stream",
     "text": [
      "\r특징 추출 중:  80%|████████  | 368/460 [07:02<01:41,  1.10s/it]"
     ]
    },
    {
     "name": "stdout",
     "output_type": "stream",
     "text": [
      "\n",
      "[결과] SPYAIR(스파이에어/スパイエアー) - Orange\n",
      "  - 생성된 태그: ['이별', '회상', '희망']\n",
      "  - 생성된 요약: 이별의 아픔과 회상 속에서 피어나는 희망과 감사의 마음을 담은 노래\n",
      "-------------------------\n"
     ]
    },
    {
     "name": "stderr",
     "output_type": "stream",
     "text": [
      "\r특징 추출 중:  80%|████████  | 369/460 [07:04<01:43,  1.14s/it]"
     ]
    },
    {
     "name": "stdout",
     "output_type": "stream",
     "text": [
      "\n",
      "[결과] Novelbright - Aitoka Koitoka\n",
      "  - 생성된 태그: ['사랑', '이별', '추억']\n",
      "  - 생성된 요약: 이별을 맞이하며 끝없는 사랑을 표현한 노래. 상실감과 추억이 가득한 가사 속에서 사랑하는 이에 대한 강한 아픔과 그리움이 묻어남\n",
      "-------------------------\n"
     ]
    },
    {
     "name": "stderr",
     "output_type": "stream",
     "text": [
      "\r특징 추출 중:  80%|████████  | 370/460 [07:05<01:41,  1.13s/it]"
     ]
    },
    {
     "name": "stdout",
     "output_type": "stream",
     "text": [
      "\n",
      "[결과] Vaundy - Tokyo Flash\n",
      "  - 생성된 태그: ['사랑', '고백', '도시']\n",
      "  - 생성된 요약: 사랑하는 상대를 떠올리며 도시의 환희와 아픔을 노래한 곡. 상대에 대한 사랑과 고백, 함께하는 순간을 소중히 여기는 내용이 담겨 있음\n",
      "-------------------------\n"
     ]
    },
    {
     "name": "stderr",
     "output_type": "stream",
     "text": [
      "\r특징 추출 중:  81%|████████  | 371/460 [07:06<01:45,  1.19s/it]"
     ]
    },
    {
     "name": "stdout",
     "output_type": "stream",
     "text": [
      "\n",
      "[결과] imase - Shine Out\n",
      "  - 생성된 태그: ['희망', '도전', '긍정']\n",
      "  - 생성된 요약: 희망찬 미래를 향해 달려가는 도전과 긍정적인 마음가짐을 담은 노래\n",
      "-------------------------\n"
     ]
    },
    {
     "name": "stderr",
     "output_type": "stream",
     "text": [
      "\r특징 추출 중:  81%|████████  | 372/460 [07:07<01:41,  1.15s/it]"
     ]
    },
    {
     "name": "stdout",
     "output_type": "stream",
     "text": [
      "\n",
      "[결과] Omoinotake(오모이노타케) - Ikuokukonen\n",
      "  - 생성된 태그: ['사랑', '기억', '희망']\n",
      "  - 생성된 요약: 서로를 잃어버린 사랑하는 이에 대한 그리움과 희망을 담은 노래\n",
      "-------------------------\n"
     ]
    },
    {
     "name": "stderr",
     "output_type": "stream",
     "text": [
      "\r특징 추출 중:  81%|████████  | 373/460 [07:08<01:44,  1.20s/it]"
     ]
    },
    {
     "name": "stdout",
     "output_type": "stream",
     "text": [
      "\n",
      "[결과] Number_i - FUJI\n",
      "  - 생성된 태그: ['자유로움', '긍정적', '파워']\n",
      "  - 생성된 요약: 자유롭고 긍정적인 에너지를 담은 노래. 자신을 믿고 꿈을 향해 나아가는 모험적인 노래\n",
      "-------------------------\n"
     ]
    },
    {
     "name": "stderr",
     "output_type": "stream",
     "text": [
      "\r특징 추출 중:  81%|████████▏ | 374/460 [07:10<01:43,  1.20s/it]"
     ]
    },
    {
     "name": "stdout",
     "output_type": "stream",
     "text": [
      "\n",
      "[결과] RADWIMPS - 正解\n",
      "  - 생성된 태그: ['청춘', '우정', '성장']\n",
      "  - 생성된 요약: 청춘의 아름다움과 우정의 소중함을 담은 노래. 서로를 이해하고 격려하는 과정을 통해 성장하는 모습을 그리고 있음\n",
      "-------------------------\n"
     ]
    },
    {
     "name": "stderr",
     "output_type": "stream",
     "text": [
      "\r특징 추출 중:  82%|████████▏ | 375/460 [07:11<01:43,  1.22s/it]"
     ]
    },
    {
     "name": "stdout",
     "output_type": "stream",
     "text": [
      "\n",
      "[결과] Number_i - GOAT\n",
      "  - 생성된 태그: ['자신감', '도전', '창의성']\n",
      "  - 생성된 요약: 자신의 창의성과 도전정신을 믿고 새로운 세계를 열어가는 과정을 담은 노래\n",
      "-------------------------\n"
     ]
    },
    {
     "name": "stderr",
     "output_type": "stream",
     "text": [
      "\r특징 추출 중:  82%|████████▏ | 376/460 [07:12<01:39,  1.19s/it]"
     ]
    },
    {
     "name": "stdout",
     "output_type": "stream",
     "text": [
      "\n",
      "[결과] NiziU - SWEET NONFICTION\n",
      "  - 생성된 태그: ['사랑', '도전', '성장']\n",
      "  - 생성된 요약: 사랑에 대한 도전과 성장을 담은 노래. 현실적이고 진짜 같은 사랑의 감정을 다루며, 어려움을 극복하고 함께 성장해 나가는 노래\n",
      "-------------------------\n"
     ]
    },
    {
     "name": "stderr",
     "output_type": "stream",
     "text": [
      "\r특징 추출 중:  82%|████████▏ | 377/460 [07:13<01:41,  1.23s/it]"
     ]
    },
    {
     "name": "stdout",
     "output_type": "stream",
     "text": [
      "\n",
      "[결과] to HEROes - Be on Your side\n",
      "  - 생성된 태그: ['사랑', '지지', '희망']\n",
      "  - 생성된 요약: 상대방을 지지하고 사랑하는 마음을 담은 노래. 힘든 시간에도 언제나 함께하고자 하는 희망과 지지의 메시지를 전달\n",
      "-------------------------\n"
     ]
    },
    {
     "name": "stderr",
     "output_type": "stream",
     "text": [
      "\r특징 추출 중:  82%|████████▏ | 378/460 [07:14<01:41,  1.24s/it]"
     ]
    },
    {
     "name": "stdout",
     "output_type": "stream",
     "text": [
      "\n",
      "[결과] Creepy Nuts - Bling-Bang-Bang-Born\n",
      "  - 생성된 태그: ['자신감', '도전', '자랑']\n",
      "  - 생성된 요약: 자신의 능력과 성장을 자랑스럽게 노래하며, 도전과 자신감에 대한 이야기를 담은 곡\n",
      "-------------------------\n"
     ]
    },
    {
     "name": "stderr",
     "output_type": "stream",
     "text": [
      "\r특징 추출 중:  82%|████████▏ | 379/460 [07:16<01:39,  1.23s/it]"
     ]
    },
    {
     "name": "stdout",
     "output_type": "stream",
     "text": [
      "\n",
      "[결과] Kenshi Yonezu(켄시 요네즈/米津 玄師) - Orion\n",
      "  - 생성된 태그: ['사랑', '추억', '감사']\n",
      "  - 생성된 요약: 상대방을 사랑하고 그에게 감사함을 표현하는 노래. 서로를 별과 같이 연결하고 싶어하는 진심이 담긴 노래\n",
      "-------------------------\n"
     ]
    },
    {
     "name": "stderr",
     "output_type": "stream",
     "text": [
      "\r특징 추출 중:  83%|████████▎ | 380/460 [07:17<01:36,  1.20s/it]"
     ]
    },
    {
     "name": "stdout",
     "output_type": "stream",
     "text": [
      "\n",
      "[결과] Lisa Ono(리사 오노/小野リサ) - Caroling Caroling\n",
      "  - 생성된 태그: ['크리스마스', '카롤', '행복']\n",
      "  - 생성된 요약: 크리스마스 분위기 속에서 함께 노래하며 행복한 기쁨을 전하는 카롤 노래\n",
      "-------------------------\n"
     ]
    },
    {
     "name": "stderr",
     "output_type": "stream",
     "text": [
      "\r특징 추출 중:  83%|████████▎ | 381/460 [07:18<01:29,  1.13s/it]"
     ]
    },
    {
     "name": "stdout",
     "output_type": "stream",
     "text": [
      "\n",
      "[결과] &TEAM - Dropkick\n",
      "  - 생성된 태그: ['우정', '지지', '희망']\n",
      "  - 생성된 요약: 강한 우정과 서로를 지지하는 마음, 함께하는 것으로부터 얻는 희망을 담은 노래\n",
      "-------------------------\n"
     ]
    },
    {
     "name": "stderr",
     "output_type": "stream",
     "text": [
      "\r특징 추출 중:  83%|████████▎ | 382/460 [07:19<01:23,  1.07s/it]"
     ]
    },
    {
     "name": "stdout",
     "output_type": "stream",
     "text": [
      "\n",
      "[결과] Hiroyuki Sawano(사와노 히로유키/澤野弘之) - Call Of Silence\n",
      "  - 생성된 태그: ['우정', '독립', '자신감']\n",
      "  - 생성된 요약: 사랑하는 이에게 용기를 주고 독립하며 자신감을 갖도록 격려하는 노래\n",
      "-------------------------\n"
     ]
    },
    {
     "name": "stderr",
     "output_type": "stream",
     "text": [
      "\r특징 추출 중:  83%|████████▎ | 383/460 [07:20<01:29,  1.16s/it]"
     ]
    },
    {
     "name": "stdout",
     "output_type": "stream",
     "text": [
      "\n",
      "[결과] YOASOBI - HEART BEAT\n",
      "  - 생성된 태그: ['사랑', '성장', '자기계발']\n",
      "  - 생성된 요약: 자신을 발견하고 자아를 찾아가는 과정에서 사랑과 성장을 노래한 곡. 과거의 실수와 미래에 대한 고민을 극복하며 자신만의 길을 찾아가는 노래\n",
      "-------------------------\n"
     ]
    },
    {
     "name": "stderr",
     "output_type": "stream",
     "text": [
      "\r특징 추출 중:  83%|████████▎ | 384/460 [07:21<01:27,  1.16s/it]"
     ]
    },
    {
     "name": "stdout",
     "output_type": "stream",
     "text": [
      "\n",
      "[결과] Otoda Masanori - fake face dance music\n",
      "  - 생성된 태그: ['사랑', '추억', '회상']\n",
      "  - 생성된 요약: 헤어진 사람에 대한 그리움과 아픔, 사랑과 상실을 다룬 노래. 회상과 추억 속에서 빠져들며 미련스러운 감정을 노래하는 곡\n",
      "-------------------------\n"
     ]
    },
    {
     "name": "stderr",
     "output_type": "stream",
     "text": [
      "\r특징 추출 중:  84%|████████▎ | 385/460 [07:22<01:25,  1.14s/it]"
     ]
    },
    {
     "name": "stdout",
     "output_type": "stream",
     "text": [
      "\n",
      "[결과] Hitsujibungaku(히츠지분가쿠) - more than words\n",
      "  - 생성된 태그: ['자기애', '도전', '자기성찰']\n",
      "  - 생성된 요약: 자신을 사랑하고 도전하는 마음을 담은 노래. 자기성찰과 자아애를 통해 더 나은 내일을 향해 나아가는 노래\n",
      "-------------------------\n"
     ]
    },
    {
     "name": "stderr",
     "output_type": "stream",
     "text": [
      "\r특징 추출 중:  84%|████████▍ | 386/460 [07:23<01:23,  1.12s/it]"
     ]
    },
    {
     "name": "stdout",
     "output_type": "stream",
     "text": [
      "\n",
      "[결과] Vaundy - odoriko\n",
      "  - 생성된 태그: ['사랑', '회상', '평화']\n",
      "  - 생성된 요약: 한 때 함께 했던 사랑하는 이와의 추억을 회상하며 변하지 않는 사랑에 대한 노래\n",
      "-------------------------\n"
     ]
    },
    {
     "name": "stderr",
     "output_type": "stream",
     "text": [
      "\r특징 추출 중:  84%|████████▍ | 387/460 [07:24<01:18,  1.08s/it]"
     ]
    },
    {
     "name": "stdout",
     "output_type": "stream",
     "text": [
      "\n",
      "[결과] Ado - Show\n",
      "  - 생성된 태그: ['파티', '활기', '자유로움']\n",
      "  - 생성된 요약: 파티 분위기를 상상케 하는 활기찬 가사로, 자유로움과 즐거움을 담은 노래\n",
      "-------------------------\n"
     ]
    },
    {
     "name": "stderr",
     "output_type": "stream",
     "text": [
      "\r특징 추출 중:  84%|████████▍ | 388/460 [07:25<01:17,  1.07s/it]"
     ]
    },
    {
     "name": "stdout",
     "output_type": "stream",
     "text": [
      "\n",
      "[결과] Ai Tomioka(토미오카 아이/冨岡 愛) - グッバイバイ / Good bye-bye\n",
      "  - 생성된 태그: ['사랑', '이별', '갈등']\n",
      "  - 생성된 요약: 서로를 사랑하지만 갈등과 이별을 겪으면서 마음의 솔직한 감정을 표현한 노래\n",
      "-------------------------\n"
     ]
    },
    {
     "name": "stderr",
     "output_type": "stream",
     "text": [
      "\r특징 추출 중:  85%|████████▍ | 389/460 [07:26<01:10,  1.01it/s]"
     ]
    },
    {
     "name": "stdout",
     "output_type": "stream",
     "text": [
      "\n",
      "[결과] YOASOBI - Biri-Biri\n",
      "  - 생성된 태그: ['사랑', '희망', '도전']\n",
      "  - 생성된 요약: 새로운 만남과 보물을 찾아가며 함께 성장해나가는 사랑과 도전에 대한 열정적인 노래\n",
      "-------------------------\n"
     ]
    },
    {
     "name": "stderr",
     "output_type": "stream",
     "text": [
      "\r특징 추출 중:  85%|████████▍ | 390/460 [07:27<01:05,  1.06it/s]"
     ]
    },
    {
     "name": "stdout",
     "output_type": "stream",
     "text": [
      "\n",
      "[결과] BUMP OF CHICKEN - Sleep Walking Orchestra\n",
      "  - 생성된 태그: ['꿈', '마음의여정', '도전']\n",
      "  - 생성된 요약: 꿈과 현실, 마음의 여정을 담은 노래. 과거의 상실과 현재의 혼란 속에서도 삶을 이어나가는 용기와 희망을 담은 곡\n",
      "-------------------------\n"
     ]
    },
    {
     "name": "stderr",
     "output_type": "stream",
     "text": [
      "\r특징 추출 중:  85%|████████▌ | 391/460 [07:28<01:04,  1.07it/s]"
     ]
    },
    {
     "name": "stdout",
     "output_type": "stream",
     "text": [
      "\n",
      "[결과] PRODUCE 101 JAPAN THE GIRLS - FLY UP SO HIGH\n",
      "  - 생성된 태그: ['희망', '긍정', '사랑']\n",
      "  - 생성된 요약: 희망과 긍정을 담은 사랑 노래. 상처를 극복하고 앞으로 나아가는 용기를 심어주며, 서로를 지지하고 사랑하는 마음을 전하는 곡\n",
      "-------------------------\n"
     ]
    },
    {
     "name": "stderr",
     "output_type": "stream",
     "text": [
      "\r특징 추출 중:  85%|████████▌ | 392/460 [07:30<01:20,  1.18s/it]"
     ]
    },
    {
     "name": "stdout",
     "output_type": "stream",
     "text": [
      "\n",
      "[결과] PRODUCE 101 JAPAN THE GIRLS - LEAP HIGH! 〜明日へ、めいっぱい〜\n",
      "  - 생성된 태그: ['희망', '도전', '성공']\n",
      "  - 생성된 요약: 희망과 도전을 향한 열정으로 가득한 노래. 꿈을 향해 달려가며 성공을 향한 열망이 담긴 노래\n",
      "-------------------------\n"
     ]
    },
    {
     "name": "stderr",
     "output_type": "stream",
     "text": [
      "\r특징 추출 중:  85%|████████▌ | 393/460 [07:31<01:10,  1.05s/it]"
     ]
    },
    {
     "name": "stdout",
     "output_type": "stream",
     "text": [
      "\n",
      "[결과] トキメッキー - AtoZ\n",
      "  - 생성된 태그: ['사랑', '행복', '추억']\n",
      "  - 생성된 요약: 사랑하는 이와 함께한 소중한 순간을 회상하며 행복과 추억을 노래한 곡\n",
      "-------------------------\n"
     ]
    },
    {
     "name": "stderr",
     "output_type": "stream",
     "text": [
      "\r특징 추출 중:  86%|████████▌ | 394/460 [07:32<01:14,  1.13s/it]"
     ]
    },
    {
     "name": "stdout",
     "output_type": "stream",
     "text": [
      "\n",
      "[결과] PRODUCE 101 JAPAN THE GIRLS - CHOPPY CHOPPY\n",
      "  - 생성된 태그: ['모험', '용기', '긍정적']\n",
      "  - 생성된 요약: 모험을 향한 용기와 긍정적인 마음으로 미지의 세계를 탐험하는 과정을 담은 노래\n",
      "-------------------------\n"
     ]
    },
    {
     "name": "stderr",
     "output_type": "stream",
     "text": [
      "\r특징 추출 중:  86%|████████▌ | 395/460 [07:34<01:26,  1.34s/it]"
     ]
    },
    {
     "name": "stdout",
     "output_type": "stream",
     "text": [
      "\n",
      "[결과] PRODUCE 101 JAPAN THE GIRLS - 想像以上\n",
      "  - 생성된 태그: ['꿈', '희망', '팝']\n",
      "  - 생성된 요약: 꿈을 향한 희망과 열정을 담은 팝 음악. 빛나는 무대와 함께하는 우토피아를 상상하며 꿈을 이루어가는 노래\n",
      "-------------------------\n"
     ]
    },
    {
     "name": "stderr",
     "output_type": "stream",
     "text": [
      "\r특징 추출 중:  86%|████████▌ | 396/460 [07:35<01:17,  1.22s/it]"
     ]
    },
    {
     "name": "stdout",
     "output_type": "stream",
     "text": [
      "\n",
      "[결과] NEXZ - Miracle\n",
      "  - 생성된 태그: ['기적', '사랑', '행복']\n",
      "  - 생성된 요약: 서로를 기적으로 여기며 사랑하고 행복을 누리는 노래\n",
      "-------------------------\n"
     ]
    },
    {
     "name": "stderr",
     "output_type": "stream",
     "text": [
      "\r특징 추출 중:  86%|████████▋ | 397/460 [07:36<01:13,  1.17s/it]"
     ]
    },
    {
     "name": "stdout",
     "output_type": "stream",
     "text": [
      "\n",
      "[결과] NALALA - &ME\n",
      "  - 생성된 태그: ['희망', '자유', '도약']\n",
      "  - 생성된 요약: 자유롭고 희망적인 마음으로 더 높은 곳을 향해 도약하고자 하는 열망을 담은 노래\n",
      "-------------------------\n"
     ]
    },
    {
     "name": "stderr",
     "output_type": "stream",
     "text": [
      "\r특징 추출 중:  87%|████████▋ | 398/460 [07:37<01:12,  1.16s/it]"
     ]
    },
    {
     "name": "stdout",
     "output_type": "stream",
     "text": [
      "\n",
      "[결과] YOASOBI - 勇者\n",
      "  - 생성된 태그: ['모험', '우정', '추억']\n",
      "  - 생성된 요약: 고난과 역경을 이겨내고 모험가로 성장한 주인공의 이야기를 담은 노래. 이별과 상실에도 불구하고 우정과 추억을 소중히 여기며 새로운 시작을 향해 나아가는 노래\n",
      "-------------------------\n"
     ]
    },
    {
     "name": "stderr",
     "output_type": "stream",
     "text": [
      "\r특징 추출 중:  87%|████████▋ | 399/460 [07:38<01:08,  1.13s/it]"
     ]
    },
    {
     "name": "stdout",
     "output_type": "stream",
     "text": [
      "\n",
      "[결과] ≠ME - アンチコンフィチュール\n",
      "  - 생성된 태그: ['자아성찰', '자기계발', '자기인식']\n",
      "  - 생성된 요약: 자기 자신을 인식하고 성장하며, 과거의 자아를 버리고 미래를 향해 나아가는 과정을 담은 노래\n",
      "-------------------------\n"
     ]
    },
    {
     "name": "stderr",
     "output_type": "stream",
     "text": [
      "특징 추출 중:  87%|████████▋ | 400/460 [07:39<01:14,  1.24s/it]"
     ]
    },
    {
     "name": "stdout",
     "output_type": "stream",
     "text": [
      "\n",
      "[결과] MAISONdes - Show Me Your Phone (feat. Hashimero, maeshima soshi)\n",
      "  - 생성된 태그: ['도시', '사랑', '혼란']\n",
      "  - 생성된 요약: 도시의 붐비는 거리에서 사랑의 혼란과 갈등을 겪는 이별을 맞이하는 상처와 아픔을 담은 노래\n",
      "-------------------------\n",
      "\n",
      "[진행 상황 저장됨: 400/460 완료]\n"
     ]
    },
    {
     "name": "stderr",
     "output_type": "stream",
     "text": [
      "\r특징 추출 중:  87%|████████▋ | 401/460 [07:41<01:15,  1.27s/it]"
     ]
    },
    {
     "name": "stdout",
     "output_type": "stream",
     "text": [
      "\n",
      "[결과] Vaundy - Kaiju no Hanauta\n",
      "  - 생성된 태그: ['회상', '그리움', '음악']\n",
      "  - 생성된 요약: 과거를 회상하며 그리움에 젖어들고, 음악을 통해 상대에 대한 그리움을 표현한 노래\n",
      "-------------------------\n"
     ]
    },
    {
     "name": "stderr",
     "output_type": "stream",
     "text": [
      "\r특징 추출 중:  87%|████████▋ | 402/460 [07:42<01:10,  1.21s/it]"
     ]
    },
    {
     "name": "stdout",
     "output_type": "stream",
     "text": [
      "\n",
      "[결과] Soushi Sakiyama - Akari\n",
      "  - 생성된 태그: ['이별', '고독', '자아탐구']\n",
      "  - 생성된 요약: 상대에게 소중한 마음을 전하지 못하고 고독과 상실감에 시달리는 이별의 아픔을 담은 노래\n",
      "-------------------------\n"
     ]
    },
    {
     "name": "stderr",
     "output_type": "stream",
     "text": [
      "\r특징 추출 중:  88%|████████▊ | 403/460 [07:43<01:07,  1.19s/it]"
     ]
    },
    {
     "name": "stdout",
     "output_type": "stream",
     "text": [
      "\n",
      "[결과] aimyon - NOT OK\n",
      "  - 생성된 태그: ['이별', '고독', '사랑']\n",
      "  - 생성된 요약: 이별과 고독 속에서 사랑의 아픔을 노래하며, 상대를 잊지 못하고 고단한 일상을 보내는 내용을 담은 노래\n",
      "-------------------------\n"
     ]
    },
    {
     "name": "stderr",
     "output_type": "stream",
     "text": [
      "\r특징 추출 중:  88%|████████▊ | 404/460 [07:44<01:05,  1.17s/it]"
     ]
    },
    {
     "name": "stdout",
     "output_type": "stream",
     "text": [
      "\n",
      "[결과] eill - Finale. * 애니메이션 [여름을 향한 터널, 이별의 출구] 주제가\n",
      "  - 생성된 태그: ['사랑', '행복', '추억']\n",
      "  - 생성된 요약: 서로를 사랑하며 이별을 두려워하는 감정을 담은 노래. 함께한 순간들을 소중히 여기며 끝없는 행복을 꿈꾸는 이들의 노래\n",
      "-------------------------\n"
     ]
    },
    {
     "name": "stderr",
     "output_type": "stream",
     "text": [
      "\r특징 추출 중:  88%|████████▊ | 405/460 [07:45<00:59,  1.09s/it]"
     ]
    },
    {
     "name": "stdout",
     "output_type": "stream",
     "text": [
      "\n",
      "[결과] Kenshi Yonezu(켄시 요네즈/米津 玄師) - Chikyugi - Spinning Globe\n",
      "  - 생성된 태그: ['회상', '그리움', '희망']\n",
      "  - 생성된 요약: 과거를 회상하며 그리움을 담은 노래. 힘든 상황을 극복하고 향한 미래에 대한 희망을 담고 있음\n",
      "-------------------------\n"
     ]
    },
    {
     "name": "stderr",
     "output_type": "stream",
     "text": [
      "\r특징 추출 중:  88%|████████▊ | 406/460 [07:46<00:57,  1.06s/it]"
     ]
    },
    {
     "name": "stdout",
     "output_type": "stream",
     "text": [
      "\n",
      "[결과] King Gnu(킹 누) - SPECIALZ\n",
      "  - 생성된 태그: ['사랑', '열정', '도전']\n",
      "  - 생성된 요약: 강렬한 사랑과 열정으로 가득한 노래. 상대방을 향한 열정과 도전을 표현하며 특별함을 강조함\n",
      "-------------------------\n"
     ]
    },
    {
     "name": "stderr",
     "output_type": "stream",
     "text": [
      "\r특징 추출 중:  88%|████████▊ | 407/460 [07:47<00:53,  1.01s/it]"
     ]
    },
    {
     "name": "stdout",
     "output_type": "stream",
     "text": [
      "\n",
      "[결과] Official髭男dism - Chessboard\n",
      "  - 생성된 태그: ['인생', '성장', '우정']\n",
      "  - 생성된 요약: 인생의 여정을 체스보드에 비유하여, 성장과 우정, 그리고 과거와 미래에 대한 생각을 담은 노래\n",
      "-------------------------\n"
     ]
    },
    {
     "name": "stderr",
     "output_type": "stream",
     "text": [
      "\r특징 추출 중:  89%|████████▊ | 408/460 [07:48<00:55,  1.07s/it]"
     ]
    },
    {
     "name": "stdout",
     "output_type": "stream",
     "text": [
      "\n",
      "[결과] JO1 - Venus\n",
      "  - 생성된 태그: ['사랑', '희망', '신뢰']\n",
      "  - 생성된 요약: 사랑하는 이에 대한 믿음과 희망을 담은 노래. 상대방과 함께하는 모든 순간이 밝고 행복한 별처럼 빛나는 상상 속의 Venus와 같다는 노래\n",
      "-------------------------\n"
     ]
    },
    {
     "name": "stderr",
     "output_type": "stream",
     "text": [
      "\r특징 추출 중:  89%|████████▉ | 409/460 [07:49<00:56,  1.11s/it]"
     ]
    },
    {
     "name": "stdout",
     "output_type": "stream",
     "text": [
      "\n",
      "[결과] Official髭男dism - 日常\n",
      "  - 생성된 태그: ['일상', '고민', '자기계발']\n",
      "  - 생성된 요약: 일상의 소소한 고민과 자기계발에 대한 노래. 변함없는 일상에 대한 갈증과 자기 성장을 위한 노력을 담고 있음\n",
      "-------------------------\n"
     ]
    },
    {
     "name": "stderr",
     "output_type": "stream",
     "text": [
      "\r특징 추출 중:  89%|████████▉ | 410/460 [07:50<00:50,  1.00s/it]"
     ]
    },
    {
     "name": "stdout",
     "output_type": "stream",
     "text": [
      "\n",
      "[결과] Kenshi Yonezu(켄시 요네즈/米津 玄師) - Hien\n",
      "  - 생성된 태그: ['희망', '도전', '성장']\n",
      "  - 생성된 요약: 고난과 시련을 이겨내며 희망을 향해 도전하는 용기와 성장을 다룬 노래\n",
      "-------------------------\n"
     ]
    },
    {
     "name": "stderr",
     "output_type": "stream",
     "text": [
      "\r특징 추출 중:  89%|████████▉ | 411/460 [07:51<00:50,  1.04s/it]"
     ]
    },
    {
     "name": "stdout",
     "output_type": "stream",
     "text": [
      "\n",
      "[결과] Spitz(스피츠/スピッツ) - Beautiful Fin\n",
      "  - 생성된 태그: ['도전', '성장', '자기 성찰']\n",
      "  - 생성된 요약: 고난과 역경을 극복하며 자아를 찾아가고 성장해나가는 과정을 담은 노래\n",
      "-------------------------\n"
     ]
    },
    {
     "name": "stderr",
     "output_type": "stream",
     "text": [
      "\r특징 추출 중:  90%|████████▉ | 412/460 [07:52<00:55,  1.15s/it]"
     ]
    },
    {
     "name": "stdout",
     "output_type": "stream",
     "text": [
      "\n",
      "[결과] Kenshi Yonezu(켄시 요네즈/米津 玄師) - Tsuki Wo Miteita - Moongazing\n",
      "  - 생성된 태그: ['이별', '그리움', '사랑']\n",
      "  - 생성된 요약: 이별과 그리움, 사랑에 대한 감정을 담은 노래. 상대를 잊지 못하고 끝내지 못한 사랑을 담은 노래\n",
      "-------------------------\n"
     ]
    },
    {
     "name": "stderr",
     "output_type": "stream",
     "text": [
      "\r특징 추출 중:  90%|████████▉ | 413/460 [07:53<00:49,  1.06s/it]"
     ]
    },
    {
     "name": "stdout",
     "output_type": "stream",
     "text": [
      "\n",
      "[결과] MAN WITH A MISSION(맨 위드 어 미션) - Kizuna No Kiseki\n",
      "  - 생성된 태그: ['희망', '우정', '도전']\n",
      "  - 생성된 요약: 어둠 속을 달려가며 희망을 향해 도전하는 모습과 우정의 소중함을 담은 노래\n",
      "-------------------------\n"
     ]
    },
    {
     "name": "stderr",
     "output_type": "stream",
     "text": [
      "\r특징 추출 중:  90%|█████████ | 414/460 [07:54<00:49,  1.08s/it]"
     ]
    },
    {
     "name": "stdout",
     "output_type": "stream",
     "text": [
      "\n",
      "[결과] Tatsuya Kitani(타츠야 키타니) - Where Our Blue Is\n",
      "  - 생성된 태그: ['이별', '회상', '사랑']\n",
      "  - 생성된 요약: 이별과 회상, 사랑에 대한 아련하고 아픈 감정을 담은 노래\n",
      "-------------------------\n"
     ]
    },
    {
     "name": "stderr",
     "output_type": "stream",
     "text": [
      "\r특징 추출 중:  90%|█████████ | 415/460 [07:56<00:50,  1.11s/it]"
     ]
    },
    {
     "name": "stdout",
     "output_type": "stream",
     "text": [
      "\n",
      "[결과] QUEEN BEE - Mephisto\n",
      "  - 생성된 태그: ['사랑', '희망', '별']\n",
      "  - 생성된 요약: 사랑하는 상대에게 허위의 사랑을 바쳐주는 노래. 이루어지지 않을 사랑에 대한 희망과 갈망을 담은 노래\n",
      "-------------------------\n"
     ]
    },
    {
     "name": "stderr",
     "output_type": "stream",
     "text": [
      "\r특징 추출 중:  90%|█████████ | 416/460 [07:57<00:46,  1.07s/it]"
     ]
    },
    {
     "name": "stdout",
     "output_type": "stream",
     "text": [
      "\n",
      "[결과] OFFICIAL HIGE DANDISM - TATTOO\n",
      "  - 생성된 태그: ['우정', '감사', '긍정적']\n",
      "  - 생성된 요약: 서로를 이해하고 존중하는 우정에 대한 노래. 서로를 위로하고 격려하는 긍정적인 메시지를 담고 있음\n",
      "-------------------------\n"
     ]
    },
    {
     "name": "stderr",
     "output_type": "stream",
     "text": [
      "\r특징 추출 중:  91%|█████████ | 417/460 [07:58<00:47,  1.10s/it]"
     ]
    },
    {
     "name": "stdout",
     "output_type": "stream",
     "text": [
      "\n",
      "[결과] Sanghee - Horoyoi\n",
      "  - 생성된 태그: ['음주', '축제', '자유로움']\n",
      "  - 생성된 요약: 자유로운 분위기에서의 음주와 축제를 노래한 가사. 속 깊은 의미보다는 즐거운 분위기를 즐기는 노래\n",
      "-------------------------\n"
     ]
    },
    {
     "name": "stderr",
     "output_type": "stream",
     "text": [
      "\r특징 추출 중:  91%|█████████ | 418/460 [07:59<00:44,  1.07s/it]"
     ]
    },
    {
     "name": "stdout",
     "output_type": "stream",
     "text": [
      "\n",
      "[결과] imase - NIGHT DANCER (BIG Naughty Remix)\n",
      "  - 생성된 태그: ['사랑', '추억', '춤']\n",
      "  - 생성된 요약: 한없이 길고 불안한 밤 속에서 사랑과 추억을 품고 함께 춤추며 즐기는 이야기를 담은 노래\n",
      "-------------------------\n"
     ]
    },
    {
     "name": "stderr",
     "output_type": "stream",
     "text": [
      "\r특징 추출 중:  91%|█████████ | 419/460 [08:00<00:46,  1.14s/it]"
     ]
    },
    {
     "name": "stdout",
     "output_type": "stream",
     "text": [
      "\n",
      "[결과] YOASOBI - アイドル (애니메이션 '최애의 아이' 1기 오프닝곡)\n",
      "  - 생성된 태그: ['아이돌', '사랑', '비밀']\n",
      "  - 생성된 요약: 미디어에 무적의 미소로 사람들을 현혹시키는 아이돌의 비밀과 사랑에 대한 노래\n",
      "-------------------------\n"
     ]
    },
    {
     "name": "stderr",
     "output_type": "stream",
     "text": [
      "\r특징 추출 중:  91%|█████████▏| 420/460 [08:01<00:45,  1.13s/it]"
     ]
    },
    {
     "name": "stdout",
     "output_type": "stream",
     "text": [
      "\n",
      "[결과] aiko - 花火\n",
      "  - 생성된 태그: ['사랑', '추억', '이별']\n",
      "  - 생성된 요약: 사랑하는 상대를 잊지 못하고 추억에 잠기는 이별의 아픔을 담은 노래\n",
      "-------------------------\n"
     ]
    },
    {
     "name": "stderr",
     "output_type": "stream",
     "text": [
      "\r특징 추출 중:  92%|█████████▏| 421/460 [08:02<00:40,  1.05s/it]"
     ]
    },
    {
     "name": "stdout",
     "output_type": "stream",
     "text": [
      "\n",
      "[결과] YOASOBI - セブンティーン\n",
      "  - 생성된 태그: ['자아', '성장', '자기창조']\n",
      "  - 생성된 요약: 자아를 찾아가는 여정과 자기 자신을 받아들이며 성장해나가는 과정을 담은 노래\n",
      "-------------------------\n"
     ]
    },
    {
     "name": "stderr",
     "output_type": "stream",
     "text": [
      "\r특징 추출 중:  92%|█████████▏| 422/460 [08:03<00:40,  1.06s/it]"
     ]
    },
    {
     "name": "stdout",
     "output_type": "stream",
     "text": [
      "\n",
      "[결과] MISAMO - Marshmallow\n",
      "  - 생성된 태그: ['자신감', '긍정적', '희망']\n",
      "  - 생성된 요약: 자신을 믿고 긍정적으로 미래를 향해 나아가는 희망에 가득한 노래\n",
      "-------------------------\n"
     ]
    },
    {
     "name": "stderr",
     "output_type": "stream",
     "text": [
      "\r특징 추출 중:  92%|█████████▏| 423/460 [08:04<00:38,  1.04s/it]"
     ]
    },
    {
     "name": "stdout",
     "output_type": "stream",
     "text": [
      "\n",
      "[결과] TWICE - Hare Hare\n",
      "  - 생성된 태그: ['행복', '신나는', '긍정적']\n",
      "  - 생성된 요약: 맑은 날씨와 행복한 기분을 노래한 신나는 J-POP 곡. 미래에 대한 희망과 긍정적 에너지를 전하는 곡\n",
      "-------------------------\n"
     ]
    },
    {
     "name": "stderr",
     "output_type": "stream",
     "text": [
      "\r특징 추출 중:  92%|█████████▏| 424/460 [08:05<00:34,  1.03it/s]"
     ]
    },
    {
     "name": "stdout",
     "output_type": "stream",
     "text": [
      "\n",
      "[결과] imase - Nagisa\n",
      "  - 생성된 태그: ['사랑', '이별', '고백']\n",
      "  - 생성된 요약: 서로를 사랑하고 있지만 이별을 앞둔 아쉬움과 고백하는 용기를 담은 노래\n",
      "-------------------------\n"
     ]
    },
    {
     "name": "stderr",
     "output_type": "stream",
     "text": [
      "\r특징 추출 중:  92%|█████████▏| 425/460 [08:06<00:34,  1.02it/s]"
     ]
    },
    {
     "name": "stdout",
     "output_type": "stream",
     "text": [
      "\n",
      "[결과] MY FIRST STORY - I'm a mess\n",
      "  - 생성된 태그: ['고난', '절망', '희망']\n",
      "  - 생성된 요약: 고난과 절망 속에서도 희망을 잃지 않고 이겨내려는 강인한 의지를 담은 노래\n",
      "-------------------------\n"
     ]
    },
    {
     "name": "stderr",
     "output_type": "stream",
     "text": [
      "\r특징 추출 중:  93%|█████████▎| 426/460 [08:07<00:32,  1.06it/s]"
     ]
    },
    {
     "name": "stdout",
     "output_type": "stream",
     "text": [
      "\n",
      "[결과] Miki Matsubara(마츠바라 미키/松原みき) - Mayonaka no Door / Stay with Me (Single Ver.)\n",
      "  - 생성된 태그: ['이별', '그리움', '추억']\n",
      "  - 생성된 요약: 이별 후 그리움과 추억으로 가득한 노래. 상처받은 마음을 달래며 지나간 사랑을 회상하는 노래\n",
      "-------------------------\n"
     ]
    },
    {
     "name": "stderr",
     "output_type": "stream",
     "text": [
      "\r특징 추출 중:  93%|█████████▎| 427/460 [08:08<00:32,  1.01it/s]"
     ]
    },
    {
     "name": "stdout",
     "output_type": "stream",
     "text": [
      "\n",
      "[결과] Yuuri - Peter Pan\n",
      "  - 생성된 태그: ['도전', '희망', '인생']\n",
      "  - 생성된 요약: 현실에 안주하지 않고 꿈과 희망을 향해 도전하는 용기와 열정을 담은 노래\n",
      "-------------------------\n"
     ]
    },
    {
     "name": "stderr",
     "output_type": "stream",
     "text": [
      "\r특징 추출 중:  93%|█████████▎| 428/460 [08:09<00:32,  1.01s/it]"
     ]
    },
    {
     "name": "stdout",
     "output_type": "stream",
     "text": [
      "\n",
      "[결과] Ai Higuchi(ヒグチアイ) - 悪魔の子 / Akuma no Ko (악마의 아이)\n",
      "  - 생성된 태그: ['자유', '사랑', '인내']\n",
      "  - 생성된 요약: 자유롭게 살아가는데에 대한 염원과 세상의 잔인함에도 불구하고 상대를 사랑하고 지키려는 결연한 결의를 담은 노래\n",
      "-------------------------\n"
     ]
    },
    {
     "name": "stderr",
     "output_type": "stream",
     "text": [
      "\r특징 추출 중:  93%|█████████▎| 429/460 [08:10<00:34,  1.10s/it]"
     ]
    },
    {
     "name": "stdout",
     "output_type": "stream",
     "text": [
      "\n",
      "[결과] OFFICIAL HIGE DANDISM - White Noise\n",
      "  - 생성된 태그: ['도전', '승리', '투지']\n",
      "  - 생성된 요약: 과거의 상처와 약점을 극복하고 도전과 승리를 향한 강한 의지를 담은 노래\n",
      "-------------------------\n"
     ]
    },
    {
     "name": "stderr",
     "output_type": "stream",
     "text": [
      "\r특징 추출 중:  93%|█████████▎| 430/460 [08:11<00:31,  1.04s/it]"
     ]
    },
    {
     "name": "stdout",
     "output_type": "stream",
     "text": [
      "\n",
      "[결과] aimyon - 3636\n",
      "  - 생성된 태그: ['이별', '회상', '추억']\n",
      "  - 생성된 요약: 이별 후 상대방과의 일상이 지루해지고 서로에 대한 실망과 회한으로 가득한 노래\n",
      "-------------------------\n"
     ]
    },
    {
     "name": "stderr",
     "output_type": "stream",
     "text": [
      "\r특징 추출 중:  94%|█████████▎| 431/460 [08:12<00:31,  1.10s/it]"
     ]
    },
    {
     "name": "stdout",
     "output_type": "stream",
     "text": [
      "\n",
      "[결과] aimyon - ai no hana\n",
      "  - 생성된 태그: ['사랑', '희망', '이별']\n",
      "  - 생성된 요약: 이별과 희망, 사랑에 대한 감정을 담은 노래. 상처와 아픔을 이겨내고 새로운 시작을 향해 나아가는 메시지가 담겨 있음\n",
      "-------------------------\n"
     ]
    },
    {
     "name": "stderr",
     "output_type": "stream",
     "text": [
      "\r특징 추출 중:  94%|█████████▍| 432/460 [08:14<00:31,  1.12s/it]"
     ]
    },
    {
     "name": "stdout",
     "output_type": "stream",
     "text": [
      "\n",
      "[결과] RADWIMPS(래드윔프스) - カナタハルカ / KANATA HALUKA\n",
      "  - 생성된 태그: ['사랑', '추억', '감성']\n",
      "  - 생성된 요약: 서로를 만나 사랑하게 되어 삶을 함께하는 아름다운 추억을 노래한 곡. 상대방에 대한 그리움과 사랑으로 가득한 감성적인 노래\n",
      "-------------------------\n"
     ]
    },
    {
     "name": "stderr",
     "output_type": "stream",
     "text": [
      "\r특징 추출 중:  94%|█████████▍| 433/460 [08:15<00:31,  1.16s/it]"
     ]
    },
    {
     "name": "stdout",
     "output_type": "stream",
     "text": [
      "\n",
      "[결과] The Birthday - LOVE ROCKETS\n",
      "  - 생성된 태그: ['사랑', '로켓', '미래']\n",
      "  - 생성된 요약: 로켓으로 변신하여 사랑을 퍼뜨리는 이야기를 담은 미래를 향한 희망적인 노래\n",
      "-------------------------\n"
     ]
    },
    {
     "name": "stderr",
     "output_type": "stream",
     "text": [
      "\r특징 추출 중:  94%|█████████▍| 434/460 [08:16<00:27,  1.05s/it]"
     ]
    },
    {
     "name": "stdout",
     "output_type": "stream",
     "text": [
      "\n",
      "[결과] Kenshi Yonezu(켄시 요네즈/米津 玄師) - LADY\n",
      "  - 생성된 태그: ['사랑', '추억', '이별']\n",
      "  - 생성된 요약: 서로를 사랑하며 함께한 추억을 회상하고 이별의 아픔을 담은 노래\n",
      "-------------------------\n"
     ]
    },
    {
     "name": "stderr",
     "output_type": "stream",
     "text": [
      "\r특징 추출 중:  95%|█████████▍| 435/460 [08:17<00:25,  1.02s/it]"
     ]
    },
    {
     "name": "stdout",
     "output_type": "stream",
     "text": [
      "\n",
      "[결과] YOASOBI - アドベンチャー\n",
      "  - 생성된 태그: ['모험', '추억', '특별한 순간']\n",
      "  - 생성된 요약: 일상에서 벗어나 특별한 모험을 떠나는 과정과 그 속에서 만나는 소중한 추억과 특별한 순간을 담은 노래\n",
      "-------------------------\n"
     ]
    },
    {
     "name": "stderr",
     "output_type": "stream",
     "text": [
      "\r특징 추출 중:  95%|█████████▍| 436/460 [08:19<00:33,  1.41s/it]"
     ]
    },
    {
     "name": "stdout",
     "output_type": "stream",
     "text": [
      "\n",
      "[결과] JO1 - Tiger\n",
      "  - 생성된 태그: ['도전', '승리', '투지']\n",
      "  - 생성된 요약: 끝없는 도전과 투지를 담은 노래. 어려움을 이겨내고 승리를 향해 달려가는 모습을 표현\n",
      "-------------------------\n"
     ]
    },
    {
     "name": "stderr",
     "output_type": "stream",
     "text": [
      "\r특징 추출 중:  95%|█████████▌| 437/460 [08:20<00:31,  1.35s/it]"
     ]
    },
    {
     "name": "stdout",
     "output_type": "stream",
     "text": [
      "\n",
      "[결과] BE:FIRST - Boom Boom Back\n",
      "  - 생성된 태그: ['도전', '긍정적', '자기계발']\n",
      "  - 생성된 요약: 자아를 찾아가고 꿈을 향해 도전하는 긍정적인 메시지를 담은 노래. 자기계발과 성장을 위해 끊임없이 변화하며 앞으로 나아가는 모습을 그리고 있음\n",
      "-------------------------\n"
     ]
    },
    {
     "name": "stderr",
     "output_type": "stream",
     "text": [
      "\r특징 추출 중:  95%|█████████▌| 438/460 [08:21<00:27,  1.26s/it]"
     ]
    },
    {
     "name": "stdout",
     "output_type": "stream",
     "text": [
      "\n",
      "[결과] ATEEZ - Limitless\n",
      "  - 생성된 태그: ['도전', '인내', '승리']\n",
      "  - 생성된 요약: 자신을 믿고 도전하며 어둠을 뚫고 나아가는 인내와 투지를 담은 노래\n",
      "-------------------------\n"
     ]
    },
    {
     "name": "stderr",
     "output_type": "stream",
     "text": [
      "\r특징 추출 중:  95%|█████████▌| 439/460 [08:22<00:26,  1.28s/it]"
     ]
    },
    {
     "name": "stdout",
     "output_type": "stream",
     "text": [
      "\n",
      "[결과] Hikaru Utada(우타다 히카루/宇多田ヒカル) - Automatic\n",
      "  - 생성된 태그: ['사랑', '행복', '감동']\n",
      "  - 생성된 요약: 상대방을 향한 깊은 사랑과 그에 대한 행복과 감동을 담은 노래\n",
      "-------------------------\n"
     ]
    },
    {
     "name": "stderr",
     "output_type": "stream",
     "text": [
      "\r특징 추출 중:  96%|█████████▌| 440/460 [08:23<00:23,  1.19s/it]"
     ]
    },
    {
     "name": "stdout",
     "output_type": "stream",
     "text": [
      "\n",
      "[결과] Ado - Tot Musica\n",
      "  - 생성된 태그: ['전투', '절망', '희망']\n",
      "  - 생성된 요약: 전투와 절망 속에서도 희망을 찾아가는 용기와 강인함을 노래한 곡\n",
      "-------------------------\n"
     ]
    },
    {
     "name": "stderr",
     "output_type": "stream",
     "text": [
      "\r특징 추출 중:  96%|█████████▌| 441/460 [08:24<00:20,  1.06s/it]"
     ]
    },
    {
     "name": "stdout",
     "output_type": "stream",
     "text": [
      "\n",
      "[결과] &TEAM - Under the skin\n",
      "  - 생성된 태그: ['고독', '그리움', '갈망']\n",
      "  - 생성된 요약: 고독과 그리움, 상대를 간절히 기다리고 있는 갈망을 담은 노래\n",
      "-------------------------\n"
     ]
    },
    {
     "name": "stderr",
     "output_type": "stream",
     "text": [
      "\r특징 추출 중:  96%|█████████▌| 442/460 [08:25<00:19,  1.06s/it]"
     ]
    },
    {
     "name": "stdout",
     "output_type": "stream",
     "text": [
      "\n",
      "[결과] Ado - New Genesis (UTA from ONE PIECE FILM RED)\n",
      "  - 생성된 태그: ['도전', '희망', '변화']\n",
      "  - 생성된 요약: 새로운 시대를 맞아 세상을 바꾸고자 하는 도전과 희망, 그리고 변화를 꿈꾸는 의지를 담은 노래\n",
      "-------------------------\n"
     ]
    },
    {
     "name": "stderr",
     "output_type": "stream",
     "text": [
      "\r특징 추출 중:  96%|█████████▋| 443/460 [08:27<00:21,  1.26s/it]"
     ]
    },
    {
     "name": "stdout",
     "output_type": "stream",
     "text": [
      "\n",
      "[결과] Fujii Kaze - Kaerou\n",
      "  - 생성된 태그: ['이별', '사랑', '희망']\n",
      "  - 생성된 요약: 이별과 사랑, 희망을 주제로 한 가사. 상처와 아픔을 겪으면서도 헤어진 상대에 대한 애틋한 사랑과 향한 희망을 담은 노래\n",
      "-------------------------\n"
     ]
    },
    {
     "name": "stderr",
     "output_type": "stream",
     "text": [
      "\r특징 추출 중:  97%|█████████▋| 444/460 [08:28<00:20,  1.28s/it]"
     ]
    },
    {
     "name": "stdout",
     "output_type": "stream",
     "text": [
      "\n",
      "[결과] Ado - I’m invincible\n",
      "  - 생성된 태그: ['희망', '강인함', '사랑']\n",
      "  - 생성된 요약: 자신의 꿈과 소망을 향해 힘차게 나아가며, 사랑과 용기를 발견하고 성장해나가는 과정을 담은 노래\n",
      "-------------------------\n"
     ]
    },
    {
     "name": "stderr",
     "output_type": "stream",
     "text": [
      "\r특징 추출 중:  97%|█████████▋| 445/460 [08:29<00:17,  1.17s/it]"
     ]
    },
    {
     "name": "stdout",
     "output_type": "stream",
     "text": [
      "\n",
      "[결과] Eve - Fight Song (애니메이션 '체인소 맨' 엔딩곡)\n",
      "  - 생성된 태그: ['혼란', '갈등', '성장']\n",
      "  - 생성된 요약: 혼란과 갈등 속에서도 성장하고자 하는 의지를 담은 노래\n",
      "-------------------------\n"
     ]
    },
    {
     "name": "stderr",
     "output_type": "stream",
     "text": [
      "\r특징 추출 중:  97%|█████████▋| 446/460 [08:30<00:16,  1.16s/it]"
     ]
    },
    {
     "name": "stdout",
     "output_type": "stream",
     "text": [
      "\n",
      "[결과] Vaundy - life hack\n",
      "  - 생성된 태그: ['사랑', '상상', '자아탐구']\n",
      "  - 생성된 요약: 자기 자신과의 솔직한 대화를 통해 사랑과 상상, 자아탐구에 대한 노래. 미래의 미지를 향해 나아가는 모험적인 마음을 담고 있음\n",
      "-------------------------\n"
     ]
    },
    {
     "name": "stderr",
     "output_type": "stream",
     "text": [
      "\r특징 추출 중:  97%|█████████▋| 447/460 [08:38<00:39,  3.05s/it]"
     ]
    },
    {
     "name": "stdout",
     "output_type": "stream",
     "text": [
      "\n",
      "[결과] Fujii Kaze - Matsuri\n",
      "  - 생성된 태그: ['사랑', '행복', '축제']\n",
      "  - 생성된 요약: 사랑만을 느끼고 싶지 않아 더는 어떤 차별도 없이 모든 것을 받아들일 수 있어 현재의 자신을 전부 받아들일 수 있기 때문에 원하는 것은 무엇인지, 누구에게 이기고 싶은지 알 수 없지만 이미 모든 것을 소유하고 있음에도 불구하고 그 사실을 깨닫지 못하고 있어. 모든 것을 자유롭게 선택하고 당신의 마음속에서 피어나게 하라. 봄 축제, 여름 축제, 무엇이든 좋아하는 대로 선택하고 당신의 마음을 여는 가을 축제, 겨울 휴가. 닫힌 마음을 지금 열어보라. 쉽게 살 수 있다면, 곧장 거기로 갈 수 있을까. 지금이라면 늦지 않으니. 꽃 축제, 여름 축제, 태어나는 것도, 죽어가는 것도, 모든 것이 동시에 일어나는 일들. 가을 축제, 겨울 휴가, 모두를 안아보면 춤추어라. 매일 소중한 무엇인가의 축제. 그것도 이것도 모두가 큰 성공. 비교할 것은 없고 이기기도 지기기도 없다. 없다, 없다. 아무것도 모르는 이쪽에게 맡겨. 마음대로 해. 아무것도 모르는 이쪽에게 맡겨. 아무리 말이 심하게 울었던 탓에, 네가 화려하게 웃었던 탓에, 여름의 더위가 몸을 태웠고, 겨울의 엄격함이 신체에 밴다면, 평평하게 살 수 있었을까, 곧장 거기로 갈 수 있었을까. 그래, 지금이라면 늦지 않으니. 축제, 축제, 매일 소중한 무엇인가의 축제. 그것도 이것도가 감사한 축제. 고통받는 일은 없고 어깨를 풀어놓는 것도 없다. 없다, 없다. 축제, 축제, 매일 소중한 무엇인가의 축제. 그것도 이것도가 감사한 축제. 고통받는 일은 없고 어깨를 풀어놓는 것도 없다. 없다, 없다. 아무것도 모르는 이쪽에게 맡겨. 마음대로 해. 아무것도 모르는 이쪽에게 맡겨. 어찌되었든 멋진\n",
      "-------------------------\n"
     ]
    },
    {
     "name": "stderr",
     "output_type": "stream",
     "text": [
      "\r특징 추출 중:  97%|█████████▋| 448/460 [08:39<00:29,  2.46s/it]"
     ]
    },
    {
     "name": "stdout",
     "output_type": "stream",
     "text": [
      "\n",
      "[결과] natori(なとり) - Overdose\n",
      "  - 생성된 태그: ['사랑', '오해', '회한']\n",
      "  - 생성된 요약: 서로를 오해하고 상처를 주며 사랑이라 착각한 상황에서의 회한과 아픔을 그리는 노래\n",
      "-------------------------\n"
     ]
    },
    {
     "name": "stderr",
     "output_type": "stream",
     "text": [
      "\r특징 추출 중:  98%|█████████▊| 449/460 [08:40<00:23,  2.14s/it]"
     ]
    },
    {
     "name": "stdout",
     "output_type": "stream",
     "text": [
      "\n",
      "[결과] imase - NIGHT DANCER\n",
      "  - 생성된 태그: ['사랑', '추억', '이별']\n",
      "  - 생성된 요약: 서로를 생각하며 낡은 기억을 되새기는 밤, 서로의 변함없는 모습에 안정감을 느끼지만 이별의 아픔을 떠올리는 노래\n",
      "-------------------------\n"
     ]
    },
    {
     "name": "stderr",
     "output_type": "stream",
     "text": [
      "특징 추출 중:  98%|█████████▊| 450/460 [08:41<00:18,  1.82s/it]"
     ]
    },
    {
     "name": "stdout",
     "output_type": "stream",
     "text": [
      "\n",
      "[결과] 10-Feet(10-피트) - Dai Zero Kan\n",
      "  - 생성된 태그: ['몽환적', '우울', '고독']\n",
      "  - 생성된 요약: 혼자서 꿈을 향해 떠나는 모험을 담은 고독하고 우울한 분위기의 노래\n",
      "-------------------------\n",
      "\n",
      "[진행 상황 저장됨: 450/460 완료]\n"
     ]
    },
    {
     "name": "stderr",
     "output_type": "stream",
     "text": [
      "\r특징 추출 중:  98%|█████████▊| 451/460 [08:43<00:15,  1.71s/it]"
     ]
    },
    {
     "name": "stdout",
     "output_type": "stream",
     "text": [
      "\n",
      "[결과] OFFICIAL HIGE DANDISM - Subtitle\n",
      "  - 생성된 태그: ['사랑', '이별', '추억']\n",
      "  - 생성된 요약: 서로에게 전달하고자 하는 감정을 이해하지 못해 서운함을 느끼지만, 끝까지 사랑을 포기하지 않고 서로에게 닿을 때까지 기다림을 표현한 노래\n",
      "-------------------------\n"
     ]
    },
    {
     "name": "stderr",
     "output_type": "stream",
     "text": [
      "\r특징 추출 중:  98%|█████████▊| 452/460 [08:44<00:12,  1.59s/it]"
     ]
    },
    {
     "name": "stdout",
     "output_type": "stream",
     "text": [
      "\n",
      "[결과] Yorushika - Left-Right Confusion\n",
      "  - 생성된 태그: ['사랑', '이별', '추억']\n",
      "  - 생성된 요약: 서로의 마음이 항상 하나였다고 믿어왔던 사랑하는 이들의 이별과 추억을 노래한 곡\n",
      "-------------------------\n"
     ]
    },
    {
     "name": "stderr",
     "output_type": "stream",
     "text": [
      "\r특징 추출 중:  98%|█████████▊| 453/460 [08:45<00:09,  1.42s/it]"
     ]
    },
    {
     "name": "stdout",
     "output_type": "stream",
     "text": [
      "\n",
      "[결과] Kenshi Yonezu(켄시 요네즈/米津 玄師) - KICK BACK\n",
      "  - 생성된 태그: ['행복', '사랑', '축복']\n",
      "  - 생성된 요약: 사랑과 행복을 주제로 한 노래로, 희망과 긍정적 에너지를 담은 노래\n",
      "-------------------------\n"
     ]
    },
    {
     "name": "stderr",
     "output_type": "stream",
     "text": [
      "\r특징 추출 중:  99%|█████████▊| 454/460 [08:47<00:08,  1.44s/it]"
     ]
    },
    {
     "name": "stdout",
     "output_type": "stream",
     "text": [
      "\n",
      "[결과] Vaundy - CHAINSAW BLOOD\n",
      "  - 생성된 태그: ['분노', '괴로움', '괴로운 상상']\n",
      "  - 생성된 요약: 분노와 괴로움이 넘치는 상황을 극복하려는 의지를 담은 노래\n",
      "-------------------------\n"
     ]
    },
    {
     "name": "stderr",
     "output_type": "stream",
     "text": [
      "\r특징 추출 중:  99%|█████████▉| 455/460 [08:48<00:06,  1.39s/it]"
     ]
    },
    {
     "name": "stdout",
     "output_type": "stream",
     "text": [
      "\n",
      "[결과] King Gnu - Stardom\n",
      "  - 생성된 태그: ['도전', '희망', '인내']\n",
      "  - 생성된 요약: 고난과 역경을 극복하며 끊임없이 도전하고 희망을 향해 나아가는 인내와 용기를 노래한 곡\n",
      "-------------------------\n"
     ]
    },
    {
     "name": "stderr",
     "output_type": "stream",
     "text": [
      "\r특징 추출 중:  99%|█████████▉| 456/460 [08:49<00:04,  1.23s/it]"
     ]
    },
    {
     "name": "stdout",
     "output_type": "stream",
     "text": [
      "\n",
      "[결과] PEOPLE 1 - DOGLAND\n",
      "  - 생성된 태그: ['혼란', '절망', '포기']\n",
      "  - 생성된 요약: 혼돈과 절망 속에서 자아를 잃고 포기의 경지에 이르려는 이의 내면을 담은 노래\n",
      "-------------------------\n"
     ]
    },
    {
     "name": "stderr",
     "output_type": "stream",
     "text": [
      "\r특징 추출 중:  99%|█████████▉| 457/460 [08:50<00:03,  1.29s/it]"
     ]
    },
    {
     "name": "stdout",
     "output_type": "stream",
     "text": [
      "\n",
      "[결과] 8LOOM - Melody\n",
      "  - 생성된 태그: ['사랑', '행복', '음악']\n",
      "  - 생성된 요약: 상대방과 함께하는 것이 최고의 장소이며, 사랑과 행복을 노래하는 음악적인 노래\n",
      "-------------------------\n"
     ]
    },
    {
     "name": "stderr",
     "output_type": "stream",
     "text": [
      "\r특징 추출 중: 100%|█████████▉| 458/460 [08:52<00:02,  1.29s/it]"
     ]
    },
    {
     "name": "stdout",
     "output_type": "stream",
     "text": [
      "\n",
      "[결과] NiziU - Blue Moon\n",
      "  - 생성된 태그: ['사랑', '회상', '그리움']\n",
      "  - 생성된 요약: 먼 거리에 있어도 늘 함께하는 마음으로 연결되어 있는 사랑의 감정을 회상하며 그리워하는 노래\n",
      "-------------------------\n"
     ]
    },
    {
     "name": "stderr",
     "output_type": "stream",
     "text": [
      "\r특징 추출 중: 100%|█████████▉| 459/460 [08:53<00:01,  1.25s/it]"
     ]
    },
    {
     "name": "stdout",
     "output_type": "stream",
     "text": [
      "\n",
      "[결과] Special Favorite Music(스페셜 페이보릿 뮤직) - Dribble\n",
      "  - 생성된 태그: ['사랑', '추억', '이별']\n",
      "  - 생성된 요약: 사랑하는 이를 잊지 못하고 추억에 잠기는 가슴 아픈 이별의 아픔을 담은 노래\n",
      "-------------------------\n"
     ]
    },
    {
     "name": "stderr",
     "output_type": "stream",
     "text": [
      "특징 추출 중: 100%|██████████| 460/460 [08:54<00:00,  1.16s/it]"
     ]
    },
    {
     "name": "stdout",
     "output_type": "stream",
     "text": [
      "\n",
      "[결과] TWICE - BETTER\n",
      "  - 생성된 태그: ['사랑', '희망', '우정']\n",
      "  - 생성된 요약: 서로의 꿈을 향해 함께 보내는 날들, 서로를 지지하고 힘을 주며 더 나은 미래를 향해 나아가는 사랑과 우정에 대한 노래\n",
      "-------------------------\n",
      "\n",
      "--- 작업 완료 후, 최종 샘플링 검토 ---\n",
      "\n",
      "[샘플 268]\n",
      "  - 아티스트: King Gnu(킹 누)\n",
      "  - 제  목: BOY\n",
      "  - 생성된 태그: ['꿈', '도전', '희망']\n",
      "  - 생성된 요약: 자신의 꿈을 향해 도전하고 희망을 잃지 않는 강인한 의지를 담은 노래\n",
      "\n",
      "[샘플 372]\n",
      "  - 아티스트: Number_i\n",
      "  - 제  목: FUJI\n",
      "  - 생성된 태그: ['자유로움', '긍정적', '파워']\n",
      "  - 생성된 요약: 자유롭고 긍정적인 에너지를 담은 노래. 자신을 믿고 꿈을 향해 나아가는 모험적인 노래\n",
      "\n",
      "[샘플 370]\n",
      "  - 아티스트: imase\n",
      "  - 제  목: Shine Out\n",
      "  - 생성된 태그: ['희망', '도전', '긍정']\n",
      "  - 생성된 요약: 희망찬 미래를 향해 달려가는 도전과 긍정적인 마음가짐을 담은 노래\n",
      "\n",
      "[샘플 24]\n",
      "  - 아티스트: SEKAI NO OWARI(세카이노 오와리)\n",
      "  - 제  목: RPG\n",
      "  - 생성된 태그: ['희망', '우정', '도전']\n",
      "  - 생성된 요약: 자신을 믿고 새로운 도전에 나서며 우정과 희망으로 가득한 노래\n",
      "\n",
      "[샘플 215]\n",
      "  - 아티스트: IZ*ONE\n",
      "  - 제  목: 幻想童話 (Secret Story of the Swan)\n",
      "  - 생성된 태그: ['로맨스', '꿈', '마법']\n",
      "  - 생성된 요약: 로맨틱한 분위기 속에서 사랑하는 이와 함께하는 꿈 속의 여행을 표현한 가사, 마법 같은 순간을 꿈꾸며 함께하는 이들의 로맨틱한 노래\n",
      "\n",
      "결과가 'canonical_jpop_dataset_with_features.csv' 파일로 저장되었습니다.\n"
     ]
    },
    {
     "name": "stderr",
     "output_type": "stream",
     "text": [
      "\n"
     ]
    }
   ],
   "source": [
    "!pip install openai # Colab에서 openai 라이브러리를 설치합니다.\n",
    "\n",
    "import pandas as pd\n",
    "import json\n",
    "import time\n",
    "import random\n",
    "from tqdm import tqdm\n",
    "import os\n",
    "from openai import OpenAI # openai 라이브러리 import\n",
    "\n",
    "# 1. 데이터셋 로드 및 손실 방지 로직\n",
    "input_filename = 'canonical_jpop_dataset.csv'\n",
    "output_filename = 'canonical_jpop_dataset_with_features.csv'\n",
    "\n",
    "# 결과 파일이 이미 있는지 확인하여 이어하기 기능 구현\n",
    "if os.path.exists(output_filename):\n",
    "    print(f\"'{output_filename}' 파일이 존재합니다. 중단된 지점부터 작업을 이어갑니다.\")\n",
    "    df = pd.read_csv(output_filename)\n",
    "else:\n",
    "    print(f\"새로운 작업을 시작합니다. 원본 파일: '{input_filename}'\")\n",
    "    try:\n",
    "        df = pd.read_csv(input_filename)\n",
    "        # 새로운 작업을 시작할 때만 컬럼 추가\n",
    "        df['tags'] = None\n",
    "        df['summary'] = None\n",
    "    except FileNotFoundError:\n",
    "        print(f\"'{input_filename}' 파일을 찾을 수 없습니다. Colab에 파일을 업로드했는지 확인해주세요.\")\n",
    "        # 예시 데이터프레임 생성\n",
    "        data = {'artist': ['Artist A', 'Artist B'],\n",
    "                'title': ['Title 1', 'Title 2'],\n",
    "                'lyrics': ['사랑과 희망에 대한 노래입니다. 밝고 긍정적인 분위기.', '이별의 슬픔을 노래합니다. 어둡고 애절한 감성.']}\n",
    "        df = pd.DataFrame(data)\n",
    "        df['tags'] = None\n",
    "        df['summary'] = None\n",
    "        print(\"예시 데이터프레임으로 작업을 계속합니다.\")\n",
    "\n",
    "print(f\"--- 전체 데이터셋({len(df)}곡)에 대한 작업을 시작합니다. ---\")\n",
    "# -----------------------------------------\n",
    "\n",
    "# 2. OpenAI API 클라이언트 설정\n",
    "try:\n",
    "    from google.colab import userdata\n",
    "    api_key = userdata.get('OPENAI_API_KEY')\n",
    "    client = OpenAI(api_key=api_key)\n",
    "except (ImportError, KeyError):\n",
    "    print(\"Colab 비밀을 찾을 수 없습니다. API 키를 직접 입력해주세요.\")\n",
    "    api_key = \"YOUR_API_KEY\"\n",
    "    if api_key == \"YOUR_API_KEY\":\n",
    "        print(\"경고: 유효한 OpenAI API 키를 입력해야 합니다.\")\n",
    "        client = None\n",
    "    else:\n",
    "        client = OpenAI(api_key=api_key)\n",
    "\n",
    "def post_process_summary(summary: str) -> str:\n",
    "    \"\"\"\n",
    "    LLM이 생성한 요약문 중 특정 단어로 끝나는 경우에만 '~노래'로 교정하는 가벼운 후처리 함수.\n",
    "    \"\"\"\n",
    "    summary = summary.strip().rstrip('.')\n",
    "    endings_to_replace = [\"가사\", \"이야기\", \"내용\"]\n",
    "    for ending in endings_to_replace:\n",
    "        if summary.endswith(ending):\n",
    "            return summary[:-len(ending)].strip() + \" 노래\"\n",
    "    return summary\n",
    "\n",
    "def get_features_from_openai(lyrics):\n",
    "    \"\"\"\n",
    "    가사를 입력받아 OpenAI API를 통해 특징(태그, 요약)을 JSON 형태로 받아오는 함수.\n",
    "    Few-shot 프롬프트를 사용하여 안정성을 높였습니다.\n",
    "    \"\"\"\n",
    "    if not client:\n",
    "        time.sleep(0.5)\n",
    "        return {\"tags\": random.sample([\"사랑\", \"희망\", \"청춘\"], 3), \"summary\": \"API 클라이언트가 설정되지 않아 생성된 임시 요약입니다.\"}\n",
    "\n",
    "    # Few-shot 프롬프트: 좋은 예시 2개를 제공하여 모델의 결과물을 유도\n",
    "    system_prompt = \"\"\"\n",
    "    너는 J-POP 가사를 분석하여 JSON 형식으로 결과를 반환하는 AI야.\n",
    "    주어진 가사의 핵심 내용을 요약하고, 분위기에 맞는 태그 3개를 추출해야 해.\n",
    "    아래 예시와 완벽하게 동일한 형식으로 응답해야 한다.\n",
    "    \"\"\"\n",
    "\n",
    "    user_prompt = f\"\"\"\n",
    "    [가사]:\n",
    "    \"夢ならばどれほどよかったでしょう\n",
    "    未だにあなたのことを夢にみる...\"\n",
    "    (꿈이라면 얼마나 좋았을까 아직도 당신을 꿈에서 봐...)\n",
    "\n",
    "    [결과]:\n",
    "    {{\n",
    "      \"tags\": [\"이별\", \"슬픔\", \"상실감\"],\n",
    "      \"summary\": \"이별한 상대를 잊지 못하고 꿈속에서까지 그리워하는 깊은 슬픔을 담은 노래\"\n",
    "    }}\n",
    "\n",
    "    [가사]:\n",
    "    \"間違って傷つけて　変わってくことが怖かった\n",
    "    でもいつだって僕ら　始まってる...\"\n",
    "    (실수하고 상처 입고 변해가는 것이 두려웠어 하지만 언제나 우리는 시작되고 있어...)\n",
    "\n",
    "    [결과]:\n",
    "    {{\n",
    "      \"tags\": [\"시작\", \"용기\", \"성장\"],\n",
    "      \"summary\": \"실수를 두려워하지 않고 새로운 시작을 향해 나아가려는 용기와 성장에 대한 노래\"\n",
    "    }}\n",
    "\n",
    "    [가사]:\n",
    "    \"{lyrics}\"\n",
    "\n",
    "    [결과]:\n",
    "    \"\"\"\n",
    "\n",
    "    max_retries = 3\n",
    "    for attempt in range(max_retries):\n",
    "        try:\n",
    "            response = client.chat.completions.create(\n",
    "                model=\"gpt-3.5-turbo-0125\",\n",
    "                messages=[\n",
    "                    {\"role\": \"system\", \"content\": system_prompt},\n",
    "                    {\"role\": \"user\", \"content\": user_prompt}\n",
    "                ],\n",
    "                response_format={\"type\": \"json_object\"},\n",
    "                temperature=0.5,\n",
    "            )\n",
    "\n",
    "            content = response.choices[0].message.content\n",
    "            result = json.loads(content)\n",
    "\n",
    "            if \"tags\" in result and \"summary\" in result:\n",
    "                return result\n",
    "            else:\n",
    "                print(f\"오류: 응답 JSON에 필수 키가 없습니다. 응답: {result}\")\n",
    "                return {\"tags\": [\"파싱오류\"], \"summary\": \"필수 키 누락\"}\n",
    "\n",
    "        except Exception as e:\n",
    "            print(f\"API 요청 오류: {e}. {attempt + 1}/{max_retries} 번째 재시도 중...\")\n",
    "            time.sleep(2 ** attempt)\n",
    "\n",
    "    return {\"tags\": [\"API호출실패\"], \"summary\": \"API 호출 실패\"}\n",
    "\n",
    "\n",
    "# 3. 데이터셋에 특징(피처) 추가 작업\n",
    "# --- 전체 데이터셋(df)에 대해 작업 수행 ---\n",
    "for index, row in tqdm(df.iterrows(), total=df.shape[0], desc=\"특징 추출 중\"):\n",
    "\n",
    "    # --- 이어하기 로직 ---\n",
    "    # 'summary' 컬럼에 유효한 값이 이미 있다면, 해당 곡은 건너뜁니다.\n",
    "    if pd.notna(row['summary']) and row['summary'] != \"\" and row['summary'] is not None:\n",
    "        continue\n",
    "    # --------------------\n",
    "\n",
    "    lyrics = row['lyrics']\n",
    "\n",
    "    if not isinstance(lyrics, str) or len(lyrics.strip()) == 0:\n",
    "        tags = [\"가사없음\"]\n",
    "        summary = \"가사 없음\"\n",
    "    else:\n",
    "        features = get_features_from_openai(lyrics)\n",
    "        tags = features.get('tags', [])\n",
    "        summary = post_process_summary(features.get('summary', ''))\n",
    "\n",
    "    df.loc[index, 'tags'] = str(tags)\n",
    "    df.loc[index, 'summary'] = summary\n",
    "\n",
    "    print(f\"\\n[결과] {row.get('artist', 'N/A')} - {row.get('title', 'N/A')}\")\n",
    "    print(f\"  - 생성된 태그: {str(tags)}\")\n",
    "    print(f\"  - 생성된 요약: {summary}\")\n",
    "    print(\"-\" * 25)\n",
    "\n",
    "    # --- 중간 저장 로직 ---\n",
    "    # 50곡을 처리할 때마다 CSV 파일에 중간 결과를 저장합니다.\n",
    "    if (index + 1) % 50 == 0:\n",
    "        df.to_csv(output_filename, index=False, encoding='utf-8-sig')\n",
    "        tqdm.write(f\"\\n[진행 상황 저장됨: {index + 1}/{len(df)} 완료]\")\n",
    "    # --------------------\n",
    "\n",
    "\n",
    "# 4. 작업 완료 후 샘플링 검토\n",
    "print(\"\\n--- 작업 완료 후, 최종 샘플링 검토 ---\")\n",
    "random_samples = df.sample(min(5, len(df)))\n",
    "for index, sample in random_samples.iterrows():\n",
    "    print(f\"\\n[샘플 {index}]\")\n",
    "    print(f\"  - 아티스트: {sample.get('artist', 'N/A')}\")\n",
    "    print(f\"  - 제  목: {sample.get('title', 'N/A')}\")\n",
    "    print(f\"  - 생성된 태그: {sample.get('tags', '[]')}\")\n",
    "    print(f\"  - 생성된 요약: {sample.get('summary', 'N/A')}\")\n",
    "\n",
    "\n",
    "# 5. 최종 데이터셋을 새로운 CSV 파일로 저장\n",
    "df.to_csv(output_filename, index=False, encoding='utf-8-sig')\n",
    "\n",
    "print(f\"\\n결과가 '{output_filename}' 파일로 저장되었습니다.\")\n"
   ]
  },
  {
   "cell_type": "code",
   "execution_count": 4,
   "metadata": {
    "colab": {
     "base_uri": "https://localhost:8080/"
    },
    "executionInfo": {
     "elapsed": 215,
     "status": "ok",
     "timestamp": 1756259270492,
     "user": {
      "displayName": "ペク チホン 白知憲 백지헌 ソウル",
      "userId": "01676323946267625609"
     },
     "user_tz": -540
    },
    "id": "cm7neCrl-Ycl",
    "outputId": "82f4fba2-bf55-4ad5-b6e8-4e4e638f4e08"
   },
   "outputs": [
    {
     "name": "stdout",
     "output_type": "stream",
     "text": [
      "'canonical_jpop_dataset_with_features.csv' 파일을 로드합니다...\n",
      "새로운 'tags_normalized' 컬럼을 생성합니다...\n",
      "태그 정규화 완료.\n",
      "의미 기반의 고정 색상 맵을 생성합니다...\n",
      "'canonical_jpop_dataset_final.csv' 파일로 최종 데이터셋을 저장합니다...\n",
      "'tag_colors.json' 파일로 색상 맵을 저장합니다...\n",
      "\n",
      "--- 모든 전처리 작업 완료! ---\n",
      "'canonical_jpop_dataset_final.csv'와 'tag_colors.json' 파일이 성공적으로 생성되었습니다.\n"
     ]
    }
   ],
   "source": [
    "import pandas as pd\n",
    "import json\n",
    "from collections import Counter\n",
    "from tqdm import tqdm\n",
    "\n",
    "# --- 1. 최종 핵심 태그 목록 (직접 재분류 및 통합 완료) ---\n",
    "# '고유_테마'를 '콘셉트'로 변경했습니다.\n",
    "FINAL_MAJOR_TAGS = sorted([\n",
    "    '갈등', '감동', '감사', '감성', '계절', '고난', '고독', '고백', '콘셉트',\n",
    "    '그리움', '긍정', '꿈', '도시', '도전', '모험', '몽환적', '사랑', '사회비판',\n",
    "    '성장', '소망', '슬픔', '우정', '운명', '욕망', '음악', '이별', '인내',\n",
    "    '인생', '일상', '자아성찰', '자신감', '자유', '절망', '즐거움', '청춘',\n",
    "    '추억', '춤', '파티', '행복', '혼란', '회상', '후회', '희망', '기타'\n",
    "])\n",
    "\n",
    "# --- 2. 수동 태그 매핑 (Minor -> Major) ---\n",
    "# '고유_테마'로 매핑되던 태그들을 '콘셉트'로 변경했습니다.\n",
    "TAG_MAPPING = {\n",
    "    # 사랑/관계\n",
    "    '로맨스': '사랑', '로맨틱': '사랑', '연애': '사랑', '연인': '사랑', '인연': '사랑',\n",
    "    '재회': '사랑', '헌신': '사랑', '희생': '사랑', '인간관계': '우정', '소통': '우정',\n",
    "    '친구': '우정', '신뢰': '우정', '지지': '우정', '가족': '사랑', '약속': '사랑',\n",
    "    '복잡한 관계': '갈등', '엇갈림': '갈등', '오해': '갈등',\n",
    "\n",
    "    # 감정 (긍정)\n",
    "    '기쁨': '즐거움', '낙천': '긍정', '낙천적': '긍정', '밝은': '긍정', '신나는': '즐거움',\n",
    "    '환희': '즐거움', '활기': '즐거움', '흥겨운': '즐거움', '흥분': '즐거움', '평온': '일상',\n",
    "    '평화': '일상', '평화로움': '일상', '휴식': '일상', '축복': '감사', '축하': '즐거움',\n",
    "\n",
    "    # 감정 (부정)\n",
    "    '고민': '슬픔', '고통': '슬픔', '괴로움': '슬픔', '무력감': '절망', '분노': '갈등',\n",
    "    '상실감': '슬픔', '상처': '슬픔', '아픔': '슬픔', '애잔': '슬픔', '외로움': '고독',\n",
    "    '우울': '슬픔', '자책': '후회', '허전함': '슬픔', '회한': '후회', '피로': '일상',\n",
    "    '스트레스': '일상', '괴로운 상상': '혼란', '복잡한 감정': '혼란',\n",
    "\n",
    "    # 자아/성장\n",
    "    '가치': '자아성찰', '내면': '자아성찰', '다짐': '도전', '도약': '성장', '도전정신': '도전',\n",
    "    '독립': '성장', '변화': '성장', '사명감': '도전', '생각': '자아성찰', '선택': '인생',\n",
    "    '성공': '성장', '승리': '성장', '용기': '자신감', '의미': '인생', '이해': '성장',\n",
    "    '자기 성찰': '자아성찰', '자기 표현': '자아성찰', '자기애': '자신감', '자기인식': '자아성찰',\n",
    "    '자아': '자아성찰', '자아 발견': '자아성찰', '자아 표현': '자아성찰', '자아인식': '자아성찰',\n",
    "    '자아탐색': '자아성찰', '정체성': '자아성찰', '투지': '도전', '포기하지않음': '인내',\n",
    "\n",
    "    # 추상/테마\n",
    "    '갈망': '소망', '기억': '추억', '기적': '소망', '미래': '희망', '시간': '인생',\n",
    "    '운명': '운명', '이상': '꿈', '현실': '인생', '환상': '몽환적', '환상적': '몽환적',\n",
    "\n",
    "    # 고유/특수 테마 -> '콘셉트'로 통합\n",
    "    '마법': '몽환적', '미스테리': '콘셉트', '미지': '모험', '별': '몽환적', '사이버펑크': '콘셉트',\n",
    "    '사회문제': '사회비판', '사회비판': '사회비판', '상상': '꿈', '우주': '몽환적', '영화': '콘셉트',\n",
    "    '전쟁': '갈등', '전투': '갈등', '싸움': '갈등', '탐험': '모험', '파라다이스': '몽환적',\n",
    "    '낙원': '몽환적', '파멸': '절망', '자살': '절망',\n",
    "\n",
    "    # 이벤트/사물\n",
    "    '봄': '계절', '여름': '계절', '크리스마스': '계절', '축제': '파티', '음주': '파티',\n",
    "    '해변': '계절', '패션': '일상', '팝': '음악', '아이돌': '음악',\n",
    "\n",
    "    # 기타\n",
    "    '가식': '갈등', '구원': '희망', '긍정적': '긍정', '도움': '우정', '소문': '혼란',\n",
    "    '소중한 순간': '추억', '소중함': '추억', '유혹': '욕망', '잊지 못함': '그리움',\n",
    "    '자기계발': '성장', '자기중심': '자아성찰', '자랑': '자신감', '젊음': '청춘',\n",
    "    '창의성': '음악', '창작': '음악', '카롤': '기타', '특별한 순간': '추억', '파워': '자신감',\n",
    "    '포기': '절망', '감각적': '감성', '매혹': '감성', '모던': '도시', '새로움': '도전',\n",
    "    '시대를 초월한 사랑': '사랑'\n",
    "}\n",
    "\n",
    "# --- 3. 기본 설정 및 파일 경로 ---\n",
    "INPUT_CSV = 'canonical_jpop_dataset_with_features.csv'\n",
    "OUTPUT_CSV = 'canonical_jpop_dataset_final.csv'\n",
    "OUTPUT_COLOR_MAP = 'tag_colors.json'\n",
    "\n",
    "# --- 4. 데이터 로드 ---\n",
    "print(f\"'{INPUT_CSV}' 파일을 로드합니다...\")\n",
    "df = pd.read_csv(INPUT_CSV)\n",
    "\n",
    "# --- 5. 정규화된 태그 생성 함수 ---\n",
    "def normalize_tags(tags_str):\n",
    "    try:\n",
    "        # 1. 문자열을 리스트로 변환하고 기본 정리 (공백, 소문자)\n",
    "        tags_list = [tag.strip().lower() for tag in eval(tags_str)]\n",
    "\n",
    "        # 2. 수동 매핑을 기반으로 태그를 정규화\n",
    "        normalized_list = [TAG_MAPPING.get(tag, tag) for tag in tags_list]\n",
    "\n",
    "        # 3. 최종 핵심 태그 목록에 있는 것만 필터링 (안전장치)\n",
    "        final_list = [tag for tag in normalized_list if tag in FINAL_MAJOR_TAGS]\n",
    "\n",
    "        # 4. 중복 제거 후 문자열로 반환\n",
    "        return str(list(dict.fromkeys(final_list)))\n",
    "    except:\n",
    "        return \"[]\"\n",
    "\n",
    "# --- 6. 새로운 'tags_normalized' 컬럼 생성 ---\n",
    "print(\"새로운 'tags_normalized' 컬럼을 생성합니다...\")\n",
    "df['tags_normalized'] = df['tags'].apply(normalize_tags)\n",
    "print(\"태그 정규화 완료.\")\n",
    "\n",
    "# --- 7. [개선됨] 태그별 고정 색상 맵 생성 (의미 기반) ---\n",
    "print(\"의미 기반의 고정 색상 맵을 생성합니다...\")\n",
    "color_map = {\n",
    "    '갈등': '#9E9E9E', '감동': '#FFB74D', '감사': '#FFF176', '감성': '#BA68C8',\n",
    "    '계절': '#81C784', '고난': '#795548', '고독': '#78909C', '고백': '#F06292',\n",
    "    '콘셉트': '#00ACC1', '그리움': '#90A4AE', '긍정': '#FFD54F', '꿈': '#7E57C2',\n",
    "    '도시': '#607D8B', '도전': '#FF7043', '모험': '#00897B', '몽환적': '#CE93D8',\n",
    "    '사랑': '#EC407A', '사회비판': '#424242', '성장': '#66BB6A', '소망': '#AED581',\n",
    "    '슬픔': '#64B5F6', '우정': '#42A5F5', '운명': '#8E24AA', '욕망': '#E53935',\n",
    "    '음악': '#26A69A', '이별': '#A1887F', '인내': '#BDBDBD', '인생': '#37474F',\n",
    "    '일상': '#FFF59D', '자아성찰': '#5C6BC0', '자신감': '#FFEE58', '자유': '#29B6F6',\n",
    "    '절망': '#212121', '즐거움': '#FFCA28', '청춘': '#4FC3F7', '추억': '#D7CCC8',\n",
    "    '춤': '#AD1457', '파티': '#F48FB1', '행복': '#FFC107', '혼란': '#BCAAA4',\n",
    "    '회상': '#C5E1A5', '후회': '#90A4AE', '희망': '#FFA726', '기타': '#E0E0E0'\n",
    "}\n",
    "\n",
    "# --- 8. 결과물 저장 ---\n",
    "print(f\"'{OUTPUT_CSV}' 파일로 최종 데이터셋을 저장합니다...\")\n",
    "df.to_csv(OUTPUT_CSV, index=False, encoding='utf-8-sig')\n",
    "\n",
    "print(f\"'{OUTPUT_COLOR_MAP}' 파일로 색상 맵을 저장합니다...\")\n",
    "with open(OUTPUT_COLOR_MAP, 'w', encoding='utf-8') as f:\n",
    "    json.dump(color_map, f, ensure_ascii=False, indent=4)\n",
    "\n",
    "print(\"\\n--- 모든 전처리 작업 완료! ---\")\n",
    "print(f\"'{OUTPUT_CSV}'와 '{OUTPUT_COLOR_MAP}' 파일이 성공적으로 생성되었습니다.\")\n"
   ]
  },
  {
   "cell_type": "code",
   "execution_count": null,
   "metadata": {
    "id": "v1Ytj7DbJwRL"
   },
   "outputs": [],
   "source": []
  }
 ],
 "metadata": {
  "colab": {
   "authorship_tag": "ABX9TyO/crHl54dbLHAQjJ9d7qgA",
   "provenance": []
  },
  "kernelspec": {
   "display_name": "Python 3",
   "name": "python3"
  },
  "language_info": {
   "name": "python"
  }
 },
 "nbformat": 4,
 "nbformat_minor": 0
}
